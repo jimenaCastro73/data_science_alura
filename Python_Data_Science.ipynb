{
  "nbformat": 4,
  "nbformat_minor": 0,
  "metadata": {
    "colab": {
      "provenance": [],
      "include_colab_link": true
    },
    "kernelspec": {
      "name": "python3",
      "display_name": "Python 3"
    },
    "language_info": {
      "name": "python"
    }
  },
  "cells": [
    {
      "cell_type": "markdown",
      "metadata": {
        "id": "view-in-github",
        "colab_type": "text"
      },
      "source": [
        "<a href=\"https://colab.research.google.com/github/jimenaCastro73/data_science_alura/blob/main/Python_Data_Science.ipynb\" target=\"_parent\"><img src=\"https://colab.research.google.com/assets/colab-badge.svg\" alt=\"Open In Colab\"/></a>"
      ]
    },
    {
      "cell_type": "markdown",
      "source": [
        "# Python para Data Science\n",
        "\n",
        "Notebook para el curso de Python para Data Science publicado en la plataforma de [Alura Latam](https://www.aluracursos.com/)"
      ],
      "metadata": {
        "id": "lQx6Mmv0OJyT"
      }
    },
    {
      "cell_type": "markdown",
      "source": [
        " **`>>> Usa esta celda para mover <<<`**"
      ],
      "metadata": {
        "id": "2iUHQsJasJAk"
      }
    },
    {
      "cell_type": "markdown",
      "source": [
        "# Introducción a Python\n",
        "¡Vamos a conocer Python, nuestro ambiente de estudio, y también generaremos nuestro primer código en este lenguaje!"
      ],
      "metadata": {
        "id": "7SiB6JIpYKmY"
      }
    },
    {
      "cell_type": "markdown",
      "source": [
        "## Google Colaboratory\n",
        "\n",
        "Ya aprendimos qué es [Python](https://www.python.org/) y ahora aprenderemos a usar nuestra herramienta de ejecución [Google Colaboratory](https://colab.research.google.com/) para programar en un notebook interactivo.\n",
        "\n",
        "Vamos a probar algunas funciones de este ambiente."
      ],
      "metadata": {
        "id": "Yugfb3fCOYY9"
      }
    },
    {
      "cell_type": "markdown",
      "source": [
        "## ¡Hola mundo!\n",
        "\n",
        "Vamos a conocer un poco más de cerca nuestro notebook. Para ello ejecutaremos nuestro primer comando en Python: [`print()`](https://docs.python.org/3/library/functions.html#print)"
      ],
      "metadata": {
        "id": "aLSFP2V7XTfe"
      }
    },
    {
      "cell_type": "code",
      "source": [
        "print('hola mundo')"
      ],
      "metadata": {
        "id": "o7jrX_iKhdkU",
        "colab": {
          "base_uri": "https://localhost:8080/"
        },
        "outputId": "214dae16-2851-4ea6-86b9-187ba46bdb0e"
      },
      "execution_count": null,
      "outputs": [
        {
          "output_type": "stream",
          "name": "stdout",
          "text": [
            "hola mundo\n"
          ]
        }
      ]
    },
    {
      "cell_type": "code",
      "source": [
        "print(3)"
      ],
      "metadata": {
        "id": "0qZX8_ZQBYyk",
        "colab": {
          "base_uri": "https://localhost:8080/"
        },
        "outputId": "d5642e1d-4d7b-40fb-d04a-21787d9c39ae"
      },
      "execution_count": null,
      "outputs": [
        {
          "output_type": "stream",
          "name": "stdout",
          "text": [
            "3\n"
          ]
        }
      ]
    },
    {
      "cell_type": "code",
      "source": [
        "print('hola mundo')"
      ],
      "metadata": {
        "id": "GLMzF_AKBY7a",
        "colab": {
          "base_uri": "https://localhost:8080/"
        },
        "outputId": "602cc5d6-4326-4cc9-c93c-4db4497e4a54"
      },
      "execution_count": null,
      "outputs": [
        {
          "output_type": "stream",
          "name": "stdout",
          "text": [
            "hola mundo\n"
          ]
        }
      ]
    },
    {
      "cell_type": "markdown",
      "source": [
        "# Desafío: ¡Es hora de practicar!\n",
        "\n",
        "Vamos a practicar el uso de la función print con algunas actividades. Para ello, resuelve los problemas propuestos en código:\n",
        "\n",
        "1 - Imprime la frase \"Escuela de Datos de Alura\"."
      ],
      "metadata": {
        "id": "bs81GKDZbQRc"
      }
    },
    {
      "cell_type": "code",
      "source": [
        "print('1. Escuela de Datos Alura')"
      ],
      "metadata": {
        "colab": {
          "base_uri": "https://localhost:8080/"
        },
        "id": "dF5A-8FvauKv",
        "outputId": "7eb424ae-8ff5-4be2-e25b-65e1d983af81"
      },
      "execution_count": null,
      "outputs": [
        {
          "output_type": "stream",
          "name": "stdout",
          "text": [
            "1. Escuela de Datos Alura\n"
          ]
        }
      ]
    },
    {
      "cell_type": "markdown",
      "source": [
        "2. 2 - Imprime tu nombre y tu apellido siguiendo la estructura a continuación:\n",
        "\n",
        "Nombre: [tu nombre]\n",
        "Apellido: [tu apellido]"
      ],
      "metadata": {
        "id": "l89G6uEqbWxf"
      }
    },
    {
      "cell_type": "code",
      "source": [
        "print('Nombre: Jimena')\n",
        "print('Apellido: Castro')"
      ],
      "metadata": {
        "colab": {
          "base_uri": "https://localhost:8080/"
        },
        "id": "jKQI3Yu3a2Pt",
        "outputId": "ca1a42bf-9d0d-441e-ca34-9cc3322514fe"
      },
      "execution_count": null,
      "outputs": [
        {
          "output_type": "stream",
          "name": "stdout",
          "text": [
            "Nombre: Jimena\n",
            "Apellido: Castro\n"
          ]
        }
      ]
    },
    {
      "cell_type": "markdown",
      "source": [
        "3 - Imprime tu primer nombre letra por letra. Por ejemplo, si mi nombre es Álvaro, la salida sería:\n",
        "\n",
        "Á\n",
        "L\n",
        "V\n",
        "A\n",
        "R\n",
        "O"
      ],
      "metadata": {
        "id": "jOupTL76baFd"
      }
    },
    {
      "cell_type": "code",
      "source": [
        "print('J')\n",
        "print('I')\n",
        "print('M')\n",
        "print('E')\n",
        "print('N')\n",
        "print('A')"
      ],
      "metadata": {
        "colab": {
          "base_uri": "https://localhost:8080/"
        },
        "id": "i022fEJMbDZj",
        "outputId": "51b454e7-8f03-4909-e77d-27046f232834"
      },
      "execution_count": null,
      "outputs": [
        {
          "output_type": "stream",
          "name": "stdout",
          "text": [
            "J\n",
            "I\n",
            "M\n",
            "E\n",
            "N\n",
            "A\n"
          ]
        }
      ]
    },
    {
      "cell_type": "markdown",
      "source": [
        "4 - Imprime tu fecha de nacimiento en formato día mes año. Recuerda que los valores de día y año no deben estar entre comillas. Suponiendo una fecha de cumpleaños el 28 de febrero de 2003, el formato debe ser como el siguiente:\n",
        "\n",
        "28 febrero 2003"
      ],
      "metadata": {
        "id": "hG7GeomGbcuS"
      }
    },
    {
      "cell_type": "code",
      "source": [
        "print(3, 'mayo', 2005)"
      ],
      "metadata": {
        "colab": {
          "base_uri": "https://localhost:8080/"
        },
        "id": "UAeStap5bMSE",
        "outputId": "231d9133-0e96-4457-b8d9-b6450b7907d6"
      },
      "execution_count": null,
      "outputs": [
        {
          "output_type": "stream",
          "name": "stdout",
          "text": [
            "3 mayo 2005\n"
          ]
        }
      ]
    },
    {
      "cell_type": "markdown",
      "source": [
        "5 - Imprime, en una sola instrucción print, el año actual en el que estás realizando este curso. El valor del año debe ser un dato numérico, y la salida de print debe ser la siguiente:\n",
        "\n",
        "Año actual: [año]"
      ],
      "metadata": {
        "id": "CkOYzQkEcI2T"
      }
    },
    {
      "cell_type": "code",
      "source": [
        "print('Año Actual:', 2025)"
      ],
      "metadata": {
        "colab": {
          "base_uri": "https://localhost:8080/"
        },
        "id": "9P23_dMkcKkR",
        "outputId": "c7c2a77b-cd91-4fb3-ba17-e764f47d596f"
      },
      "execution_count": null,
      "outputs": [
        {
          "output_type": "stream",
          "name": "stdout",
          "text": [
            "Año Actual: 2025\n"
          ]
        }
      ]
    },
    {
      "cell_type": "markdown",
      "source": [
        "# Manipulando los datos\n",
        "\n",
        "Vamos a aprender sobre las variables en Python, cómo declararlas y utilizarlas además de conocer otros comandos de este lenguaje. :D"
      ],
      "metadata": {
        "id": "iP8uWQmFYFRs"
      }
    },
    {
      "cell_type": "markdown",
      "source": [
        "## Variables\n",
        "\n",
        "En Data Science trabajamos con varios tipos de datos e informaciones, entonces es esencial saber cómo trabajar con las variables."
      ],
      "metadata": {
        "id": "sLNVmnTbag1Z"
      }
    },
    {
      "cell_type": "markdown",
      "source": [
        "Las variables en Python se crean cuando atribuimos un valor a ella.\n",
        "\n",
        "Para esto, colocamos el nombre de la variable, el signo de igual (`=`) y el valor que queremos atribuirle."
      ],
      "metadata": {
        "id": "lsCY0wahAbf6"
      }
    },
    {
      "cell_type": "code",
      "source": [
        "id(5)"
      ],
      "metadata": {
        "id": "vsHh5buZADND",
        "colab": {
          "base_uri": "https://localhost:8080/"
        },
        "outputId": "7a823da5-aed9-4576-da39-699a09e175f1"
      },
      "execution_count": null,
      "outputs": [
        {
          "output_type": "execute_result",
          "data": {
            "text/plain": [
              "10750984"
            ]
          },
          "metadata": {},
          "execution_count": 22
        }
      ]
    },
    {
      "cell_type": "code",
      "source": [
        "edad = 5"
      ],
      "metadata": {
        "id": "sivPtqSjADQV"
      },
      "execution_count": null,
      "outputs": []
    },
    {
      "cell_type": "code",
      "source": [
        "print(id(edad))\n",
        "print(id(5))"
      ],
      "metadata": {
        "colab": {
          "base_uri": "https://localhost:8080/"
        },
        "id": "1LjVXJQ1d0ZK",
        "outputId": "53fba73a-ee05-4055-a2c4-c8d67a342c3a"
      },
      "execution_count": null,
      "outputs": [
        {
          "output_type": "stream",
          "name": "stdout",
          "text": [
            "10750984\n",
            "10750984\n"
          ]
        }
      ]
    },
    {
      "cell_type": "code",
      "source": [
        "numeroCinco = 5"
      ],
      "metadata": {
        "id": "OKIu28ttd0uZ"
      },
      "execution_count": null,
      "outputs": []
    },
    {
      "cell_type": "code",
      "source": [
        "id(numeroCinco)"
      ],
      "metadata": {
        "id": "JC8jO47wADlm",
        "colab": {
          "base_uri": "https://localhost:8080/"
        },
        "outputId": "ff3e670e-e8ec-4d7b-c726-1284729a5e26"
      },
      "execution_count": null,
      "outputs": [
        {
          "output_type": "execute_result",
          "data": {
            "text/plain": [
              "10750984"
            ]
          },
          "metadata": {},
          "execution_count": 27
        }
      ]
    },
    {
      "cell_type": "markdown",
      "source": [
        "Existen algunos tipos de nomes que **no** podemos definir para las variables:\n",
        "\n",
        "- **Nombres que comiencen con números**\n",
        "  - Ejemplos: `10_notas`, `2_nombre_casa`, etc.\n",
        "- **Palabras separadas por espacio**\n",
        "  - Ejemplos: `Nombre escuela`, `notas estudiantes`, etc.\n",
        "- **Nombres de funciones de Python**\n",
        "  - Ejemplos: `print`, `type`, etc."
      ],
      "metadata": {
        "id": "om2N0jHKAzwL"
      }
    },
    {
      "cell_type": "markdown",
      "source": [
        "> Las letras mayúsculas y minúsculas generarán diferentes variables. La variable `edad` es diferente de `Edad` que a su vez es diferente de `EDAD`:\n",
        "``` Python\n",
        "edad = 1\n",
        "Edad = 2\n",
        "EDAD = 3\n",
        "_edad = 4\n",
        "_edad_ = 5\n",
        "print(edad, Edad, EDAD, _edad, _edad_)\n",
        "1 2 3 4 5\n",
        "```"
      ],
      "metadata": {
        "id": "A19vY2GVMujB"
      }
    },
    {
      "cell_type": "markdown",
      "source": [
        "## Tipos de variables\n",
        "\n",
        "Cada variable contiene una clase específica con respecto al tipo de objeto al cual esta hace referencia. Estas clases serán diferentes de acuerdo con el tipo de dato que le sea atribuido a una variable.\n",
        "\n",
        "Para conocer la clase de cada elemento usamos la función [`type()`](https://docs.python.org/3/library/functions.html#type)"
      ],
      "metadata": {
        "id": "UqhzuBhBHsps"
      }
    },
    {
      "cell_type": "code",
      "source": [
        "edad = 5"
      ],
      "metadata": {
        "id": "J5a9t73A_-PX"
      },
      "execution_count": null,
      "outputs": []
    },
    {
      "cell_type": "code",
      "source": [
        "type(edad)"
      ],
      "metadata": {
        "id": "rqmO1ew-_-So",
        "colab": {
          "base_uri": "https://localhost:8080/"
        },
        "outputId": "e89e4958-bbb1-48a8-fb08-76d61fba551e"
      },
      "execution_count": null,
      "outputs": [
        {
          "output_type": "execute_result",
          "data": {
            "text/plain": [
              "int"
            ]
          },
          "metadata": {},
          "execution_count": 29
        }
      ]
    },
    {
      "cell_type": "code",
      "source": [
        "promedio = 9.5"
      ],
      "metadata": {
        "id": "xkrPMkeY_-cP"
      },
      "execution_count": null,
      "outputs": []
    },
    {
      "cell_type": "code",
      "source": [
        "type(promedio)"
      ],
      "metadata": {
        "colab": {
          "base_uri": "https://localhost:8080/"
        },
        "id": "IzmDorJlhErY",
        "outputId": "8e248e5b-5c37-4ccc-dfce-5cb2fb15bfa6"
      },
      "execution_count": null,
      "outputs": [
        {
          "output_type": "execute_result",
          "data": {
            "text/plain": [
              "float"
            ]
          },
          "metadata": {},
          "execution_count": 31
        }
      ]
    },
    {
      "cell_type": "code",
      "source": [
        "nombre = \"jms\"\n",
        "type(nombre)\n",
        "type('jms')"
      ],
      "metadata": {
        "colab": {
          "base_uri": "https://localhost:8080/"
        },
        "id": "aoIusdUdhKcT",
        "outputId": "bdda1911-0d7c-48ed-9658-5fb0d1bd2a1e"
      },
      "execution_count": null,
      "outputs": [
        {
          "output_type": "execute_result",
          "data": {
            "text/plain": [
              "str"
            ]
          },
          "metadata": {},
          "execution_count": 32
        }
      ]
    },
    {
      "cell_type": "code",
      "source": [
        "v = True\n",
        "f = False\n",
        "type(v)\n",
        "type(f)"
      ],
      "metadata": {
        "colab": {
          "base_uri": "https://localhost:8080/"
        },
        "id": "o0v3DN2xhULS",
        "outputId": "7c401e02-eb17-4079-9721-861628b35ed3"
      },
      "execution_count": null,
      "outputs": [
        {
          "output_type": "execute_result",
          "data": {
            "text/plain": [
              "bool"
            ]
          },
          "metadata": {},
          "execution_count": 33
        }
      ]
    },
    {
      "cell_type": "markdown",
      "source": [
        "En un conjunto de datos escolares podemos tener varios tipos de informaciones. Supongamos que tenemos acceso a la ficha de datos del alumno *Penélope Camacho*, cómo transformamos este nombre en variables de Python?\n",
        "\n",
        "#### Ficha:\n",
        "\n",
        "- Nombre: Penélope Camacho\n",
        "- Edad: 11 años\n",
        "- Promedio del semestre: 9,75\n",
        "- Situación de aprobación: Verdadera (aprobado)"
      ],
      "metadata": {
        "id": "O-FxDumfWu0C"
      }
    },
    {
      "cell_type": "code",
      "source": [
        "nombre_alumno = 'Pelélope Camacho'\n",
        "edad = 11\n",
        "promedio = 9.75\n",
        "aprobado = True\n",
        "\n",
        "print(nombre_alumno, edad, promedio, aprobado)"
      ],
      "metadata": {
        "id": "FabQ7jQf_8Xt",
        "colab": {
          "base_uri": "https://localhost:8080/"
        },
        "outputId": "26c5c37c-46eb-42b8-b006-b39c7a7b8129"
      },
      "execution_count": null,
      "outputs": [
        {
          "output_type": "stream",
          "name": "stdout",
          "text": [
            "Pelélope Camacho 11 9.75 True\n"
          ]
        }
      ]
    },
    {
      "cell_type": "code",
      "source": [
        "nombre_alumno = 'Pelélope Camacho'\n",
        "edad = 11\n",
        "promedio = 9.75\n",
        "aprobado = True\n",
        "\n",
        "print(type(nombre_alumno), type(edad), type(promedio), type(aprobado))"
      ],
      "metadata": {
        "id": "IZLQnZUj_8bd",
        "colab": {
          "base_uri": "https://localhost:8080/"
        },
        "outputId": "419af042-159b-41ec-b8a3-bfa51dded6b4"
      },
      "execution_count": null,
      "outputs": [
        {
          "output_type": "stream",
          "name": "stdout",
          "text": [
            "<class 'str'> <class 'int'> <class 'float'> <class 'bool'>\n"
          ]
        }
      ]
    },
    {
      "cell_type": "markdown",
      "source": [
        "## Variables numéricas\n",
        "\n",
        "Entre los tipos de datos numéricos vamos a enfocarnos en los tipos `entero` y `float`."
      ],
      "metadata": {
        "id": "KFq_8Sxf-OG0"
      }
    },
    {
      "cell_type": "markdown",
      "source": [
        "Tenemos una tabla de información sobre los diversos cargos, cantidad de personas empleadas y el salario correspondiente:\n",
        "\n",
        "|Cargo | Cantidad | Salario|\n",
        "|---|---|---|\n",
        "|Vigilante | 5 | 300 |\n",
        "|Docente | 16| 500|\n",
        "|Coordinador| 2 |600|\n",
        "\n",
        "Necesitamos trabajar con estos datos para obtener:\n",
        "\n",
        "- La cantidad total de empleados;\n",
        "- La diferencia entre el salario más bajo y más alto; y\n",
        "- El promedio ponderado de los salarios de los empleados de la escuela."
      ],
      "metadata": {
        "id": "8_HYUbkVYdQY"
      }
    },
    {
      "cell_type": "code",
      "source": [
        "vigilanteCantidad = 5\n",
        "docenteCantidad = 16\n",
        "coordinadorCantidad = 2\n",
        "\n",
        "vigilanteSalario = 300\n",
        "docenteSalario = 500\n",
        "coordinadorSalario = 600"
      ],
      "metadata": {
        "id": "F_X-wxdm_5Ys"
      },
      "execution_count": null,
      "outputs": []
    },
    {
      "cell_type": "code",
      "source": [
        "total_empleados = vigilanteCantidad + docenteCantidad + coordinadorCantidad\n",
        "total_empleados"
      ],
      "metadata": {
        "id": "gKmBbhII_5b9",
        "colab": {
          "base_uri": "https://localhost:8080/"
        },
        "outputId": "a11d34bf-b1e7-413d-88a6-d258b15423ff"
      },
      "execution_count": null,
      "outputs": [
        {
          "output_type": "execute_result",
          "data": {
            "text/plain": [
              "23"
            ]
          },
          "metadata": {},
          "execution_count": 39
        }
      ]
    },
    {
      "cell_type": "code",
      "source": [
        "diferenciaSalario = coordinadorSalario - vigilanteSalario\n",
        "diferenciaSalario"
      ],
      "metadata": {
        "id": "fIugsxNy_53j",
        "colab": {
          "base_uri": "https://localhost:8080/"
        },
        "outputId": "c123f3c1-c49d-4e66-e358-2a83e7d5de34"
      },
      "execution_count": null,
      "outputs": [
        {
          "output_type": "execute_result",
          "data": {
            "text/plain": [
              "300"
            ]
          },
          "metadata": {},
          "execution_count": 40
        }
      ]
    },
    {
      "cell_type": "code",
      "source": [
        "promedioSalario = (vigilanteSalario * vigilanteCantidad + docenteCantidad * docenteSalario + coordinadorCantidad * coordinadorSalario )/total_empleados\n",
        "promedioSalario"
      ],
      "metadata": {
        "colab": {
          "base_uri": "https://localhost:8080/"
        },
        "id": "myRMwEFjjb-8",
        "outputId": "5cbee896-65ef-4d4d-987a-a3c842d1490e"
      },
      "execution_count": null,
      "outputs": [
        {
          "output_type": "execute_result",
          "data": {
            "text/plain": [
              "465.2173913043478"
            ]
          },
          "metadata": {},
          "execution_count": 41
        }
      ]
    },
    {
      "cell_type": "code",
      "source": [
        "type(promedioSalario)"
      ],
      "metadata": {
        "colab": {
          "base_uri": "https://localhost:8080/"
        },
        "id": "GA3Xw8rfj6qu",
        "outputId": "fec34e7c-579f-45ad-f132-f3abeb2f81ed"
      },
      "execution_count": null,
      "outputs": [
        {
          "output_type": "execute_result",
          "data": {
            "text/plain": [
              "float"
            ]
          },
          "metadata": {},
          "execution_count": 42
        }
      ]
    },
    {
      "cell_type": "markdown",
      "source": [
        "## Strings"
      ],
      "metadata": {
        "id": "yQy7b0ZWoD-P"
      }
    },
    {
      "cell_type": "markdown",
      "source": [
        "Strings hace referencia a un conjunto de caracteres formando un texto.\n",
        "\n",
        "Podemos crear Strings cuando atribuimos un dato a una variable entre comillas sencillas (`'`) o comillas dobles (`\"`)."
      ],
      "metadata": {
        "id": "vlo2-DXusv3s"
      }
    },
    {
      "cell_type": "code",
      "source": [],
      "metadata": {
        "id": "ityEWqvh_2wK"
      },
      "execution_count": null,
      "outputs": []
    },
    {
      "cell_type": "markdown",
      "source": [
        "Las variables textuales son objetos que poseen métodos que nos ayudan a formatear strings. Los métodos los podemos ejecutar al definir un objeto de acuerdo con la siguiente estructura:\n",
        "\n",
        "```\n",
        "objeto.metodo()\n",
        "```\n",
        "\n",
        "Existen métodos que no necesitan los `()`, siempre es una buena práctica verificar la documentación para cada caso."
      ],
      "metadata": {
        "id": "2e9UD_CCxqz_"
      }
    },
    {
      "cell_type": "markdown",
      "source": [
        "---\n",
        "**Situación:**\n",
        "\n",
        "Recibimos una variable con el nombre de una profesora de la escuela para añadirla a los registros. Sin embargo, necesitamos darle un tratamiento a este texto antes de insertarlo al sistema."
      ],
      "metadata": {
        "id": "p6aPmMGP4tf9"
      }
    },
    {
      "cell_type": "code",
      "source": [
        "texto = '  Micaela de los Sanyos '\n",
        "id(texto)"
      ],
      "metadata": {
        "id": "icDWtYTjBO0n",
        "colab": {
          "base_uri": "https://localhost:8080/"
        },
        "outputId": "fdb89095-a607-4ff5-b8fd-7578e47490d7"
      },
      "execution_count": null,
      "outputs": [
        {
          "output_type": "execute_result",
          "data": {
            "text/plain": [
              "132646903210800"
            ]
          },
          "metadata": {},
          "execution_count": 45
        }
      ]
    },
    {
      "cell_type": "markdown",
      "source": [
        "El objetivo final es que el nombre aparezca de la siguiente forma:\n",
        "\n",
        "```\n",
        "'MICAELA DE LOS SANTOS'\n",
        "```"
      ],
      "metadata": {
        "id": "Dg2ZXSZOGzjC"
      }
    },
    {
      "cell_type": "markdown",
      "source": [
        "### [`str.upper()` ](https://docs.python.org/3/library/stdtypes.html#str.upper)\n",
        "Convierte una string a mayúsculas."
      ],
      "metadata": {
        "id": "iVTAD8q702eN"
      }
    },
    {
      "cell_type": "code",
      "source": [
        "texto.upper()"
      ],
      "metadata": {
        "id": "wMVshJrY_ZXh",
        "colab": {
          "base_uri": "https://localhost:8080/",
          "height": 36
        },
        "outputId": "bfe1ce5a-9507-4132-8059-f3450a8d8064"
      },
      "execution_count": null,
      "outputs": [
        {
          "output_type": "execute_result",
          "data": {
            "text/plain": [
              "'  MICAELA DE LOS SANYOS '"
            ],
            "application/vnd.google.colaboratory.intrinsic+json": {
              "type": "string"
            }
          },
          "metadata": {},
          "execution_count": 46
        }
      ]
    },
    {
      "cell_type": "markdown",
      "source": [
        "### [`str.lower()`](https://docs.python.org/3/library/stdtypes.html#str.lower)\n",
        "Convierte una string a minúsculas."
      ],
      "metadata": {
        "id": "hbDSBtMV1TpG"
      }
    },
    {
      "cell_type": "code",
      "source": [
        "texto.lower()"
      ],
      "metadata": {
        "id": "px3yEeNH_YK4",
        "colab": {
          "base_uri": "https://localhost:8080/",
          "height": 36
        },
        "outputId": "01b2a3f5-4c85-4399-b579-2798daa27698"
      },
      "execution_count": null,
      "outputs": [
        {
          "output_type": "execute_result",
          "data": {
            "text/plain": [
              "'  micaela de los sanyos '"
            ],
            "application/vnd.google.colaboratory.intrinsic+json": {
              "type": "string"
            }
          },
          "metadata": {},
          "execution_count": 47
        }
      ]
    },
    {
      "cell_type": "markdown",
      "source": [
        "### [`str.strip()`](https://docs.python.org/3/library/stdtypes.html#str.strip)\n",
        "Elimina los espacios en blanco al inicio y al final de una string."
      ],
      "metadata": {
        "id": "kz47eWM11gii"
      }
    },
    {
      "cell_type": "code",
      "source": [
        "texto.strip()"
      ],
      "metadata": {
        "id": "76dLgNa4_XAe",
        "colab": {
          "base_uri": "https://localhost:8080/",
          "height": 36
        },
        "outputId": "069ebefd-a9f8-4e88-91a7-f2c20f3d5e3e"
      },
      "execution_count": null,
      "outputs": [
        {
          "output_type": "execute_result",
          "data": {
            "text/plain": [
              "'Micaela de los Sanyos'"
            ],
            "application/vnd.google.colaboratory.intrinsic+json": {
              "type": "string"
            }
          },
          "metadata": {},
          "execution_count": 48
        }
      ]
    },
    {
      "cell_type": "markdown",
      "source": [
        "### [`str.replace(antiguo, nuevo)`](https://docs.python.org/3/library/stdtypes.html#str.replace)\n",
        "\n",
        "Sustituye todas las ocurrencias del texto \"antiguo\" en la string por el  \"nuevo\"."
      ],
      "metadata": {
        "id": "m6notiyS1SCV"
      }
    },
    {
      "cell_type": "code",
      "source": [
        "texto.replace('y','t')"
      ],
      "metadata": {
        "id": "PNXAixtE_V6R",
        "colab": {
          "base_uri": "https://localhost:8080/",
          "height": 36
        },
        "outputId": "0d1d5e6a-7af4-49a3-f320-dcf045d02b82"
      },
      "execution_count": null,
      "outputs": [
        {
          "output_type": "execute_result",
          "data": {
            "text/plain": [
              "'  Micaela de los Santos '"
            ],
            "application/vnd.google.colaboratory.intrinsic+json": {
              "type": "string"
            }
          },
          "metadata": {},
          "execution_count": 49
        }
      ]
    },
    {
      "cell_type": "code",
      "source": [
        "texto"
      ],
      "metadata": {
        "colab": {
          "base_uri": "https://localhost:8080/",
          "height": 36
        },
        "id": "emhtJMsHlQ6p",
        "outputId": "c3840624-e52c-47f0-eaba-79dad9620140"
      },
      "execution_count": null,
      "outputs": [
        {
          "output_type": "execute_result",
          "data": {
            "text/plain": [
              "'  Micaela de los Sanyos '"
            ],
            "application/vnd.google.colaboratory.intrinsic+json": {
              "type": "string"
            }
          },
          "metadata": {},
          "execution_count": 50
        }
      ]
    },
    {
      "cell_type": "code",
      "source": [
        "id(texto)"
      ],
      "metadata": {
        "colab": {
          "base_uri": "https://localhost:8080/"
        },
        "id": "Uqo70VLjlTcV",
        "outputId": "39978e55-7d08-4a66-9a24-ed780034e166"
      },
      "execution_count": null,
      "outputs": [
        {
          "output_type": "execute_result",
          "data": {
            "text/plain": [
              "132646903210800"
            ]
          },
          "metadata": {},
          "execution_count": 51
        }
      ]
    },
    {
      "cell_type": "markdown",
      "source": [
        "### Observaciones\n",
        "\n",
        "1. Los métodos devuelven una **tranformación**, no son ejecutados directamente sobre la variable donde está almacenado el texto.\n",
        "\n",
        "2. Adicionalmente, podemos acumular la ejecución de los métodos."
      ],
      "metadata": {
        "id": "zukvEjhG2Rcn"
      }
    },
    {
      "cell_type": "markdown",
      "source": [
        "Para que la transformación se pueda ejecutar debemos atribuir la salida de las transformaciones a las variables"
      ],
      "metadata": {
        "id": "1KbwfVut2h6I"
      }
    },
    {
      "cell_type": "code",
      "source": [
        "nuevoTexto = texto.strip().replace('y','t').upper()\n",
        "print(texto, nuevoTexto)\n",
        "print(id(texto), id(nuevoTexto))"
      ],
      "metadata": {
        "id": "ocPP-Jaj_SJI",
        "colab": {
          "base_uri": "https://localhost:8080/"
        },
        "outputId": "b7f428fc-bda7-4631-b06f-5ca2fb733f5b"
      },
      "execution_count": null,
      "outputs": [
        {
          "output_type": "stream",
          "name": "stdout",
          "text": [
            "  Micaela de los Sanyos  MICAELA DE LOS SANTOS\n",
            "132646903210800 132646901342144\n"
          ]
        }
      ]
    },
    {
      "cell_type": "code",
      "source": [
        "texto = texto.strip().replace('y','t').upper()\n",
        "print(texto)\n",
        "print(id(texto), id(nuevoTexto))"
      ],
      "metadata": {
        "id": "m1RvLGZZ_SP3",
        "colab": {
          "base_uri": "https://localhost:8080/"
        },
        "outputId": "3042ecf6-79a9-4aca-862c-303c3ff7a337"
      },
      "execution_count": null,
      "outputs": [
        {
          "output_type": "stream",
          "name": "stdout",
          "text": [
            "MICAELA DE LOS SANTOS\n",
            "132646901208832 132646901342144\n"
          ]
        }
      ]
    },
    {
      "cell_type": "markdown",
      "source": [
        " Micaela de los Sanyos  MICAELA DE LOS SANTOS\n",
        "**132646903210800** 132646901342144\n",
        "\n",
        "[54]\n",
        "0 s\n",
        "texto = texto.strip().replace('y','t').upper()\n",
        "print(texto)\n",
        "print(id(texto), id(nuevoTexto))\n",
        "MICAELA DE LOS SANTOS\n",
        "**132646901208832** 132646901342144\n",
        "\n",
        "el espacio en memoria primero se perdio y no esta enlazado"
      ],
      "metadata": {
        "id": "ITRpnkXWmb0k"
      }
    },
    {
      "cell_type": "markdown",
      "source": [
        "## Capturando datos\n",
        "\n",
        "En algunas aplicaciones necesitamos capturar los valores del usuario de nuestro proyecto. En python, logramos capturar los datos del usuario a través del comando [`input()`](https://docs.python.org/3/library/functions.html#input).\n",
        "\n",
        "Para ejecutar la captura debemos atribuir el resultado de esta función a una variable."
      ],
      "metadata": {
        "id": "0h9Fh5G9kHCa"
      }
    },
    {
      "cell_type": "code",
      "source": [
        "nombre = input('Ingresa tu nombre:')"
      ],
      "metadata": {
        "id": "zbH_9i3q_PdY",
        "colab": {
          "base_uri": "https://localhost:8080/"
        },
        "outputId": "371d92e3-7ab7-4d28-b9b8-ebe34a190055"
      },
      "execution_count": null,
      "outputs": [
        {
          "name": "stdout",
          "output_type": "stream",
          "text": [
            "Ingresa tu nombre:jms\n"
          ]
        }
      ]
    },
    {
      "cell_type": "code",
      "source": [
        "print(nombre)"
      ],
      "metadata": {
        "id": "JZy1Q9Tl_PgL",
        "colab": {
          "base_uri": "https://localhost:8080/"
        },
        "outputId": "6f8529e8-2549-438d-f1d7-967c6c35fbb3"
      },
      "execution_count": null,
      "outputs": [
        {
          "output_type": "stream",
          "name": "stdout",
          "text": [
            "jms\n"
          ]
        }
      ]
    },
    {
      "cell_type": "markdown",
      "source": [
        "La salida de este comando siempre será una *string*. Esto quiere decir que aunque capturemos un valor de variable numérica, este será de tipo string.\n",
        "\n",
        "Entonces, será necesario **convertir el resultado cuando no se desea utilizar el valor como tipo string**."
      ],
      "metadata": {
        "id": "7z7hcLCk_aCY"
      }
    },
    {
      "cell_type": "markdown",
      "source": [
        "Existen funciones para la conversión de valores:\n",
        "\n",
        "- Enteros: [`int(dato_para_conversion)`](https://docs.python.org/3/library/functions.html#int)\n",
        "- Coma flotante: [`float(dato_para_conversion)`](https://docs.python.org/3/library/functions.html#float)\n",
        "- String: [`str(dato_para_conversion)`](https://docs.python.org/3/library/functions.html#func-str)\n",
        "- Booleano: [`bool(dato_para_conversion)`](https://docs.python.org/3/library/functions.html#bool)"
      ],
      "metadata": {
        "id": "TOlegATj1Jfp"
      }
    },
    {
      "cell_type": "code",
      "source": [
        "ano_admision = int(input('Ingrese el año de admision: '))"
      ],
      "metadata": {
        "id": "M2ueeH6l_NMe",
        "colab": {
          "base_uri": "https://localhost:8080/"
        },
        "outputId": "405a808c-f70d-4ae4-8a8a-5e54fe236a97"
      },
      "execution_count": null,
      "outputs": [
        {
          "name": "stdout",
          "output_type": "stream",
          "text": [
            "Ingrese el año de admision: 2022\n"
          ]
        }
      ]
    },
    {
      "cell_type": "code",
      "source": [
        "type(ano_admision)"
      ],
      "metadata": {
        "id": "xfWwuViK_NUn",
        "colab": {
          "base_uri": "https://localhost:8080/"
        },
        "outputId": "000b3afd-2daf-43f8-8921-9b0cd0f25391"
      },
      "execution_count": null,
      "outputs": [
        {
          "output_type": "execute_result",
          "data": {
            "text/plain": [
              "int"
            ]
          },
          "metadata": {},
          "execution_count": 65
        }
      ]
    },
    {
      "cell_type": "code",
      "source": [
        "ano_salida = int(input('ingrese el año de salida: '))"
      ],
      "metadata": {
        "id": "uFCHDyew_NZm",
        "colab": {
          "base_uri": "https://localhost:8080/"
        },
        "outputId": "52c17eb7-15d6-484c-b052-d0a6d792fe7e"
      },
      "execution_count": null,
      "outputs": [
        {
          "name": "stdout",
          "output_type": "stream",
          "text": [
            "ingrese el año de salida: 2026\n"
          ]
        }
      ]
    },
    {
      "cell_type": "markdown",
      "source": [
        "Trataremos de representar mejor ahora el resultado de la transformación que obtuvimos. Nosotros podemos formatear y presentar nuestro resultado mezclando strings con valores no textuales.\n",
        "\n",
        "Para ello utilizamos la estructura de formatación `f` con strings."
      ],
      "metadata": {
        "id": "yNI2-XTbB3aS"
      }
    },
    {
      "cell_type": "code",
      "source": [
        "ano_admision - ano_salida"
      ],
      "metadata": {
        "id": "keJjA5N9_K5i",
        "colab": {
          "base_uri": "https://localhost:8080/"
        },
        "outputId": "1b124c2f-66c9-40b1-d565-78c6ea06e321"
      },
      "execution_count": null,
      "outputs": [
        {
          "output_type": "execute_result",
          "data": {
            "text/plain": [
              "-4"
            ]
          },
          "metadata": {},
          "execution_count": 66
        }
      ]
    },
    {
      "cell_type": "code",
      "source": [
        "print(f'El año de admision fue {ano_admision} \\nEl año de salida es en {ano_salida}')"
      ],
      "metadata": {
        "colab": {
          "base_uri": "https://localhost:8080/"
        },
        "id": "4nzzefAgoDBl",
        "outputId": "ac15ad10-8075-4a7c-d4e5-dfa2b92dc5ea"
      },
      "execution_count": null,
      "outputs": [
        {
          "output_type": "stream",
          "name": "stdout",
          "text": [
            "El año de admision fue 2022 \n",
            "El año de salida es en 2026\n"
          ]
        }
      ]
    },
    {
      "cell_type": "markdown",
      "source": [
        "# Desafío: ¡Es hora de practicar!\n",
        "\n",
        "Vamos a practicar el uso de varios tipos de variables y la función input a través de algunas actividades. Resuelve los problemas propuestos en código."
      ],
      "metadata": {
        "id": "3d31VRz-pcJI"
      }
    },
    {
      "cell_type": "markdown",
      "source": [
        "Recopilación y muestra de datos\n",
        "\n",
        "1 - Crea un programa que solicite al usuario que escriba su nombre y luego imprima \"Hola, [nombre].\""
      ],
      "metadata": {
        "id": "ekzejaUqpkLl"
      }
    },
    {
      "cell_type": "code",
      "source": [
        "nombre = input('Escribe tu nombre: ')\n",
        "print(f'Hola {nombre}')"
      ],
      "metadata": {
        "id": "eR2gtq6mppUh",
        "outputId": "5918b6bd-72ee-46c2-8327-b85421bbf0fe",
        "colab": {
          "base_uri": "https://localhost:8080/"
        }
      },
      "execution_count": null,
      "outputs": [
        {
          "output_type": "stream",
          "name": "stdout",
          "text": [
            "Escribe tu nombre: jimena\n",
            "Hola jimena\n"
          ]
        }
      ]
    },
    {
      "cell_type": "markdown",
      "source": [
        "2 - Crea un programa que solicite al usuario que escriba su nombre y edad, y luego imprima \"Hola, [nombre], tienes [edad] años.\""
      ],
      "metadata": {
        "id": "EbItDHzjppwA"
      }
    },
    {
      "cell_type": "code",
      "source": [
        "nombre = input('Escribe tu nombre: ')\n",
        "edad = int(input('Ingresa tu edad: '))\n",
        "print(f'Hola, {nombre}, tienes {edad} años.')"
      ],
      "metadata": {
        "id": "FpbPRwO4puH-",
        "outputId": "f3f75a0b-393b-4304-858a-73476b0a4fab",
        "colab": {
          "base_uri": "https://localhost:8080/"
        }
      },
      "execution_count": null,
      "outputs": [
        {
          "output_type": "stream",
          "name": "stdout",
          "text": [
            "Escribe tu nombre: jimena\n",
            "Ingresa tu edad: 19\n",
            "Hola, jimena, tienes19 años.\n"
          ]
        }
      ]
    },
    {
      "cell_type": "markdown",
      "source": [
        "3 - Crea un programa que solicite al usuario que escriba su nombre, edad y altura en metros, y luego imprima \"Hola, [nombre], tienes [edad] años y mides [altura] metros.\""
      ],
      "metadata": {
        "id": "FZFBrAh4pvUN"
      }
    },
    {
      "cell_type": "code",
      "source": [
        "nombre = input('Escribe tu nombre: ')\n",
        "edad = int(input('Ingresa tu edad: '))\n",
        "altura = float(input('Ingresa tu estatura en metros: '))\n",
        "print(f'Hola, {nombre}, tienes {edad} años y mides {altura} metros.')"
      ],
      "metadata": {
        "id": "4z3n9aNXpxQR",
        "outputId": "ce55972d-a7ea-452d-ce1b-5bdb2108cacc",
        "colab": {
          "base_uri": "https://localhost:8080/"
        }
      },
      "execution_count": null,
      "outputs": [
        {
          "output_type": "stream",
          "name": "stdout",
          "text": [
            "Escribe tu nombre: jimena\n",
            "Ingresa tu edad: 19\n",
            "Ingresa tu estatura en metros: 1.70\n",
            "Hola, jimena, tienes 19 años y mides 1.7 metros.\n"
          ]
        }
      ]
    },
    {
      "cell_type": "markdown",
      "source": [
        "Calculadora con operadores\n",
        "\n",
        "4 - Crea un programa que solicite dos valores numéricos al usuario y luego imprima la suma de ambos valores."
      ],
      "metadata": {
        "id": "gdF5FU1FpyC4"
      }
    },
    {
      "cell_type": "code",
      "source": [
        "a = int(input('Ingrese el primer valor: '))\n",
        "b = int(input('Ingrese el segundo valor: '))\n",
        "print(a + b)"
      ],
      "metadata": {
        "id": "S-41vT6Rp3VH",
        "outputId": "1d47bf6d-85e9-4c45-a288-fbdcd4ee4928",
        "colab": {
          "base_uri": "https://localhost:8080/"
        }
      },
      "execution_count": null,
      "outputs": [
        {
          "output_type": "stream",
          "name": "stdout",
          "text": [
            "Ingrese el primer valor: 78\n",
            "Ingrese el segundo valor: 125\n",
            "203\n"
          ]
        }
      ]
    },
    {
      "cell_type": "markdown",
      "source": [
        "5 - Crea un programa que solicite tres valores numéricos al usuario y luego imprima la suma de los tres valores."
      ],
      "metadata": {
        "id": "hlbSf90Ip4BD"
      }
    },
    {
      "cell_type": "code",
      "source": [
        "a = int(input('Ingrese el primer valor: '))\n",
        "b = int(input('Ingrese el segundo valor: '))\n",
        "c = int(input('Ingrese el tercer valor: '))\n",
        "print(a + b + c)"
      ],
      "metadata": {
        "id": "wbfUTKX3p5mn",
        "outputId": "2dc2ad41-7ab0-4736-9ae1-aa49117ab49c",
        "colab": {
          "base_uri": "https://localhost:8080/"
        }
      },
      "execution_count": null,
      "outputs": [
        {
          "output_type": "stream",
          "name": "stdout",
          "text": [
            "Ingrese el primer valor: 78\n",
            "Ingrese el segundo valor: 75\n",
            "Ingrese el tercer valor: 75\n",
            "228\n"
          ]
        }
      ]
    },
    {
      "cell_type": "markdown",
      "source": [
        "6 - Crea un programa que solicite dos valores numéricos al usuario y luego imprima la resta del primero menos el segundo valor."
      ],
      "metadata": {
        "id": "EZ7MHAkqp6A2"
      }
    },
    {
      "cell_type": "code",
      "source": [
        "a = int(input('Ingrese el primer valor: '))\n",
        "b = int(input('Ingrese el segundo valor: '))\n",
        "print(a - b)"
      ],
      "metadata": {
        "id": "USW5mEMdp78Y",
        "outputId": "be124d82-5a50-4e3a-846c-b69c63495fed",
        "colab": {
          "base_uri": "https://localhost:8080/"
        }
      },
      "execution_count": null,
      "outputs": [
        {
          "output_type": "stream",
          "name": "stdout",
          "text": [
            "Ingrese el primer valor: 79\n",
            "Ingrese el segundo valor: 75\n",
            "4\n"
          ]
        }
      ]
    },
    {
      "cell_type": "markdown",
      "source": [
        "7 - Crea un programa que solicite dos valores numéricos al usuario y luego imprima la multiplicación de los dos valores."
      ],
      "metadata": {
        "id": "XcwPcQTbp8dc"
      }
    },
    {
      "cell_type": "code",
      "source": [
        "a = int(input('Ingrese el primer valor: '))\n",
        "b = int(input('Ingrese el segundo valor: '))\n",
        "print(a * b)"
      ],
      "metadata": {
        "id": "MBDNANb0p-aU",
        "outputId": "8805f195-4fb1-4085-e43b-87eea42ee0be",
        "colab": {
          "base_uri": "https://localhost:8080/"
        }
      },
      "execution_count": null,
      "outputs": [
        {
          "output_type": "stream",
          "name": "stdout",
          "text": [
            "Ingrese el primer valor: 78\n",
            "Ingrese el segundo valor: 23\n",
            "1794\n"
          ]
        }
      ]
    },
    {
      "cell_type": "markdown",
      "source": [
        "8 - Crea un programa que solicite dos valores numéricos, un numerador y un denominador, y realice la división entre los dos valores. Asegúrate de que el valor del denominador no sea igual a 0."
      ],
      "metadata": {
        "id": "c286zzI7p-1y"
      }
    },
    {
      "cell_type": "code",
      "source": [
        "numerador = int(input('Ingrese el numerador: '))\n",
        "denominador = int(input('Ingrese el denominador (OBS: el valor no puede ser nulo): '))\n",
        "print(numerador / denominador)"
      ],
      "metadata": {
        "id": "cWi_BPdrqAsw",
        "outputId": "794c8597-4a19-44b3-a437-b34e6bf5a680",
        "colab": {
          "base_uri": "https://localhost:8080/"
        }
      },
      "execution_count": null,
      "outputs": [
        {
          "output_type": "stream",
          "name": "stdout",
          "text": [
            "Ingrese el numerador: 78\n",
            "Ingrese el denominador (OBS: el valor no puede ser nulo): 32\n",
            "2.4375\n"
          ]
        }
      ]
    },
    {
      "cell_type": "markdown",
      "source": [
        "9 - Crea un programa que solicite dos valores numéricos, un operador y una potencia, y realice la exponenciación entre estos dos valores."
      ],
      "metadata": {
        "id": "8zA-6mr_qBQH"
      }
    },
    {
      "cell_type": "code",
      "source": [
        "operador = int(input('Ingrese el valor del operador: '))\n",
        "potencia = int(input('Ingrese el valor de la potencia: '))\n",
        "print(operador ** potencia)"
      ],
      "metadata": {
        "id": "pf0vVnh6qDCv",
        "outputId": "2a857463-ebe4-480c-91a2-05585915fd5f",
        "colab": {
          "base_uri": "https://localhost:8080/"
        }
      },
      "execution_count": null,
      "outputs": [
        {
          "output_type": "stream",
          "name": "stdout",
          "text": [
            "Ingrese el valor del operador: 78\n",
            "Ingrese el valor de la potencia: 2\n",
            "6084\n"
          ]
        }
      ]
    },
    {
      "cell_type": "markdown",
      "source": [
        "10 - Crea un programa que solicite dos valores numéricos, un numerador y un denominador, y realice la división entera entre los dos valores. Asegúrate de que el valor del denominador no sea igual a 0."
      ],
      "metadata": {
        "id": "UNS1tvdoqDbw"
      }
    },
    {
      "cell_type": "code",
      "source": [
        "numerador = int(input('Ingrese el numerador: '))\n",
        "denominador = int(input('Ingrese el denominador (OBS: el valor no puede ser nulo): '))\n",
        "print(numerador // denominador)"
      ],
      "metadata": {
        "id": "-scqjlANqFCu",
        "outputId": "bce285e3-83f0-441d-b898-b822ce4f99d4",
        "colab": {
          "base_uri": "https://localhost:8080/"
        }
      },
      "execution_count": null,
      "outputs": [
        {
          "output_type": "stream",
          "name": "stdout",
          "text": [
            "Ingrese el numerador: 78\n",
            "Ingrese el denominador (OBS: el valor no puede ser nulo): 78\n",
            "1\n"
          ]
        }
      ]
    },
    {
      "cell_type": "markdown",
      "source": [
        "11 - Crea un programa que solicite dos valores numéricos, un numerador y un denominador, y devuelva el resto de la división entre los dos valores. Asegúrate de que el valor del denominador no sea igual a 0."
      ],
      "metadata": {
        "id": "vstox8WZqFcO"
      }
    },
    {
      "cell_type": "code",
      "source": [
        "numerador = int(input('Ingrese el numerador: '))\n",
        "denominador = int(input('Ingrese el denominador (OBS: el valor no puede ser nulo): '))\n",
        "print(numerador % denominador)"
      ],
      "metadata": {
        "id": "OSmuz-AxqHoH",
        "outputId": "05429a38-f0a6-4ef1-c5fd-8d71a4877073",
        "colab": {
          "base_uri": "https://localhost:8080/"
        }
      },
      "execution_count": null,
      "outputs": [
        {
          "output_type": "stream",
          "name": "stdout",
          "text": [
            "Ingrese el numerador: 78\n",
            "Ingrese el denominador (OBS: el valor no puede ser nulo): 12\n",
            "6\n"
          ]
        }
      ]
    },
    {
      "cell_type": "markdown",
      "source": [
        "12 - Crea un código que solicite las 3 notas de un estudiante e imprima el promedio de las notas."
      ],
      "metadata": {
        "id": "awIEhYl4qID4"
      }
    },
    {
      "cell_type": "code",
      "source": [
        "nota_1 = float(input('Ingrese la 1° nota: '))\n",
        "nota_2 = float(input('Ingrese la 2° nota: '))\n",
        "nota_3 = float(input('Ingrese la 3° nota: '))\n",
        "print(f'Media {(nota_1+nota_2+nota_3)/3}.')"
      ],
      "metadata": {
        "id": "LMsiSGJnqJk5",
        "outputId": "a12e38fb-95a5-4a93-f24d-2ab06602afe9",
        "colab": {
          "base_uri": "https://localhost:8080/"
        }
      },
      "execution_count": null,
      "outputs": [
        {
          "output_type": "stream",
          "name": "stdout",
          "text": [
            "Ingrese la 1° nota: 78\n",
            "Ingrese la 2° nota: 90\n",
            "Ingrese la 3° nota: 100\n",
            "Media 89.33333333333333.\n"
          ]
        }
      ]
    },
    {
      "cell_type": "markdown",
      "source": [
        "13 - Crea un código que calcule e imprima el promedio ponderado de los números 5, 12, 20 y 15 con pesos respectivamente iguales a 1, 2, 3 y 4."
      ],
      "metadata": {
        "id": "fKN_OzMMqKEy"
      }
    },
    {
      "cell_type": "code",
      "source": [
        "media_ponderada = (5*1 + 12*2 + 20*3 + 15*4) / (1+2+3+4)\n",
        "print(f'Media {media_ponderada}.')"
      ],
      "metadata": {
        "id": "nQDag7xAqMEo",
        "outputId": "4e6174da-a687-4f05-9d36-eb623eae561a",
        "colab": {
          "base_uri": "https://localhost:8080/"
        }
      },
      "execution_count": null,
      "outputs": [
        {
          "output_type": "stream",
          "name": "stdout",
          "text": [
            "Media 14.9.\n"
          ]
        }
      ]
    },
    {
      "cell_type": "markdown",
      "source": [
        "Editando textos\n",
        "\n",
        "14 - Crea una variable llamada \"frase\" y asígnale una cadena de texto de tu elección. Luego, imprime la frase en pantalla."
      ],
      "metadata": {
        "id": "kPvAfULAqMgD"
      }
    },
    {
      "cell_type": "code",
      "source": [
        "frase = '¡Hola Python!'\n",
        "print(frase)"
      ],
      "metadata": {
        "id": "qeY5GAHHqQfN",
        "outputId": "15029195-d053-4731-d5f1-81747196d00b",
        "colab": {
          "base_uri": "https://localhost:8080/"
        }
      },
      "execution_count": null,
      "outputs": [
        {
          "output_type": "stream",
          "name": "stdout",
          "text": [
            "¡Hola Python!\n"
          ]
        }
      ]
    },
    {
      "cell_type": "markdown",
      "source": [
        "15 - Crea un código que solicite una frase y luego imprima la frase en pantalla."
      ],
      "metadata": {
        "id": "5sJtmY-RqRIW"
      }
    },
    {
      "cell_type": "code",
      "source": [
        "frase = input('Escribe una frase: ')\n",
        "print(frase)"
      ],
      "metadata": {
        "id": "obgTvKIxqTKx",
        "outputId": "5726aebd-fd7e-4b39-e09c-4823d34a8767",
        "colab": {
          "base_uri": "https://localhost:8080/"
        }
      },
      "execution_count": null,
      "outputs": [
        {
          "output_type": "stream",
          "name": "stdout",
          "text": [
            "Escribe una frase: curiosamente\n",
            "curiosamente\n"
          ]
        }
      ]
    },
    {
      "cell_type": "markdown",
      "source": [
        "16 - Crea un código que solicite una frase al usuario y luego imprima la misma frase ingresada pero en mayúsculas."
      ],
      "metadata": {
        "id": "7NjSCCPyqTqr"
      }
    },
    {
      "cell_type": "code",
      "source": [
        "frase = input('Escribe una frase: ')\n",
        "print(frase.upper())"
      ],
      "metadata": {
        "id": "u3mgrLU6qW3e",
        "outputId": "9414dfcd-132e-48d0-8a6b-fbbed9808a75",
        "colab": {
          "base_uri": "https://localhost:8080/"
        }
      },
      "execution_count": null,
      "outputs": [
        {
          "output_type": "stream",
          "name": "stdout",
          "text": [
            "Escribe una frase: jimena\n",
            "JIMENA\n"
          ]
        }
      ]
    },
    {
      "cell_type": "markdown",
      "source": [
        "17 - Crea un código que solicite una frase al usuario y luego imprima la misma frase ingresada pero en minúsculas."
      ],
      "metadata": {
        "id": "p8-N6dGgqXZY"
      }
    },
    {
      "cell_type": "code",
      "source": [
        "frase = input('Escribe una frase: ')\n",
        "print(frase.lower())"
      ],
      "metadata": {
        "id": "z9kMeiRYqZPj",
        "outputId": "c103ab6f-cdb7-4b06-f9a8-498ec024367e",
        "colab": {
          "base_uri": "https://localhost:8080/"
        }
      },
      "execution_count": null,
      "outputs": [
        {
          "output_type": "stream",
          "name": "stdout",
          "text": [
            "Escribe una frase: adwioDW\n",
            "adwiodw\n"
          ]
        }
      ]
    },
    {
      "cell_type": "markdown",
      "source": [
        "18 - Crea una variable llamada \"frase\" y asígnale una cadena de texto de tu elección. Luego, imprime la frase sin espacios en blanco al principio y al final."
      ],
      "metadata": {
        "id": "N09RvHwyqZ-L"
      }
    },
    {
      "cell_type": "code",
      "source": [
        "frase = ' ¡Hola Python! '\n",
        "print(frase.strip())"
      ],
      "metadata": {
        "id": "sh5dWmOFqbdK",
        "outputId": "d79bebdf-1b38-434c-bd92-ca47b0c65112",
        "colab": {
          "base_uri": "https://localhost:8080/"
        }
      },
      "execution_count": null,
      "outputs": [
        {
          "output_type": "stream",
          "name": "stdout",
          "text": [
            "¡Hola Python!\n"
          ]
        }
      ]
    },
    {
      "cell_type": "markdown",
      "source": [
        "19 - Crea un código que solicite una frase al usuario y luego imprima la misma frase sin espacios en blanco al principio y al final."
      ],
      "metadata": {
        "id": "NlUwsHgEqb3b"
      }
    },
    {
      "cell_type": "code",
      "source": [
        "frase = input('Escribe una frase: ')\n",
        "print(frase.strip())"
      ],
      "metadata": {
        "id": "aG0sn-mRqd3Y",
        "outputId": "c822232f-5fcc-4dcc-d6ac-4148c3d57cd6",
        "colab": {
          "base_uri": "https://localhost:8080/"
        }
      },
      "execution_count": null,
      "outputs": [
        {
          "output_type": "stream",
          "name": "stdout",
          "text": [
            "Escribe una frase:  faefj fwfiowf \n",
            "faefj fwfiowf\n"
          ]
        }
      ]
    },
    {
      "cell_type": "markdown",
      "source": [
        "20 - Crea un código que solicite una frase al usuario y luego imprima la misma frase sin espacios en blanco al principio y al final, además de convertirla a minúsculas."
      ],
      "metadata": {
        "id": "l2KtjWJjqes1"
      }
    },
    {
      "cell_type": "code",
      "source": [
        "frase = input('Escribe una frase: ')\n",
        "print(frase.strip().lower())"
      ],
      "metadata": {
        "id": "AVi-sXv_qgb9",
        "outputId": "2411d377-1147-4e3d-adbf-9fb192a52aa9",
        "colab": {
          "base_uri": "https://localhost:8080/"
        }
      },
      "execution_count": null,
      "outputs": [
        {
          "output_type": "stream",
          "name": "stdout",
          "text": [
            "Escribe una frase: efdaw wef wefq \n",
            "efdaw wef wefq\n"
          ]
        }
      ]
    },
    {
      "cell_type": "markdown",
      "source": [
        "21 - Crea un código que solicite una frase al usuario y luego imprima la misma frase con todas las vocales \"e\" reemplazadas por la letra \"f\"."
      ],
      "metadata": {
        "id": "j_szuieQqhDn"
      }
    },
    {
      "cell_type": "code",
      "source": [
        "frase = input('Escribe una frase: ')\n",
        "print(frase.lower().replace('e','f'))"
      ],
      "metadata": {
        "id": "cm289dVmqiva",
        "outputId": "25da81f2-2ac9-4799-98f4-9db08fab020f",
        "colab": {
          "base_uri": "https://localhost:8080/"
        }
      },
      "execution_count": null,
      "outputs": [
        {
          "output_type": "stream",
          "name": "stdout",
          "text": [
            "Escribe una frase: hola nuts herman hesse\n",
            "hola nuts hfrman hfssf\n"
          ]
        }
      ]
    },
    {
      "cell_type": "markdown",
      "source": [
        "22 - Crea un código que solicite una frase al usuario y luego imprima la misma frase con todas las vocales \"a\" reemplazadas por el carácter \"@\"."
      ],
      "metadata": {
        "id": "D6PMiGNfqjNx"
      }
    },
    {
      "cell_type": "code",
      "source": [
        "frase = input('Escribe una frase: ')\n",
        "print(frase.lower().replace('a',chr(64)))"
      ],
      "metadata": {
        "id": "GS2EYHwrqkqA",
        "outputId": "fa829121-6ba4-4c4a-f8c6-108397b90b2e",
        "colab": {
          "base_uri": "https://localhost:8080/"
        }
      },
      "execution_count": null,
      "outputs": [
        {
          "output_type": "stream",
          "name": "stdout",
          "text": [
            "Escribe una frase: tecito de calzon\n",
            "tecito de c@lzon\n"
          ]
        }
      ]
    },
    {
      "cell_type": "markdown",
      "source": [
        "23 - Crea un código que solicite una frase al usuario y luego imprima la misma frase con todas las consonantes \"s\" reemplazadas por el carácter \"$\"."
      ],
      "metadata": {
        "id": "C-TMuN42qlDb"
      }
    },
    {
      "cell_type": "code",
      "source": [
        "frase = input('Escribe una frase: ')\n",
        "print(frase.lower().replace('s',chr(36)))"
      ],
      "metadata": {
        "id": "Bp9XLzxuqnOU",
        "outputId": "fcdfd5b0-ba29-4033-c56e-69e1d6d9e0cb",
        "colab": {
          "base_uri": "https://localhost:8080/"
        }
      },
      "execution_count": null,
      "outputs": [
        {
          "output_type": "stream",
          "name": "stdout",
          "text": [
            "Escribe una frase: hermann hesse\n",
            "hermann he$$e\n"
          ]
        }
      ]
    },
    {
      "cell_type": "markdown",
      "source": [
        "# Estructuras condicionales"
      ],
      "metadata": {
        "id": "NwRaiHHHhhyl"
      }
    },
    {
      "cell_type": "code",
      "source": [
        "# mayor que\n",
        "edad_maria = int(input('Ingrese la edad de María: '))\n",
        "edad_beatriz = int(input('Ingrese la edad de Beatriz: '))\n",
        "\n",
        "if edad_maria > edad_beatriz:\n",
        "  print('María es mayor que Beatriz.')"
      ],
      "metadata": {
        "colab": {
          "base_uri": "https://localhost:8080/"
        },
        "id": "sShHBSYnoI9z",
        "outputId": "3ac7c9e6-1689-42e7-fceb-7adbf3d86bd5"
      },
      "execution_count": 3,
      "outputs": [
        {
          "name": "stdout",
          "output_type": "stream",
          "text": [
            "Ingrese la edad de María: 10\n",
            "Ingrese la edad de Beatriz: 80\n"
          ]
        }
      ]
    },
    {
      "cell_type": "code",
      "source": [
        "# menor que\n",
        "edad_maria = int(input('Ingrese la edad de María: '))\n",
        "edad_beatriz = int(input('Ingrese la edad de Beatriz: '))\n",
        "\n",
        "if edad_maria < edad_beatriz:\n",
        "  print('María es menor que Beatriz.')"
      ],
      "metadata": {
        "colab": {
          "base_uri": "https://localhost:8080/"
        },
        "id": "7Qjorw3qoQZQ",
        "outputId": "18626631-016e-4bb6-c560-98ff83310253"
      },
      "execution_count": 4,
      "outputs": [
        {
          "name": "stdout",
          "output_type": "stream",
          "text": [
            "Ingrese la edad de María: 20\n",
            "Ingrese la edad de Beatriz: 10\n"
          ]
        }
      ]
    },
    {
      "cell_type": "code",
      "source": [
        "# mayor o igual que\n",
        "empleados_empresa_1 = int(input('Ingrese la cantidad de empleados de la empresa 1: '))\n",
        "empleados_empresa_2 = int(input('Ingrese la cantidad de empleados de la empresa 2: '))\n",
        "\n",
        "if empleados_empresa_1 >= empleados_empresa_2:\n",
        "  print('La empresa 1 tiene una cantidad de empleados mayor o igual a la empresa 2.')"
      ],
      "metadata": {
        "id": "UnQe41XvoWRi"
      },
      "execution_count": null,
      "outputs": []
    },
    {
      "cell_type": "code",
      "source": [
        "# menor o igual que\n",
        "empleados_empresa_1 = int(input('Ingrese la cantidad de empleados de la empresa 1: '))\n",
        "empleados_empresa_2 = int(input('Ingrese la cantidad de empleados de la empresa 2: '))\n",
        "\n",
        "if empleados_empresa_1 <= empleados_empresa_2:\n",
        "  print('La empresa 1 tiene una cantidad de empleados menor o igual a la empresa 2.')"
      ],
      "metadata": {
        "id": "MioqI78yoaXv"
      },
      "execution_count": null,
      "outputs": []
    },
    {
      "cell_type": "code",
      "source": [
        "# igual a\n",
        "libro_1 = input('Ingrese el título del 1° libro: ')\n",
        "libro_2 = input('Ingrese el título del 2° libro: ')\n",
        "\n",
        "if libro_1 == libro_2:\n",
        "  print('Los libros tienen el mismo título.')"
      ],
      "metadata": {
        "id": "Bz5ZOc4Uof_q"
      },
      "execution_count": null,
      "outputs": []
    },
    {
      "cell_type": "code",
      "source": [
        "# distinto de\n",
        "libro_1 = input('Ingrese el título del 1° libro: ')\n",
        "libro_2 = input('Ingrese el título del 2° libro: ')\n",
        "\n",
        "if libro_1 != libro_2:\n",
        "  print('Los libros tienen títulos diferentes.')"
      ],
      "metadata": {
        "id": "At9SmGiKokWz"
      },
      "execution_count": null,
      "outputs": []
    },
    {
      "cell_type": "markdown",
      "source": [
        "## `IF` y `ELSE`\n",
        "\n",
        "Los comandos `if` y `else` son dos estructuras condicionales. El comando `if` ejecutará el bloque de comandos en caso de que la condición citada sea  **verdadera**. El comando `else` ejecutará el bloque de comandos en el caso de que la condicional de `if` sea **falsa**."
      ],
      "metadata": {
        "id": "qXZqg9aYEhAh"
      }
    },
    {
      "cell_type": "markdown",
      "source": [
        "El comando `if` es una palabra clave en Python que significa \"si\". Este se emplea para conformar la estructura condicional, que te permite verificar si una determinada condición es verdadera o falsa e, inmediatamente después, ejecute un bloque de código específico dependiendo del resultado de la verificación. La sintaxis para usar el comando `if` es:\n",
        "\n",
        "\n",
        "\n",
        "```\n",
        "if condicion:\n",
        "    # Realiza algo\n",
        "```\n",
        "\n"
      ],
      "metadata": {
        "id": "EIhlqHXd2Gil"
      }
    },
    {
      "cell_type": "markdown",
      "source": [
        "Ya el comando `else` en Python se usa en junción con la palabra clave `if` para formar una estructura condicional. la sintaxis para usar el `else` es:\n",
        "\n",
        "```\n",
        "if condicion:\n",
        "  # codigo en caso de que sea verdad\n",
        "else:\n",
        "  # codigo en caso de que sea falso\n",
        "```\n",
        "\n",
        "el comando `else` se ejecuta cuando la condición verificada por el `if` es evaluada como `False`."
      ],
      "metadata": {
        "id": "27RW2v_sIKct"
      }
    },
    {
      "cell_type": "markdown",
      "source": [
        "---\n",
        "**Situación:**\n",
        "\n",
        "Recibiremos el promedio de la nota de los estudiantes y necesitamos de un algoritmo que ejecute el análisis y determine si el estudiante fue **Aprobado** o **Reprobado**, mostrando un mensaje del resultado. Para ser aprobado, el promedio necesita ser igual o superior a 7.0."
      ],
      "metadata": {
        "id": "BqORg85XX-Nl"
      }
    },
    {
      "cell_type": "code",
      "source": [
        "# Nota de aprobacion entre 7 y 10 == nota de aprobacion es mayor o igual a 7\n",
        "# Nota de reprobración menor a 7 == nota de reprobacion nota menor a 7\n",
        "\n",
        "\"\"\"\n",
        "Condicion si Nota es mayor o igual a 7 entonces\n",
        "estudiante aprueba\n",
        "siNo entonces\n",
        "estudiante reprueba\n",
        "\"\"\""
      ],
      "metadata": {
        "id": "pa4gLncu-mvU"
      },
      "execution_count": null,
      "outputs": []
    },
    {
      "cell_type": "code",
      "source": [
        "nota_1 = float(input('Ingrese la 1° nota: '))\n",
        "nota_2 = float(input('Ingrese la 2° nota: '))\n",
        "nota_3 = float(input('Ingrese la 3° nota: '))\n",
        "media = (nota_1+nota_2+nota_3)/3\n",
        "if (media >= 7): {\n",
        "    print(f'Media {media}.'),\n",
        "    print(\"Aprobado\")\n",
        "}\n",
        "else:{\n",
        "    print(f'Media {media}.'),\n",
        "    print(\"Reprobado\")\n",
        "}"
      ],
      "metadata": {
        "id": "_cWRmDiE-m4p",
        "colab": {
          "base_uri": "https://localhost:8080/"
        },
        "outputId": "bfb2f193-e9b8-472d-f552-669210dd2e0b"
      },
      "execution_count": 6,
      "outputs": [
        {
          "output_type": "stream",
          "name": "stdout",
          "text": [
            "Ingrese la 1° nota: 10\n",
            "Ingrese la 2° nota: 7\n",
            "Ingrese la 3° nota: 2\n",
            "Media 6.333333333333333.\n",
            "Reprobado\n"
          ]
        }
      ]
    },
    {
      "cell_type": "markdown",
      "source": [
        "Ahora, nuestra institución educativa estableció que las personas que tengan el promedio entre 5.0 y 7.0 pueden participar del curso de **Recuperación** durante las vacaciones para lograr aprobar.\n",
        "\n",
        "Entonces podemos apoyarnos en un conjunto de `if`s para poder estructurar esta nueva condición."
      ],
      "metadata": {
        "id": "bD9O17HB6LUo"
      }
    },
    {
      "cell_type": "code",
      "source": [
        "nota = float(input('Ingrese la nota: '))\n",
        "if (nota >= 7): {\n",
        "    print(\"Aprobado\")\n",
        "}\n",
        "if 7 > nota >= 5:{\n",
        "  # no esta incluyendo al 7\n",
        "  print(\"Recuperacion\")\n",
        "}\n",
        "if nota < 5 : {\n",
        "    print(\"Reprobado\")\n",
        "}"
      ],
      "metadata": {
        "id": "G9cJ5O9--W52",
        "colab": {
          "base_uri": "https://localhost:8080/"
        },
        "outputId": "07cbe7e7-5890-4b97-c0ab-f75a9353b1b5"
      },
      "execution_count": 8,
      "outputs": [
        {
          "output_type": "stream",
          "name": "stdout",
          "text": [
            "Ingrese la nota: 8\n",
            "Aprobado\n"
          ]
        }
      ]
    },
    {
      "cell_type": "markdown",
      "source": [
        "Observa que en casos con 3 situaciones como este necesitamos definir bien nuestras condiciones. Pues, si realizamos una condición con `else` al final, este irá a considerar solamente la condición `if` inmediatamente anterior para generar la salida en caso de que el resultado de su operación lógica sea **falso** dando como resultado, dos o más ejecuciones.\n",
        "\n",
        "Por ejemplo:"
      ],
      "metadata": {
        "id": "D5e2mByjvycO"
      }
    },
    {
      "cell_type": "code",
      "source": [
        "nota = float(input('Ingrese la nota: '))\n",
        "if (nota >= 7): {\n",
        "    print(\"Aprobado\")\n",
        "}\n",
        "if 7 > nota >= 5:{\n",
        "  # no esta incluyendo al 7\n",
        "  print(\"Recuperacion\")\n",
        "}\n",
        "else: {\n",
        "    print(\"Reprobado\")\n",
        "}"
      ],
      "metadata": {
        "id": "iU-pjoJt-W89",
        "colab": {
          "base_uri": "https://localhost:8080/"
        },
        "outputId": "e086edf3-ff07-4220-f870-e912e2d3facc"
      },
      "execution_count": 9,
      "outputs": [
        {
          "output_type": "stream",
          "name": "stdout",
          "text": [
            "Ingrese la nota: 8\n",
            "Aprobado\n",
            "Reprobado\n"
          ]
        }
      ]
    },
    {
      "cell_type": "markdown",
      "source": [
        "## `ELIF`\n",
        "\n",
        "El comando `elif` es una palabra clave en Python que significa \"si no, si\" y lo podemos considerar una *contracción* entre `else` e `if`. Se utiliza en conjunto con la palabra clave `if` para formar una estructura condicional en cadena."
      ],
      "metadata": {
        "id": "04T5g-7h4zWx"
      }
    },
    {
      "cell_type": "markdown",
      "source": [
        "la sintaxis para utilizar el comando `elif` es:\n",
        "\n",
        "```\n",
        "if condicion1:\n",
        "    # Realiza algo\n",
        "elif condicion2:\n",
        "    # Realiza otra cosa\n",
        "elif condicion3:\n",
        "    # Realiza otra cosa\n",
        "else:\n",
        "    # Realiza algo diferente\n",
        "```\n",
        "\n",
        "El comando `elif` permite que puedas verificar varias condiciones en cadena, economizando espacio en tu código. Si la primera condición se evalúa como `False`, el interpretador de Python evaluará la próxima condición con el `elif`. Ello continuará hasta que una condición sea evaluada como `True` o hasta que el `else` sea alcazado. Si ninguna de las condiciones es evaluada como `True`, la ejecución del código del comando `else` será iniciada."
      ],
      "metadata": {
        "id": "rNBHr5mm1Lm6"
      }
    },
    {
      "cell_type": "markdown",
      "source": [
        "Vamos a emplear el mismo caso anterior:"
      ],
      "metadata": {
        "id": "MVoykFbB4bd4"
      }
    },
    {
      "cell_type": "code",
      "source": [
        "nota = float(input('Ingrese la nota: '))\n",
        "if (nota >= 7): {\n",
        "    print(\"Aprobado\")\n",
        "}\n",
        "elif 7 > nota >= 5:{\n",
        "  # no esta incluyendo al 7\n",
        "  print(\"Recuperacion\")\n",
        "}\n",
        "else: {\n",
        "    print(\"Reprobado\")\n",
        "}"
      ],
      "metadata": {
        "id": "QFamB78s-TW_",
        "colab": {
          "base_uri": "https://localhost:8080/"
        },
        "outputId": "9bc267e7-5b4d-4d88-8781-4aa370579448"
      },
      "execution_count": 12,
      "outputs": [
        {
          "output_type": "stream",
          "name": "stdout",
          "text": [
            "Ingrese la nota: 4\n",
            "Reprobado\n"
          ]
        }
      ]
    },
    {
      "cell_type": "markdown",
      "source": [
        "## Operadores\n",
        "\n",
        "Durante la construcción de comandos a veces necesitamos de una elaboración mayor de la expresión condicional, necesitando que algunos operadores lógicos se encuentren integrados."
      ],
      "metadata": {
        "id": "Tf1wSOem6iwZ"
      }
    },
    {
      "cell_type": "markdown",
      "source": [
        "### `AND`, `OR`, `NOT`\n",
        "\n",
        "Los operadores lógicos `and`, `or` y `not` son usados para combinar expresiones lógicas en Python. Ellos son usados frecuentemente en conjunto con el comando `if` para crear estructuras condicionales más complejas.\n"
      ],
      "metadata": {
        "id": "GFIZnRWXGPWO"
      }
    },
    {
      "cell_type": "markdown",
      "source": [
        "- `AND` es usado para verificar si dos condiciones son verdaderas. La expresión lógica¹ `x and y` se evalúa como `True` tan solo si **ambas condiciones `x` y `y` son verdaderas**, y como `False` en caso contrario.\n",
        "\n",
        "- `OR` es usado para verificar si al menos una de las condiciones es verdadera. La expresión lógica `x or y` se evalúa como `True` **si al menos una de las condiciones `x` o `y` es verdadera**, y como `False` si ambas condiciones son falsas.\n",
        "\n",
        "- `NOT` es usado para **negar una condición**. La expresión lógica `not x` es evaluada como `True` si la condición x es falsa, y como `False` si la condición x es verdadera.\n",
        "\n",
        "¹ Una expresión lógica es una declaración que puede ser evaluada como verdadera o falsa. Ella se compone por operandos lógicos² y por operadores lógicos³, que son usados ​​para combinar varias expresiones lógicas en una única expresión.\n",
        "\n",
        "² Los operandos lógicos son los elementos que son comparados o evaluados en una expresión lógica. Ellos son generalmente valores verdaderos o falsos, pero también pueden ser expresiones lógicas más complejas. En Python, los operandos lógicos son los valores `True` y `False`.\n",
        "\n",
        "³ Los operadores lógicos son ls símbolos o palabras clave que son usados ​​para combinar varias expresiones lógicas en una única expresión. En Python, los operadores lógicos son `and`, `or` y `not`, bien como las palabras clave `if`, `elif` e `else`."
      ],
      "metadata": {
        "id": "Z_dgAoHXJbzB"
      }
    },
    {
      "cell_type": "markdown",
      "source": [
        "> Operadores lógicos más comunes\n",
        "\n",
        "|a|b|AND|OR|NOT|\n",
        "|-|-|-|-|-|\n",
        "|0|0|0|0|1\n",
        "|0|1|0|1|-\n",
        "|1|0|0|1|-\n",
        "|1|1|1|1|0\n"
      ],
      "metadata": {
        "id": "2E5aUogf-49u"
      }
    },
    {
      "cell_type": "code",
      "source": [
        "v = True\n",
        "f = False"
      ],
      "metadata": {
        "id": "DFKmpvmS-Pa6"
      },
      "execution_count": 13,
      "outputs": []
    },
    {
      "cell_type": "code",
      "source": [
        "if v and v:{\n",
        "    print('la condicion es verdadera')\n",
        "}\n",
        "else:{\n",
        "print(\"la condicion es falsa\")\n",
        "}"
      ],
      "metadata": {
        "id": "W5BIrpOD-PeI",
        "colab": {
          "base_uri": "https://localhost:8080/"
        },
        "outputId": "26bd1b67-cd4f-4cf4-e300-0bc80bf8d9b2"
      },
      "execution_count": 16,
      "outputs": [
        {
          "output_type": "stream",
          "name": "stdout",
          "text": [
            "la condicion es verdadera\n"
          ]
        }
      ]
    },
    {
      "cell_type": "code",
      "source": [
        "if (f or f):{\n",
        "    print('la condicion es verdadera')\n",
        "}\n",
        "else:{\n",
        "print(\"la condicion es falsa\")\n",
        "}"
      ],
      "metadata": {
        "id": "fpDhYxq4-PiM",
        "colab": {
          "base_uri": "https://localhost:8080/"
        },
        "outputId": "ef61cead-d436-4a79-f173-24479af1e24b"
      },
      "execution_count": 20,
      "outputs": [
        {
          "output_type": "stream",
          "name": "stdout",
          "text": [
            "la condicion es falsa\n"
          ]
        }
      ]
    },
    {
      "cell_type": "code",
      "source": [
        "if not v:{\n",
        "    print('la condicion es verdadera')\n",
        "}\n",
        "else:{\n",
        "print(\"la condicion es falsa\")\n",
        "}"
      ],
      "metadata": {
        "colab": {
          "base_uri": "https://localhost:8080/"
        },
        "id": "r682o6_GtXzY",
        "outputId": "a6a81a66-d689-491c-b900-cf75b3e8e13e"
      },
      "execution_count": 18,
      "outputs": [
        {
          "output_type": "stream",
          "name": "stdout",
          "text": [
            "la condicion es falsa\n"
          ]
        }
      ]
    },
    {
      "cell_type": "markdown",
      "source": [
        "### `IN`\n",
        "\n",
        "Es usado para verificar si un elemento está presente en una lista, tupla u otra colección de conjunto. La expresión `x in y` se evalúa como `True` si el elemento `x` esta presente na variávelen la variable de conjunto `y`, y como `False` en caso contrario."
      ],
      "metadata": {
        "id": "w7EXG1dhWtja"
      }
    },
    {
      "cell_type": "markdown",
      "source": [
        "Podemos verificarlo con variables de texto.\n",
        "\n",
        "---\n",
        "\n",
        "**Situación:**\n",
        "\n",
        "En la escuela nos entregaron una lista con nombres de estudiantes que fueron aprobados según el promedio del semestre, pero es necesario verificar si algunos nombres están en esa lista para confirmar que los datos estén correctos.\n",
        "\n",
        "La lista distribuida puede ser observada a continuación:\n",
        "\n",
        "```\n",
        "lista = 'Juan Pérez, María González, Pedro Rodríguez, Ana López, Carlos Martínez,\n",
        "    Laura Sánchez, José García, Elena Fernández, Luis Morales, Carmen Torres,\n",
        "    David Ruiz, Isabel Ramírez, Javier Díaz, Sara Herrera, Miguel Castro,\n",
        "    Patricia Ortega, Francisco Vargas, Marta Jiménez, Manuel Medina, Rosa Molina,\n",
        "    Alejandro Silva, Silvia Ruiz, Andrés Torres, Natalia Soto, Diego Guerrero,\n",
        "    Paula Ríos, Ricardo Navarro, Alicia Cordero, Carlos Vidal, Lorena Gómez'\n",
        "```\n",
        "\n",
        "Los nombres que necesitas verificar son los siguientes:\n",
        "\n",
        "```\n",
        "nombre_1 = 'Miguel Castro'\n",
        "nombre_2 = 'Marcelo Noguera'\n",
        "```"
      ],
      "metadata": {
        "id": "enJNp6JenQbq"
      }
    },
    {
      "cell_type": "code",
      "source": [
        "lista = 'Juan Pérez, María González, Pedro Rodríguez, Ana López, Carlos Martínez,  Laura Sánchez, José García, Elena Fernández, Luis Morales, Carmen Torres, David Ruiz, Isabel Ramírez, Javier Díaz, Sara Herrera, Miguel Castro, Patricia Ortega, Francisco Vargas, Marta Jiménez, Manuel Medina, Rosa Molina, Alejandro Silva, Silvia Ruiz, Andrés Torres, Natalia Soto, Diego Guerrero, Paula Ríos, Ricardo Navarro, Alicia Cordero, Carlos Vidal, Lorena Gómez'"
      ],
      "metadata": {
        "id": "XvAf3ndyt7ut"
      },
      "execution_count": 22,
      "outputs": []
    },
    {
      "cell_type": "code",
      "source": [
        "nombre_1 = 'Miguel Castro'\n",
        "nombre_2 = 'Marcelo Noguera'"
      ],
      "metadata": {
        "id": "gPPN9BCT-Mki"
      },
      "execution_count": 21,
      "outputs": []
    },
    {
      "cell_type": "code",
      "source": [
        "if (nombre_1 in lista):{\n",
        "    print('El estudiante aprobó')\n",
        "}\n",
        "else:{\n",
        "    print('el estudiante reprobó')\n",
        "}"
      ],
      "metadata": {
        "id": "GINbG3Fa-Mnb",
        "colab": {
          "base_uri": "https://localhost:8080/"
        },
        "outputId": "fcc4111c-09d4-44f2-bbf4-0151bcedefd2"
      },
      "execution_count": 23,
      "outputs": [
        {
          "output_type": "stream",
          "name": "stdout",
          "text": [
            "El estudiante aprobó\n"
          ]
        }
      ]
    },
    {
      "cell_type": "code",
      "source": [
        "if (nombre_2 in lista):{\n",
        "    print('El estudiante aprobó')\n",
        "}\n",
        "else:{\n",
        "    print('el estudiante reprobó')\n",
        "}"
      ],
      "metadata": {
        "id": "hk-RhNRT-Mp7",
        "colab": {
          "base_uri": "https://localhost:8080/"
        },
        "outputId": "2c833789-6dc6-438b-ee65-5082ebe86408"
      },
      "execution_count": 24,
      "outputs": [
        {
          "output_type": "stream",
          "name": "stdout",
          "text": [
            "el estudiante reprobó\n"
          ]
        }
      ]
    },
    {
      "cell_type": "markdown",
      "source": [
        "# Desafío: ¡Es hora de practicar!\n",
        "\n",
        "Vamos practicar el uso de estructuras condicionales como el if, else y elif a través de algunas actividades. Ahora que estamos avanzando en los contenidos, podemos hacer los desafíos más interesantes: ¡trabajaremos en proyectos de código! Resuelve los problemas iniciales para prepararte para los proyectos:"
      ],
      "metadata": {
        "id": "4xyTK5FCvD64"
      }
    },
    {
      "cell_type": "markdown",
      "source": [
        "1 - Escribe un programa que pida a la persona usuaria que proporcione dos números y muestre el número más grande."
      ],
      "metadata": {
        "id": "yLHVr1RfvIPH"
      }
    },
    {
      "cell_type": "code",
      "source": [
        "# Recolectamos los números\n",
        "num1 = float(input('Ingrese el primer número: '))\n",
        "num2 = float(input('Ingrese el segundo número: '))\n",
        "# Comparamos ambos números y determinamos cuál es el mayor\n",
        "if num1 > num2:\n",
        "    print(f'El primer número es mayor: {num1}')\n",
        "elif num2 > num1:\n",
        "    print(f'El segundo número es mayor: {num2}')\n",
        "else: # En caso de que los números sean iguales\n",
        "    print('Ambos números son iguales.')"
      ],
      "metadata": {
        "id": "QHBrR9z4vG0f"
      },
      "execution_count": null,
      "outputs": []
    },
    {
      "cell_type": "markdown",
      "source": [
        "2 - Escribe un programa que solicite el porcentaje de crecimiento de producción de una empresa e informe si hubo un crecimiento (porcentaje positivo) o una disminución (porcentaje negativo)."
      ],
      "metadata": {
        "id": "bBU59LRuvKjB"
      }
    },
    {
      "cell_type": "code",
      "source": [
        "# Recolectamos el porcentaje\n",
        "variación = float(input('Ingrese el porcentaje de crecimiento: ')\n",
        "# Verificamos si el valor es positivo o negativo con una comparación para ver si el número\n",
        "# es mayor o menor que 0\n",
        "if variación > 0:\n",
        "    print(f'Hubo un crecimiento del {variación}%')\n",
        "elif variación < 0:\n",
        "    print(f'Hubo un decrecimiento del {variación}%')\n",
        "else:\n",
        "    print('No hubo crecimiento ni decrecimiento.')"
      ],
      "metadata": {
        "id": "eI55C8tFv0RQ"
      },
      "execution_count": null,
      "outputs": []
    },
    {
      "cell_type": "markdown",
      "source": [
        "3 - Escribe un programa que determine si una letra proporcionada por la persona usuaria es una vocal o una consonante. (Intructor: Podemos verificar si una letra es una vocal o una consonante al comprobar si el carácter está contenido en una cadena de vocales utilizando el operador in.)"
      ],
      "metadata": {
        "id": "M2wNZ_nxvMZY"
      }
    },
    {
      "cell_type": "code",
      "source": [
        "# Recolectamos la letra del usuario en minúsculas\n",
        "letra = input('Ingrese una letra: ').lower()\n",
        "vocales = 'aeiou' # cadena que contiene todas las vocales\n",
        "# Verificamos si la letra está en las vocales con `in`\n",
        "if letra in vocales:\n",
        "    print('La letra es una vocal.')\n",
        "else:\n",
        "    print('La letra es una consonante.')"
      ],
      "metadata": {
        "id": "mogu5658v2ZB"
      },
      "execution_count": null,
      "outputs": []
    },
    {
      "cell_type": "markdown",
      "source": [
        "4 - Escribe un programa que lea valores promedio de precios de un modelo de automóvil durante 3 años consecutivos y muestre el valor más alto y más bajo entre esos tres años.\n",
        "(Intructor: Comparamos cada valor con los otros dos valores correspondientes a los otros dos años y determinamos el valor más alto y el más bajo. Lo hacemos asignando inicialmente el valor de precio_ano1 como el valor máximo y, si encontramos un valor mayor, actualizamos la variable mayor. Utilizamos una lógica similar para encontrar el valor mínimo.)"
      ],
      "metadata": {
        "id": "liIE64vWvNrY"
      }
    },
    {
      "cell_type": "code",
      "source": [
        "# Recolectamos los precios de los 3 años\n",
        "precio_ano1 = float(input('Ingrese el precio promedio del automóvil en el primer año: '))\n",
        "precio_ano2 = float(input('Ingrese el precio promedio del automóvil en el segundo año: '))\n",
        "precio_ano3 = float(input('Ingrese el precio promedio del automóvil en el tercer año: '))\n",
        "# Determinamos el valor más alto mediante comparaciones\n",
        "mayor = precio_ano1\n",
        "if precio_ano2 > mayor:\n",
        "  mayor = precio_ano2\n",
        "if precio_ano3 > mayor:\n",
        "  mayor = precio_ano3\n",
        "# Determinamos el valor más bajo mediante comparaciones\n",
        "menor = precio_ano1\n",
        "if precio_ano2 < menor:\n",
        "  menor = precio_ano2\n",
        "if precio_ano3 < menor:\n",
        "  menor = precio_ano3\n",
        "# Mostramos los resultados\n",
        "print(f'El precio más alto fue de R$ {mayor}.')\n",
        "print(f'El precio más bajo fue de R$ {menor}.')"
      ],
      "metadata": {
        "id": "ahe7NWpTv5Aq"
      },
      "execution_count": null,
      "outputs": []
    },
    {
      "cell_type": "markdown",
      "source": [
        "5 - Escribe un programa que pregunte sobre el precio de tres productos e indique cuál es el producto más barato para comprar."
      ],
      "metadata": {
        "id": "n-9Jow3ovO9M"
      }
    },
    {
      "cell_type": "code",
      "source": [
        "# Recolectamos el precio de tres productos\n",
        "producto1 = float(input('Ingrese el precio del primer producto: '))\n",
        "producto2 = float(input('Ingrese el precio del segundo producto: '))\n",
        "producto3 = float(input('Ingrese el precio del tercer producto: '))\n",
        "\n",
        "# Usamos el operador lógico `and` para determinar cuál es el precio más bajo entre los 3 productos\n",
        "# ya que esto nos permite hacer una comparación de 3 entradas\n",
        "if producto1 < producto2 and producto1 < producto3:\n",
        "    print('El primer producto es el más barato.')\n",
        "elif producto2 < producto1 and producto2 < producto3:\n",
        "    print('El segundo producto es el más barato.')\n",
        "else:\n",
        "    print('El tercer producto es el más barato.')"
      ],
      "metadata": {
        "id": "fh-btzH8v8OY"
      },
      "execution_count": null,
      "outputs": []
    },
    {
      "cell_type": "markdown",
      "source": [
        "6 - Escribe un programa que lea tres números y los muestre en orden descendente.\n",
        "(Instructor:  Después de recolectar los 3 números, realizamos comparaciones siguiendo una lógica similar a la pregunta anterior. Utilizamos el operador lógico and para determinar cuál es el número más grande entre los 3 datos de productos, luego verificamos entre los dos más pequeños y finalmente utilizamos print para mostrar los números en orden descendente mediante varias declaraciones condicionales anidadas.)"
      ],
      "metadata": {
        "id": "jOp_k7agvQjm"
      }
    },
    {
      "cell_type": "code",
      "source": [
        "# Recolectamos los 3 números\n",
        "num1 = int(input('Ingrese el primer número: '))\n",
        "num2 = int(input('Ingrese el segundo número: '))\n",
        "num3 = int(input('Ingrese el tercer número: '))\n",
        "\n",
        "# Comparación entre los 3 números\n",
        "if (num1 >= num2) and (num1 >= num3):\n",
        "    print(num1)\n",
        "    if num2 >= num3:\n",
        "        print(num2)\n",
        "        print(num3)\n",
        "    else:\n",
        "        print(num3)\n",
        "        print(num2)\n",
        "elif (num2 >= num1) and (num2 >= num3):\n",
        "    print(num2)\n",
        "    if num1 >= num3:\n",
        "        print(num1)\n",
        "        print(num3)\n",
        "    else:\n",
        "        print(num3)\n",
        "        print(num1)\n",
        "else:\n",
        "    print(num3)\n",
        "    if num1 >= num2:\n",
        "        print(num1)\n",
        "        print(num2)\n",
        "    else:\n",
        "        print(num2)\n",
        "        print(num1)"
      ],
      "metadata": {
        "id": "YUCbm8kVv9lV"
      },
      "execution_count": null,
      "outputs": []
    },
    {
      "cell_type": "markdown",
      "source": [
        "7 -Escribe un programa que pregunte en qué turno estudia la persona usuaria (\"mañana\", \"tarde\" o \"noche\") y muestre el mensaje \"¡Buenos Días!\", \"¡Buenas Tardes!\", \"¡Buenas Noches!\" o \"Valor Inválido!\", según el caso."
      ],
      "metadata": {
        "id": "j18VUjbDvR2M"
      }
    },
    {
      "cell_type": "code",
      "source": [
        "# Recolectamos el turno de estudio\n",
        "turno = input('Ingresa en qué turno estudias (mañana, tarde o noche): ')\n",
        "\n",
        "# Comparamos la entrada con todas las opciones y mostramos el resultado.\n",
        "if turno == 'mañana':\n",
        "  print('¡Buenos Días!')\n",
        "elif turno == 'tarde':\n",
        "  print('¡Buenas Tardes!')\n",
        "elif turno == 'noche':\n",
        "  print('¡Buenas Noches!')\n",
        "else:\n",
        "  print('¡Valor Inválido!')"
      ],
      "metadata": {
        "id": "OMJ1OOxewZOa"
      },
      "execution_count": null,
      "outputs": []
    },
    {
      "cell_type": "markdown",
      "source": [
        "8 - Escribe un programa que solicite un número entero a la persona usuaria y determine si es par o impar. Pista: Puedes usar el operador módulo (%).\n",
        "(Instructor: Podemos usar el operador de módulo % para determinar si un número es par o impar. Si la división entera de un número entre 2 da como resultado 0, entonces es par. Si no, es impar. Esto se debe a que todos los números pares son divisibles por 2, por lo que no tienen un residuo en la división.)"
      ],
      "metadata": {
        "id": "K6RXkgvdvTLX"
      }
    },
    {
      "cell_type": "code",
      "source": [
        "# Recolectamos los datos\n",
        "num = int(input('Ingresa un número: '))\n",
        "\n",
        "# Verificamos si el número es par según el resultado del módulo\n",
        "if num % 2 == 0:\n",
        "    print('El número es par.')\n",
        "else:\n",
        "    print('El número es impar.')"
      ],
      "metadata": {
        "id": "JCx_ZCBmwaVJ"
      },
      "execution_count": null,
      "outputs": []
    },
    {
      "cell_type": "markdown",
      "source": [
        "9 - Escribe un programa que pida un número a la persona usuaria y le informe si es entero o decimal.\n",
        "\n",
        "(Instructor: Podemos usar el operador de módulo % para determinar si un número es entero o decimal. Si el operador de módulo % devuelve cero en la división entera de un número entre 1, entonces es un número entero. De lo contrario, es un número decimal.)"
      ],
      "metadata": {
        "id": "KLYbh_govUX9"
      }
    },
    {
      "cell_type": "code",
      "source": [
        "# Recolectamos los datos\n",
        "num = float(input('Ingresa un número: '))\n",
        "# Verificamos si el número es entero o decimal según el resultado del módulo\n",
        "if num % 1 == 0:\n",
        "    print('El número es entero.')\n",
        "else:\n",
        "    print('El número es decimal.')"
      ],
      "metadata": {
        "id": "W2yusAwkwbsI"
      },
      "execution_count": null,
      "outputs": []
    },
    {
      "cell_type": "markdown",
      "source": [
        "Momento de los proyectos\n",
        "\n",
        "10 - Un programa debe ser escrito para leer dos números y luego preguntar a la persona usuaria qué operación desea realizar. El resultado de la operación debe incluir información sobre el número, si es par o impar, positivo o negativo, e entero o decimal."
      ],
      "metadata": {
        "id": "Vjv77y40vV5X"
      }
    },
    {
      "cell_type": "code",
      "source": [
        "# Recolectamos los números a operar y solicitamos la operación deseada por el usuario\n",
        "num1 = float(input('Ingrese el primer número: '))\n",
        "num2 = float(input('Ingrese el segundo número: '))\n",
        "operación = input('Ingrese la operación deseada (+, -, *, /): ')\n",
        "\n",
        "# Verificamos la operación seleccionada y realizamos la operación matemática según la elección\n",
        "if operación == '+':\n",
        "    resultado = num1 + num2\n",
        "elif operación == '-':\n",
        "    resultado = num1 - num2\n",
        "elif operación == '*':\n",
        "    resultado = num1 * num2\n",
        "elif operación == '/':\n",
        "    resultado = num1 / num2\n",
        "else: # Especificamos un resultado en caso de que el usuario no ingrese una de las operaciones correctamente.\n",
        "    print('Operación no válida, el resultado de la operación será 0')\n",
        "    resultado = 0\n",
        "\n",
        "# Realizamos las mismas verificaciones que en preguntas anteriores para generar el informe del cálculo entre números\n",
        "if resultado % 1 == 0:\n",
        "    print('El resultado es un número entero.')\n",
        "else:\n",
        "    print('El resultado es un número decimal.')\n",
        "\n",
        "if resultado > 0:\n",
        "    print('El resultado es positivo.')\n",
        "else:\n",
        "    print('El resultado es negativo.')\n",
        "\n",
        "if resultado % 2 == 0:\n",
        "    print('El resultado es un número par.')\n",
        "else:\n",
        "    print('El resultado es un número impar.')"
      ],
      "metadata": {
        "id": "PJPyQ4-vwqOi"
      },
      "execution_count": null,
      "outputs": []
    },
    {
      "cell_type": "markdown",
      "source": [
        "11 - Escribe un programa que pida a la persona usuaria tres números que representan los lados de un triángulo. El programa debe informar si los valores pueden utilizarse para formar un triángulo y, en caso afirmativo, si es equilátero, isósceles o escaleno. Ten en cuenta algunas sugerencias:\n",
        "\n",
        "Tres lados forman un triángulo cuando la suma de cualesquiera dos lados es mayor que el tercero;\n",
        "Triángulo Equilátero: tres lados iguales;\n",
        "Triángulo Isósceles: dos lados iguales;\n",
        "Triángulo Escaleno: tres lados diferentes.\n",
        "\n",
        "(**Instructor**: Después de recolectar los valores de los 3 lados de un triángulo, debemos verificar si realmente pueden formar un triángulo siguiendo el consejo \"Tres lados forman un triángulo cuando la suma de cualquier par de lados es mayor que el tercer lado\". Esta verificación se puede realizar con el operador \"and\". Luego, podemos verificar si todos los lados son iguales, lo que forma un triángulo equilátero, o si todos los lados son diferentes, lo que forma un triángulo escaleno. Estas verificaciones se pueden realizar con el operador \"and\" y los operadores \"== y \"! =\". Finalmente, utilizamos \"else\" para el caso de un triángulo isósceles.)"
      ],
      "metadata": {
        "id": "dtXYrLAmvXe-"
      }
    },
    {
      "cell_type": "code",
      "source": [
        "# Recolectamos los lados de un triángulo\n",
        "print('Estamos recopilando los lados de un triángulo.')\n",
        "lado1 = float(input('Ingresa la longitud del primer lado: '))\n",
        "lado2 = float(input('Ingresa la longitud del segundo lado: '))\n",
        "lado3 = float(input('Ingresa la longitud del tercer lado: '))\n",
        "\n",
        "# Verificamos si los lados pueden formar un triángulo\n",
        "if (lado1 + lado2 > lado3) and (lado2 + lado3 > lado1) and (lado1 + lado3 > lado2):\n",
        "    print('¡Los valores pueden formar un triángulo!')\n",
        "    # Comparamos los lados para determinar el tipo de triángulo\n",
        "    if (lado1 == lado2) and (lado2 == lado3):\n",
        "        print('El triángulo es equilátero.')\n",
        "    elif (lado1 != lado2) and (lado2 != lado3) and (lado1 != lado3):\n",
        "        print('El triángulo es escaleno.')\n",
        "    else:\n",
        "        print('El triángulo es isósceles.')\n",
        "else:\n",
        "    print('¡Los valores no pueden formar un triángulo!')"
      ],
      "metadata": {
        "id": "SsrBqsYKw1G1"
      },
      "execution_count": null,
      "outputs": []
    },
    {
      "cell_type": "markdown",
      "source": [
        "12 - Un establecimiento está vendiendo combustibles con descuentos variables. Para el etanol, si la cantidad comprada es de hasta 15 litros, el descuento será del 2% por litro. En caso contrario, será del 4% por litro. Para el diésel, si la cantidad comprada es de hasta 15 litros, el descuento será del 3% por litro. En caso contrario, será del 5% por litro. El precio por litro de diésel es de R (dolares)2,00 y el precio por litro de etanol es de R(dolares) 1,70. Escribe un programa que lea la cantidad de litros vendidos y el tipo de combustible (E para etanol y D para diésel) y calcule el valor a pagar por el cliente. Ten en cuenta algunas sugerencias:\n",
        "\n",
        "El valor del descuento será el producto del precio por litro, la cantidad de litros y el valor del descuento.\n",
        "El valor a pagar por un cliente será el resultado de la multiplicación del precio por litro por la cantidad de litros menos el valor del descuento resultante del cálculo."
      ],
      "metadata": {
        "id": "gRORLgVbvaY2"
      }
    },
    {
      "cell_type": "code",
      "source": [
        "# Recolectamos la cantidad de litros y el tipo de combustible,\n",
        "# convirtiendo el carácter en mayúsculas para facilitar nuestro análisis\n",
        "cantidad_litros = float(input('Ingrese la cantidad de litros vendidos: '))\n",
        "tipo_combustible = input('Ingrese el tipo de combustible (E para etanol y D para diésel): ').upper()\n",
        "\n",
        "# Verificamos primero el tipo de combustible\n",
        "if tipo_combustible == 'E':\n",
        "  # Establecemos el precio por litro de etanol\n",
        "  precio_litro = 1.70\n",
        "  # Según la cantidad de litros, establecemos el descuento correspondiente\n",
        "  if cantidad_litros <= 15:\n",
        "    descuento = 0.02\n",
        "  else:\n",
        "    descuento = 0.04\n",
        "elif tipo_combustible == 'D':\n",
        "  # Establecemos el precio por litro de diésel\n",
        "  precio_litro = 2.00\n",
        "  # Según la cantidad de litros, establecemos el descuento correspondiente\n",
        "  if cantidad_litros <= 15:\n",
        "    descuento = 0.03\n",
        "  else:\n",
        "    descuento = 0.05\n",
        "# En caso de error en la especificación del tipo de combustible,\n",
        "# consideramos las entradas como no válidas y establecemos los precios y descuentos en 0\n",
        "else:\n",
        "    print('Entradas no válidas!')\n",
        "    precio_litro = 0\n",
        "    descuento = 0\n",
        "\n",
        "# Calculamos el valor del descuento, seguido del cálculo del precio descontado\n",
        "valor_descuento = precio_litro * cantidad_litros * descuento\n",
        "valor_pagado = precio_litro * cantidad_litros - valor_descuento\n",
        "\n",
        "# Resultado\n",
        "print(f'Valor a pagar por el cliente: R$ {valor_pagado}')"
      ],
      "metadata": {
        "id": "FILGPCCUw59A"
      },
      "execution_count": null,
      "outputs": []
    },
    {
      "cell_type": "markdown",
      "source": [
        "13 - En una empresa de venta de bienes raíces, debes crear un código que analice los datos de ventas anuales para ayudar a la dirección en la toma de decisiones. El código debe recopilar los datos de cantidad de ventas durante los años 2022 y 2023 y calcular la variación porcentual. A partir del valor de la variación, se deben proporcionar las siguientes sugerencias:\n",
        "\n",
        "Para una variación superior al 20%: bonificación para el equipo de ventas.\n",
        "Para una variación entre el 2% y el 20%: pequeña bonificación para el equipo de ventas.\n",
        "Para una variación entre el 2% y el -10%: planificación de políticas de incentivo a las ventas.\n",
        "Para bonificaciones inferiores al -10%: recorte de gastos."
      ],
      "metadata": {
        "id": "pk-Hb7JivcsL"
      }
    },
    {
      "cell_type": "code",
      "source": [
        "# Recolectamos las ventas de los dos años\n",
        "venta_2022 = float(input('Ingrese la cantidad de ventas en 2022: '))\n",
        "venta_2023 = float(input('Ingrese la cantidad de ventas en 2023: '))\n",
        "\n",
        "# Calculamos la variación porcentual entre las ventas de los años 2022 y 2023\n",
        "var_porcentual = 100 * (venta_2023 - venta_2022) / (venta_2022)\n",
        "\n",
        "# Análisis condicional de la variación porcentual para determinar la sugerencia a enviar\n",
        "if var_porcentual > 20:\n",
        "    print('Bonificación para el equipo de ventas.')\n",
        "elif 2 <= var_porcentual <= 20:\n",
        "    print('Pequeña bonificación para el equipo de ventas.')\n",
        "elif -10 <= var_porcentual < 2:\n",
        "    print('Planificación de políticas de incentivo a las ventas.')\n",
        "else:\n",
        "    print('Recorte de gastos.')"
      ],
      "metadata": {
        "id": "V1FJ2Apdw_tq"
      },
      "execution_count": null,
      "outputs": []
    },
    {
      "cell_type": "markdown",
      "source": [
        "# Estructuras de repetición"
      ],
      "metadata": {
        "id": "aL1vJPewvwvz"
      }
    },
    {
      "cell_type": "markdown",
      "source": [
        "Cuando tenemos que ejecutar un mismo bloque de comandos durante varias ocasiones no es nada práctico hacerlo a mano.\n",
        "\n",
        "**Situación**: Nos fue solicitado obtener e imprimir el promedio de 2 notas de **3 estudantes**:"
      ],
      "metadata": {
        "id": "VcPfCa8d-84t"
      }
    },
    {
      "cell_type": "code",
      "source": [
        "nota_1 = float(input('ingrese la primera nota: '))\n",
        "nota_2 = float(input('ingrese la segunda nota: '))\n",
        "print(f'El promedio del estudiante 1 es:{(nota_1+nota_2)/2}')\n",
        "\n",
        "nota_1 = float(input('ingrese la primera nota: '))\n",
        "nota_2 = float(input('ingrese la segunda nota: '))\n",
        "print(f'El promedio del estudiante 2 es:{(nota_1+nota_2)/2}')\n",
        "\n",
        "nota_1 = float(input('ingrese la primera nota: '))\n",
        "nota_2 = float(input('ingrese la segunda nota: '))\n",
        "print(f'El promedio del estudiante 3 es:{(nota_1+nota_2)/2}')\n",
        "\n"
      ],
      "metadata": {
        "id": "xcx21IGT9qA0",
        "colab": {
          "base_uri": "https://localhost:8080/"
        },
        "outputId": "4dfa7538-cdc2-4393-938b-b17d265f90a7"
      },
      "execution_count": 25,
      "outputs": [
        {
          "output_type": "stream",
          "name": "stdout",
          "text": [
            "ingrese la primera nota: 1\n",
            "ingrese la segunda nota: 8\n",
            "El promedio del estudiante 1 es:4.5\n",
            "ingrese la primera nota: 8\n",
            "ingrese la segunda nota: 9\n",
            "El promedio del estudiante 2 es:8.5\n",
            "ingrese la primera nota: 7\n",
            "ingrese la segunda nota: 5\n",
            "El promedio del estudiante 3 es:6.0\n"
          ]
        }
      ]
    },
    {
      "cell_type": "markdown",
      "source": [
        "Ahora imaginemos una situación en que no son tan solo 3 estudiantes, sino 100 estudiantes. No sería nada interesante repetir el mismo código 100 veces, sino **ejecutar el mismo código 100 veces**.\n",
        "\n",
        "¡Esta estructura la logramos construir con lazos de repetición!"
      ],
      "metadata": {
        "id": "9puIuvUbFSFX"
      }
    },
    {
      "cell_type": "markdown",
      "source": [
        "## `WHILE`"
      ],
      "metadata": {
        "id": "uLO9-aE4-wx8"
      }
    },
    {
      "cell_type": "markdown",
      "source": [
        "El lazo `while` es una estructura de control de repetición en Python que permite ejecutar un bloque de código repetidamente mientras que una determinada condición sea verdadera. Su estructura es:\n",
        "\n",
        "\n",
        "\n",
        "```\n",
        "while condicion:\n",
        "    # bloque de codigo\n",
        "```\n",
        "\n",
        "Vamos a construir un ejemplo con un contador de 1 hasta 10.\n"
      ],
      "metadata": {
        "id": "rXZxDMiqHxm9"
      }
    },
    {
      "cell_type": "code",
      "source": [
        "contador = 1\n",
        "\n",
        "while (contador <= 3):\n",
        "    print(contador)\n",
        "    contador += 1"
      ],
      "metadata": {
        "id": "9T5eCLFx9wk6"
      },
      "execution_count": null,
      "outputs": []
    },
    {
      "cell_type": "markdown",
      "source": [
        "Ahora vamos a colectar las notas y promedios de cada alumno dentro del lazo `while`. Haremos un ejemplo con 3 promedios."
      ],
      "metadata": {
        "id": "W4KZPBJuIrut"
      }
    },
    {
      "cell_type": "code",
      "source": [
        "contador = 1\n",
        "\n",
        "while (contador <= 3):\n",
        "    print(f\"Estudiante {contador}:\")\n",
        "    nota_1 = float(input('ingrese la primera nota: '))\n",
        "    nota_2 = float(input('ingrese la segunda nota: '))\n",
        "    print(f'El promedio del estudiante {contador} es:{(nota_1+nota_2)/2}')\n",
        "    contador += 1"
      ],
      "metadata": {
        "id": "Hd0ZSWxD9wCD",
        "colab": {
          "base_uri": "https://localhost:8080/"
        },
        "outputId": "e260c744-3359-4024-986e-b130c4d3201b"
      },
      "execution_count": 32,
      "outputs": [
        {
          "output_type": "stream",
          "name": "stdout",
          "text": [
            "ingrese la primera nota: 1\n",
            "ingrese la segunda nota: 1\n",
            "El promedio del estudiante 1 es:1.0\n",
            "ingrese la primera nota: 5\n",
            "ingrese la segunda nota: 5\n",
            "El promedio del estudiante 2 es:5.0\n",
            "ingrese la primera nota: 9\n",
            "ingrese la segunda nota: 10\n",
            "El promedio del estudiante 3 es:9.5\n"
          ]
        }
      ]
    },
    {
      "cell_type": "markdown",
      "source": [
        "![image.png](data:image/png;base64,iVBORw0KGgoAAAANSUhEUgAAAvEAAAEwCAYAAAA+ZC5tAAAAAXNSR0IArs4c6QAAAARnQU1BAACxjwv8YQUAAAAJcEhZcwAADsMAAA7DAcdvqGQAAHXSSURBVHhe7d1/XFRl3j/+V4vbmC3jyjptu+FujbgZbgqkIqYxrK6ogfQDtRLXgnIDcwX13hwtoS2hNoVKMVewUnQR9KMLrt7QYoy33mLaDWkNqzIYOriyM5Yx3PLh+IXP9f1jZmDmMDMMqMXU6/l4zEPnXGeuc/0613nPmXMOtwQEBAgQEREREZHP+IF8ARERERER9W8M4omIiIiIfMwtAQEB4sSJE/LlRERERETUz4wbNw5wDOLvvPNO+TpERERERNRPNDU1dQbxvJyGiIiIiMjHMIgnIiIiIvIxDOKJiIiIiHwMg3giIiIiIh/DIJ6IiIiIyMcwiCciIiIi8jEM4omIiIiIfAyDeCIiIiIiH8MgnoiIiIjIxzCIJyIiIiLyMQziiYiIiIh8DIN4IiIiIiIfwyCeiIiIiMjHMIgnIiIiIvIxDOKJiIiIiHwMg3giIiIiIh/z3QziO1rQeLIChW9nYu3u02jpkK9ARPR9IqHxxAHsKT+Jy5I8rbc859Wi34qUR5OwubpFnkRE9M2SLuNk+R4cONEI6ZuOBb9uxMnyrVj72loc+MLFZHkD3BIQECBOnDiBO++8U57mUcvpCuzZdxifnjMDQwJxX8RjeHLmSPj7ydf85rUcycSs5EJcBjD0kRzsypiKof2gXET0/XBZtx5rtn0M8zXbAj8FlHcOR8i4qZgZPR6B/rIP3Gz/rkBafBoqvh6Kx9bvwiuaofI1vOcpr8uHkZmYgsJ/j8fKHRvxZJDC8ZNERDfMZd16rN72MSz2edbRkBA8vWIxwr9YZ40H/afijV05mHmXfMWbpOMyDrw4Cy+WtwAIxIL3irF83I2Z+JuamjBu3Digb2fiJZwuSsOs2WlYr2vErXcFQnnlY2xeORvRL2zFya/l63/z/Cctw673FmOMAhg4QAEeRojom6QYchdUt7fg9MmTOHlegeGj70NgRy0KX0nCjFkp2Fp9Wf6Rm8t/JH4bPQbqcQ9j8ojrPJC4y6ujBSd3vIM9/x6JBW+8gscYwBPRTaQYchcCHefZcQ/hocnhCPa/iJNVH+NcC3DriMl4eJwaY6J/i5FD5DncRH5DMfNPxciZGwjgVihu0onkXp+Jl/RbkbRgLU4GLcT2TYsx5sewBvbbUpDw5nHc9bst2L50vPWMvNSClg5/+A+S5+KFDgktrYC/f98OBNIXhUh5IhP/it2IYu1k734haG2BpPC/aY1NRN8fksE6Bx0fuRwlmxdAPQhoqd6M5IXrcdJvPJa/txELRvVtfuuJ1NIC+PvLTmBIaPn6Gvx/bAu8r2uOleVlc1l/GP9svw+Tx8jO9F/XtoiIXHM5zx7JxJxlNZi5eTsWj1EAHS1oab3Vu/mnt3Grx7lNwsm35yAhH1i4dTsWh13nCRSbvp+J72jB6bI9OCkpMP7RhzHyx/YEBe7RPI7x/sC50kIcbmjE4Q9exOypExG1IA1piTMw9v77MXZ6AtI7r1GXcPlEITJTZyNq7P0YOz0JmQfOQepowbny9Uh79EFMnL0Cm/+SjoSp9+P+6emoqD+Hir+kI2nWRIwdG4XZqWtRYb/OqEPCufLNeHGBbVuzMnG8tavo6LiMk39NR8L0ibj//vsxNioOKesqcK4VkP59HIWvJCBqYhSS/rwZa1PjMPb+sUj64DRuzlVMRPSdZz8Z4HBSwH/Mk/j9I4FA63HsKTuJlg5AunAYW19JQdzk+3H/5DikvH0YjZLtzPZf05EwfSzuv/9+3B8yAy8WnUYLgBbDAWQujMPEsffj/rEzkLByK05eBlr0e7A2eQbGRiUg8y/r8eITE3F/SCxWblhnnVNjV+OAUbLOsfEPYuLMJKSlJmDG2Ptx/8QZSHqzAo22edPlNv7dgtMHbPNz7GocuGhdV/qiAmsXx2H2ghSkLJiFGQkvorD6MuA4n89KQ2ZWGmZHjcX9Y2cg6c0DndsiIuoTp3lWwrm/ZWL1QX88sehJhP/oC1T85UXM1kxE9B/3d82rf1uPtIQZGBsyFlEJ6SjUtwCttrg1aiKiF6Yjc7k1Nr1/8myk/7UChVlJiJtonaPT8o/jcqt386icfa6MGns/7g+Z2DVX9lHvgnjJjE9rzgHwx/BfqJzO8iiG3AX1TwF8fQ71F2pxuOwgTn8NSKc/hvmXT2DlSwswXjqJPdnv4B8XJbRUrUfSc5k47P8M3t2zC38a9y8UrnwRW2v+hdOHKnD4Cwm4WIH1ecfRMsAfCn8F/vXXNKRt+AeUz23H3956GNBtxbodx9HSAVzWZWLR8vU4rJiCZZmvYMEkxzNBEhoPvInkrD24OGYxdpWVIOcRfxz/IA0v5p3El8aPsb/iJC53SDj51/XYcw7wV9wK5Y9udciDiOg6+fnjnjEj4Q/goqERzRcqkLkwBev/qcbi9/8T25PV+DQ/Del/O4eWuj14M3sPWqbk4D/LtmDhSDOOn2yE9L+nsefV1Sj8fCiefKsE/7l2Mr7ctxYrNn0E/acV2F/VCEjnsGdDIU61KqAYpEBr9T9QYZCADgAwW+dYgwR8fRKftobgdy+txJMjmnF82xrkVV0GWt1s493/xJHyA115DQDQchKbtWnYWuWPx9aW4D+3LsfoyweQuWQNDnxhxulDB6wnWy4fRuHfzkEVMQXjf9yI49vev2k3exHR98y5/8LOvPVYv3UPPm4ZjofnPYYxPzyHf+y3xqLWy+ZbcPr9ZCS9vAeY+Tr+tvt1PCztQeYf1+Pw+S9weP9BnG4BWk7uwZ5/KjF+2ngEfn0ae7LSkHnAArVmKkZ2nEPFpr/gHw0Xe55H5TzNlRf6Nhf2LojvuAaLBAADcWu3Xw4UUAwAgGuQfhSBlZs2YsE9AEY+if9YugCPzV2M5c9PhqLlOCo+OYvD/2cPznWoMfmBoZAuS/Affg/8O77Ax2d/iCmvbsHrM/0BDMVjawtQUnYUn+xaht9MnIqZsU/jyTAlrkEJxQDAfNGM5tZG/Ne+f6BRMR6L/7gYT8Y+hsVLnsYYexklM44fOIgWvzF4+pnHMPIuNSbP+z0e/ilw+sP9aAxajC2bFmMkAMW45di+swSVnxxFTrya19MT0Q01cJD15IAkXUX94ULsv6jAyHHBUFq+hPQTNdQKCf+sOo0v/9eMFgk4d7QCh08DIfOWYfHMkcDZv2NPtYSRT/0BT09SI/CBx/Dc3JmY/OufY9QTOdiiHQ8FAPWz76J4byU+Obobb72bj1cmKQA/4NZbAzHz1S14PXYooBiPhX9cjCcfeRLL/vg0Rvpdxn/pPkVDrZtthIzG3Ky8rrwAtJz+Bw7ogaEznsaTk9UIHPMwnnlqDPD1Yfyf/wGmvFqAnJn+gGIMlm8txsbMP2FV4ngocBkXzXyCDRHdAF+fw8dVH+P0v7qCYcUvZuKN917HzB/bTjh8/Sn27D4J6afjMf4XwJcWBe4aEQhc+BifXgvByryNePIXAIIWYsvOLXgj/RX8LkIBDJqMV3ZsR07mn/DSXDUgXcbFNlWP8+hl2dNwPM6VVRf7dOVH74L4W3+EoUMUAJphNss212HG5RYAfj+Byv9WoFv4q4DqLhX8IeFi/VmcrW8BcA6FLychYUECUtYdRgsAxa22s99+CkChxshf2q8hUiBw0qOI+enHePHhKMzRfoCTEqxng6QvcfF8CzA0EIFD5dsFcO1LXGySgEEq3DXElj5IhbuGArjciEbrNxPAD1CNuA8qF1kQEV0/CZaLF9ECYOjQH+N/z/0LEiSc/OBFJC1IQNLyzTgpAYpBt+JHIx/DgthAwLAHmalJSPlzBS7iB2g7dw4XoUBg4E/gD+uNpo+99AZWPmJ9OtitfgoA/hg54q6ue4EG2F4eKH4ciMBBwOWLl3DJ4GEbCue8mpsuohnA0J8G2ranwNCf3gV/SLjc2GI9A+anAKDoPPlz660KABLa+nLUIiKSC3saOe+9h1fi1RjslKDonK+ufd2I2ssA/n0AmckJSFiQgsx9jYDfrVAMsMee1vlNAeu/gwfdCvgpMNBPYb1BdeCtsJ/Xd6VrHjXD0u6c5tVc2Uu9C+IVKoROHAmgBaeqzzk9f73l3Kf49CKAe0IQcpfrKLj5igUSAP8f3W6dzP0n4439n+Czzz6zvT7BxvjAbuE/YL2m/fA7i5Dy/r/wUMYuVO78k/XbFQAMUEChAGCxoOWq7HOO6R0SLFLXNfSSBOBWBZQKl1skIrp+jmdjWr5AxYGTAPwx/qERUN0O6y+O6ysd5sHPUJk5Ff7tQPC8HOzamoPFsSOh+Po4Nv/5r/hnuwK3QkJj45ddZ246JEj2azC9fRay7AZ+6f82w3wNUChuxw9v7WEbDgbaTrxck6TOg1DbNev/bv2RArwokYhuug4A8MeY3+Ug55mh+Mdracg80Oh8dluhsD64JGw5Sj7umm8/+3QXFtofMiCbP9s63ITW9vXczqPd576bMVf2LoiHAvf85inMHAo0Fr2JD+x/zKPlNPZs2IpzGIqZCx7DSMcbcFsuw9xqvWbowN7DaIEaIeNGY+wDaqDlMN7fdRyXJUC6eBhrF8xGerntOqIOe7Bty6f1Ij49eg7wH4nwsLvQ/PlxnP4aQLuEax1DETImEGg5jP/zD+vNYi2XL6LF3nu33YXwSSOB1n/i43+arcW68DE+NgL+4b91uEHXYbtERNfD4WBwrUPCZcNhbH0lDev1gL9mMX7/m5FQjx6NobiM/dv2WB/P23oOB16ejYR1x9Hw3+uR/Pw7qB06GQvTc7BSowBazGi/ZzzuUwCn//5XHLwgWW/UKlqBhJWFONcKXLMdtq6hrasA7baXPMBvt+DylWtAx2UcL9mJkxIwMjwY9472sI0W57z8fx2J8KHAuZqPcbHFesLldNWnaPEbiYfG3WU9KSOfz+X/EhH1heM8C0DxUzVG/vgyDlccRu1l5wD81qHBCB8BoHontuqsf/zp8onNSHoiDXtk9+e4jQT/PxdBvZt5VKXoWlfydq7spV4/YhIAWqq3YvXKtai46A/1qLuAf5/GudYxWLjudSycZDuT/vVJrP1dArZ+4fxZ9VMbsWXpZPh/fRjrl6Vh68muplKMWYiN654Gdr2I9A+sT2gYOmomFr78Ep4cKaEiYz7S/tZoW9sfQwe14HIrgKAF2PRaCD7UpmGPbHsYpMbkOcvxpyQV/pGRjEwdoB45FNe+OA3zPQuQs24xxl/bj8yX12LPyRZgkBrj4xfjjaX8A1FE1DeXdeuxOncPDp+W39zkjzFzX8KflsyE2h9AayMOvLkIL+4+17XKjydj+aY38LB5LWYv3gPpnpG4y+8yThtaMH7ZFrz1lBrndr6I1DcPozN3v5FY+O67eLT1A6RnbcXxfwOKu8bg4ef/hJUzbsXh7HSsKzqOxg4FAictwCuvPQnLW7OR9jfn8inCFmLj24sx3r8FJ3e42MY7q3Hff7/lnFfWQvz80/VIe3Ervhg6EvfcehmnvwCm/vFd/Cl+KD59dzUyC2zz+bgn8fRECf/YuQcn/w0ofjEZCzPewMIb9EdQiOj7w/08CwAKjH+pGBunnMPqR9Nw+IE3ULpuJhQnNyN1yXocd/ibRuq5Och9XoWDr63G+oPnIMEfI2Ofxm8VH6Nw73Fc7gACI57Eo6PM+MfuCpz+GvAfOROLX1kCVeE81/No9tPA7tVYs7UC51oA/6CpeHrlf2Dm1b+6nivnev/HUh0fMdmnIB6wHnyO6w7jU2MLcNtQhGh+i/G/cJiI7UG8YgHeeEYNc8tA3Dd+Msbc4/DsYukyTp84jpqLbQgcOR4hv7ZeJ9TyxWmcu2IL7v0U+Il6pPUvHLY24viHB/Hp5VuhnhSDyXeZcVz3KXDfbzE5yB+QLuNc9XF8fKYZqlHBwMVaWG5VIVAdgjEjh0IBCZcNJ3H880b439O1PbRexum6i11/kld5F0YGDe3TtyIiIunyOXxxoUV2NkcBf/U9UP9YNrN0SGj8/DiOn27EwLtCMT5sJIYOAtDRgsa6f+KLunqc+/c1+I+agofHB3b+HYuWL47j4//5J859bZ0Pp470h3T5HE5f6LpZVHHXSIz8KXDZcBoXLfaF/lCPUOLjjNlIO6jG4vTH4X+5GapfT0b4GPu1mlbdt3Fr97xGqq2faWnEyf85jvrWQISMHwP1UOt17y1ffOEwn/vjJ0Ou4cvL9paxze+Ov4YSEXnB9Txrp4D/L+6BuuMw0uLT8OnkHOx61XZy9utzOH70U9S3KhH8QDhG3uMPRUcLGk+fw5f2zAb9BD/Bl/jSfgmhwh8/GXQNXzrGpr8citN/dj+Ptlw4jXNOc909CPyxws1c6b0bE8T35OvjWPu7JGwdtBi73luIkd4+OJ+IiG6ujsuoeHk20g7eh1d25eCxX/TuIEJE1K91tODyZUDR8nekzsuEJXEXtv9+5I09OfstzaN9/2NP3mo5h4rd/wcf/wvAhf9C4V8PWK9fJyKib1dHC07uK8T+k5eB1n+iYsdOVBj4qEci+o7oaMHx7ARETZ2I6BfW47jfeDwWec8NDuD7xzx6c4J4ABg0HL99bjEWL3gId/XlllsiIro5/JS4b9ZiLH7hSYSoOEET0XeInz/UUx7DzIjxuG/Mk3jjvbfw5MgbGsJb9YN59OZdTkNERERERDfMzb+choiIiIiIbhoG8UREREREPoZBPBERERGRj2EQT0RERETkYxjEExERERH5GAbxREREREQ+hkE8EREREZGPYRBPRERERORjGMQTEREREfkYBvFERERERD6GQTwRERERkY9hEE9ERERE5GMYxBMRERER+RgG8UREREREPoZBPBERERGRj2EQT0RERETkYxjEExERERH5mFsCAgLEiRMnoFar5WlERERERNRPnDt3DuPGjQN4Jp6IiIiIyPcwiCciIiIi8jEM4omIiIiIfAyDeCIiIiIiH8MgnoiIiIjIxzCIJyIiIiLyMQziiYiIiIh8DIN4IiIiIiIfwyCeiIiIiMjHMIgnIiIiIvIxDOKJiIiIiHwMg3giIiIiIh/DIJ6IiIiIyMcwiCciIiIi8jEM4omIiIiIfAyDeCIiIiIiH8MgnvoVqckAc6t86Y0lNZlh6ZAv9UKrGYYmSb70m9chweJ1G0mwNJphkS/uJMFy1gizfHF/JFlg6QfNT0RE1B8wiP9GSTAcKUf5AcdXFQxXGJmgqRRpsRMQ+mAaSm5WRPlJLmKnhSL4wUQUN8oTPTGjdHksJoydgLR9JnniN8yM4ueCERqihU6eJPdJLmKnTUBoZCaq5WlwSJ+RDb08rd+pQVZkKELn5sMoTyIiIvoeYhD/jVJgWNAwmPatQMp6Pe4YF4bhAWaULovEhIXFMPTl7HAnM3QbilErX+wr7pyFnH2vI1q+/EYauwj7PszBLAyGcpA80RMVZq3dh9dnypd/G1SImrcIc/5jFsLkSXJjF2Ff3iIEy5fb9ZTerwQjLvVZPLtAg2HyJCIiot46n4/Y4cMx3OEVm+dbp4kYxH/DFHcGQxMWCAxQYqhKhaAJs7A07xVEHNQit8dTq57oUf5OFb7t88S+QYU7VPJlvkM1ZSmynouAUp7wnaZA8BNaaB8NkicQERH1SVDybhw7dqzztWOeb50mYhDfj0itXZfVWD4pQNqCWCQ8koC0HTVd1zRLRpSvTkDsvATELkhD/jEzUFsMbeoGVHbUIH+VFtoNOus1zpIR5WtTkDQvHrGPpCC/xsWV0WYdcldpkbYgG1XWBdBt0EKbmoLcGts6rQbo8tKg3WG0liteA82MFBTXO+UEADAfyoV2ldb62qCD2Za/dpUWuUcs3pXJgeVsMbIS4xE/LwEpa4ph6GoImD8rRtaCbFR1GFCcHA1NfDZqXFwrbvkkHykzNNDMSED2oe5fc6Tz5dZtzI1H0ppymL38RcTySQG0CxOQ8Eg04le7/lztTltbrNJCu7PW2lertNCuykDpWeu2sxcnIWFuLGKT89HZHJIZtbuzkJBTBdQXI2WGBvFrayDZl79Y2nUduxdtaqqx91sCsj70fL2SV+0hGa1jYlsNanakIT5Sg2hvym/7bPmaJMTPjUd8YhbKmxzy7TCjKi8NCY8kID5RiwJ7hrYxmJBjH5Td180/4rleREREnQx6SPcGQ6VSdb569yt9PxAQECDq6+tFXx19LVJEPuTqlSmOylcmIYQQFzbHCHVMnrgghBDtzaL6zRhxX1yeqGu3pjdXpIrwzvfNomxJuJhXaBJCCFH9WrhI3NVsXfFEughZVmn9f0OeiFGnCts7IUSbKHtBLUIyqq1vq9JFSEi6sL1zdmaDmOb42fY6sWG6WqzQWd/qC1eIxN+qhfqBx0X6Lr24YLogypaFC/VTRcJaKmf67EihnrOtK02/TiRm670oU6VIVceIvAbb21PrRGRIqiizVbe5IlWEh6eL6nYhhKlSbFjyuAhXx4jEZZli265MkbysqLMNO51IF+EhyaKooU0I0SYuFCaLEMe6GvJEzMRUUWnbRt3GGBFuL59M5TK1iNl8wfpGv05EqueJIpMQQpjEtjnqzj5yZqvzy117Q9v+VJG6v02Iq2UieUSISD9hXX705ZDOtjHpNojUx8OFOiZRpL62TRS9lixSC+uEvnCFSI4LEeolZc75u2vThjwRow4XqaV1oq1diLYzG0TMiPDObXYbN162R2c5frtClNnatm59jFDHWce1u/KL9jqRFxcuUitsGzBsEDH2PhUmUfTUfWLedls7nlonIkfME0WXTKJy/QoxL0otpm2ss5WgWZQ8rxYx9vftdSIv7j43fUBERN95xm0isVssan0lbrcdux1VpIrI360QK1auECteyxOVDW3yNfql+vp6ERAQIAICAsR1B/HUexc2xwh1SIxIXpkq5kXdJ8JXVormzuBTL9ZFqUVqedf6zbsSOwPmsiVqEfJ8kai7KoRobxPNzbZBJw/GhBCmE2Wi+pLtjUEWqDvq9lm9WPeQQzBtL7P9C4OwDv7OLyJyl7aJx9WRYp3e+lb/ZqrYZiuH5zI5BvFtouR5tYh805aJELZyqUVyqX1HqxSparVI3u9ux3ORh1NdrQFwV2AohKjOFJFuvuw4BfHNdaJSVydsoagoW+KQJleVLkJGJIuyq8JapmXp4mi7EKLdJKr3VwuTre/rNk7r3sadn+si7wuPbdqtb4WozggR6pWuvvz1rj3k5RBXS0SyOlKsO2V776L8bfuThXr6BtG5hfZqkfmQ7YvMqXWybTWL6l1FotrWyE7tf2qdiFQnixLHvEuThfqhdcJxxBAREbnUfEHUGU3CZLogjm5OFOFqhxNc/ZhjEN/ry2l0yx1uAliuQ9UaDTSRrl5ZtsszyKXAOGjX5GD7R4ewyJCElF32SwFMMJ5XwrCv6zKMrJo7MGfKCCgBRK/IgeZMBqLvD4bmhQLUdyhkGXdRjdVg6Jl8aFPTkLVdb72UwSsmGHv19BaZO+fguZlGlB6oBVCD4voITL/TmuR9mUwwNQL+g/0dlvlDqQSMTY6XxAQjbJS7NrDmETra3a2bJhgbAOnYlq5LXnZbEBEfhqHyVeWUQdCMvoaytSlIW56LskvyFRxMmIP5geUoOSgB5hKU+cchwg+AnwqhU4ZC/54WaalZ2H7KRWvcG4bgHn7e875NrYb+PBA4ZXDxlJfraA8AGBSEoEAjjI7dIyu/6aIRkKqwxZ7/6mJYJs1BmAqAyQhjYKDDtpQIjZ+DUFcX/5uMMELh9NOnYpACaDTyvhAiou8DpxtTY5H/cQGSusWi1lfSju5HPCiHIShQBZVqGCKe24LXHzWjYO913Zz4jet1EK9ZW4/6ettrrQYRq3TQHXL10iJC/mFyQQXN1GBU7SjpDKoG+lkQFJuFrDUOr8RQKGB7istHtaj9cCNmSfmIfzzbzRNpLNAtj0TKZxpkvJUD7dNhcAyHby4FoufNR/OOYlQdK4MUGwfrfaS9LJOffIGNu+Wu+AGGRhc7r50foJiQ5NzWq2b1/ASU+nzEzsjD4KSNyFm7CHEePxCM+UmhKN9ejNqDNQiaHWpdbNEhLTIF+sgM5LylRVKYx9Zwo5dtCkBqvwYMH+a6jn1tDwCACeZLwMAB8uUO/AAoIpDkmP8aLWb90pZusaBF9hGXBgyUL7Hyc7OciIi+W375LPbZ49H6fXg2fD62dItFra8t3W5YlWAxW5xOegUOD0KPZ8H6mV4H8XTjDQt9AMpaHarMABABTTRQujG/65GTkgHFO6ogwYiCxAzoOgDFcA2Wpj+L4EazmzOP1SjZOxBRkUFQAJDMZvfBkR8AGGG03WBo+aQaht4Eyq5MmIP5QwqQtkxCdLT9THkvyoRhiHsiArUVtpt0AaBJh7IzwYibIt8Z3RmGiZHDULu31KEtJVyTpRu25kJnvyGzw4LybQ43jbph/KgEtaFR0Ayxfsb0lXwNZ6pHn0N0TS4SPxyO2fYfBk6UoFQRhahfKQBIuGxy3xrdXLVPPt60qQWmzvrVonSXAdHTNLJ10Lf2kKTOOU86VI6y22chepxsHQfDJkRh2NkC5B7suvnW8mEBSpsARExH9KUC5B1wSKspRvnZzrdoabbVbtIczFfpoDvWlVZ1SAfV7GiePCAiIs9adVjxYCSyOo8hZlTpDIgYO8p5vX7O77bbbstYuHAhhgwZIk+jG84M3YaX8OrWI2hqbEJDkwIjpoyC6qeD0bQzG7uqm3A1IAxPztOgdacWS7Pysbd4JzYVmxH38tMIUlzD+bI3kXekHQP/txofrC8Bntdiya8DgFst+Gz3m9h1tAlVlZdw7/Qo/Nz4Pl7KysXekv2oDozAqM//gsLKBuC+6Rjj+IhFpQodR3OQ8WY+9v51L46PiMPkf+3B/toO/HzceLTu0yJrhw4NF81oUozE1B9UQrtxH/SfnkHDLcMwcfzduN0hOysVggYcxgfK+Xi9M+gOwEB3ZbpzII78JR8HP6/HF+bzGHD3VIyPmorxZ1/F8j2t+NH/rcamNXswInMHloxRAKhF8aq3se/zGpxpaIJixFSMcvHYSNX4Sbi9dCn+sKkKhpr9yDdcxR0na3DCdBUBo8djnGYSfvbJO/jDylwU7t6J/C2HEbREi8kBjrmYodvwGvI/0qP+wiWcxz14bNLtqHj1JWTv3Iu9/7iKsAcHYOf7+3Hq8mBETbIG1E5+GIQAcy7049bgudG21ho6EA0fvISsTXtReqAadz44CvrNhdDVAyN/cQbZ9ja2jxPb039e3aZDvd4Aw49D8PCv7/Xcppvfh+7fAzDA8Ffs+rAKu9Zk4fDkzdj6fBAUtcXQvlOM6rrzaOxVe1hZqgvxwcdnoC+pwLH/LkT6X+rx+LsbMf8ehfUpPC7KD1UEJv20Cu8s1yJ3517sfG8TDgctgXZyAPDDIEwedwUbF/0e2X/di53bNmHP/8Zh6Zy7Ub9Ti7f/roe+rgED7p6M8fcMhyYqAAWrs1DbcTsa9mVg08X52PxGHO7w9EsAERHRD4Nw7+0V+PPORtzxAz0+eO01VP76HbyXcm/343c/c+XKFeTl5QEAbgkICBAnTpyAWq2Wr0ffpA4Jlq8kKFTKzgEkWcywdCihGiIbUq0WmK8CygAlFI5nzF3lccUMSWF7bFKHBIvkfB1xF+tPS1CqoFQA6OjlZSu94H2ZbCQLzBYX9e0FyWKGBUqolIDFAiiVbtrUoe16ZC+X7TOSNWPvPw+HPrPXrdUCSdH7enpqU8kiQaFUOLSBFyX0oj2MebHQnFmG+jcinOvgjQ4Jlq8cxpurtNu9e9yXdMUMi5+X9SIiIrKTLDBbJChcHYv6qXPnzmHcOOtP3gziiahPOoP4ta4uzSEiIqIbzTGI5zXxRNRrksWI+oYWwGiAQXZzEBEREd18DOKJqNcs52shPajFxgXDUH+isesvChMREdE3gpfTEBERERH5AF5OQ0RERETkwxjEExERERH5GAbxREREREQ+hkE8EREREZGPYRBPRERERORjGMQTEREREfkYBvFERERERD6GQTwRERERkY9hEE9ERERE5GMYxBMRERER+RgG8UREREREPoZBPBERERGRj2EQT0RERETkYxjEExERERH5GAbxREREREQ+hkE8EREREZGPYRBPRERERORjGMQTEREREfkYBvFERERERD6GQTwRERERkY9hEE9ERERE5GMYxBMRERER+RgG8UREREREPoZBPBERERGRj2EQT0RERETkYxjEExERERH5GAbxREREREQ+hkE8EREREZGPYRBPRERERORjGMQTEREREfkYBvFERERERD6GQTwRERERkY9hEE9ERERE5GP6HMRL9VWobZIvpW+FZIHhvFm+1IlksUCSL/Sk1QxDk8MnJAssvcrAh3jRfv2TBMtZI/pDyXs1vlrNMF+RL3QgH3v9mPSd3SmIiHyFGbVHDN4fg75D+hzEmz7KRJ5evpQ8M6P2QDnKD5Sj/DM3oVdTrTX9QDmq6nsekjXvxiJ6Qiii13vojJosRIaGIv49ozzFBTNKl8diwtgJSNtnsi2rQVZkKELn5sObHHyJV+3XH32Si9hpExA6Ixvfesm9Hl9dYytxt6t1XY29/su8OwnBocHQHpKnEBHRN0ePvDd0uK6jRqsFZrMZllZ5Qv/WyyDejNLF8cjYXQsMmYignxmhy0lBfE6NfEVySYnA0cNg2JqClN/loqpDng5UbZyHlMVZKOsYjlE/U8iTuwlN3of8lGDnhbXFyD3k8CXh3jgsTXwWz0UOc1zLDRVmrd2H12c6LgtGXOqzeHaBBt7k4Etctp8vGLsI+/IWoV+U3Ovx5WpsOeopvX9RTZqPRU9oMStUnkJERDddTTbik7OhOz8Ywx4choG1xciIT0Gpm3Ok7hjei8eEZQWoPlGG7MdDEf9urc+c1e9lEK9C9JrXET3IgF0HilG2owpS2At49/c8inlHAWVgMEYNU0KJAhSUy4ZJRxXKjwBK+GPU6CAoBzkne8t4rABlZ9u6FgwKxpxVWswa7rhWbygQ/IQW2keD5AlEN2B8+ag7NVi65llEKOUJRER0041ehHdTwiAdKUZ5UQmKGwYjOvN1RKvkK3qiw5bXGzE9aRGiZ85HxvtLgbWZKOnlF4FvSy+DeEChDMIoRSWOBm/EfEsxjIHBUPUx2Pz+0mD+74ahfGux0/XMUnkxmmPnI7BziRm6DVpoUxOQfcS25FAutKvSkPKuq18/rOtn7KxF4/4saFdpUVwLSPU65C9PQLb9I5IRurw0aLfVoGZHGuIjNYhOzkeNRZadXasBurw0JDj+4tJhRlVeGhIeSUB8ohYFDh+2fFIA7cIEJDwSjfjV5TC7+MUBtcXQrtIi5cUC2yU6tShepYU2OaPzW7S13FoUnLc4lLMYBhf51e7UQrvK9tpZ25m/dlUGSs8C0vlyZC9OQsLcWMR6qquN+Ug+0hbEImFuErR5VV11kMyo3Z2FhJwqoL4YKTM0iF9b0+1bu6W2GFkLsqE7X46sBdHQRMYj40PnWeF6t9GNZET52hQkzYtH7CMpyHdRSev4sbXTBh3MZh1ybe9zj1iADgtqdmiRNC8BsTOcy9zZH40WVK2Jh2ZGCorPuxhfHvLo1N6I8jUJiI7UIH55gef+kIwoX5OE+LnxiE/MQrmbe3F6anN35YdtzKYtiEXCIwlI21EDx+I49VNnmgTzZ8XIWqB1Ouvjtk+JiOjG8lNAFRwIY2kzktYHofIjBUb9Somer2FwpEHW2WPIGGt766fAQNka/VpAQICor68X3jsqMqeni8qrQoiGPPH477YJkxDi6GuRIvIhV69McVSexfdc5bJUUXlpm3hcHSnW6e1LTaLo+XRx1JAnYtQxIq/Btri9TmyYrhapFV2fr1s/TahXVna+v7A5RqiXdb2vXKYWMZsvWN+YKsWGlfNEpHqa2GCwLtIXrhDJcSFC/dsVoqyhTQjRJurWxwh1XJ6wfcohD5OoXL9CzItSi2kb62ypJlH01H1i3naT9e2pdSJyxDxRdEkIoV8nItXzRJHJut62OWoxr9C2nkzb/mShjunapmgrE8nqGJFnFEIIvShamSimjVCLkMfTRdGpC8JkLBOp4e7yaxNlL6hFyMtdo61tf6pI3d8mxNUykTwiRKSfsC4/+nKICMmo7lxP3n7NpclCHbNB1LVb39dtjhH3PVUkTEIIk26DSH08XKhjEkXqa9tE0WvJIrXQ3i42nW0eLhI3V4vmdiHEV2UiNSRcrNC13ZhtCOv+F6NOFdaS2+pvr1dVuggJSRddteyiz44U6jnW/da6YJ1IzLYORH12pFDbyiEubROPd/alvT9CxLzn0sW6XdtE6vOZ4mi9i/HlNg+rymVqcd+cdeKoqU2I9mZRtiy8a335+G2vE3lx4SK1otn63rBBxISni2pbu3Xqsc3dlL9ZiOaKVBEel2fri2ZRtiS8c4yZCueJ+363TZjahRBCL9Y9ZBt/+iKx4oUYEaJOFWW2snjqUyIiuvFM2xPFvK0XhBBtonLlNJFeJYQwbhOJ3WJR6ytxe2fE4aSt2SRMpjpR9EKkeHyLi+NtP1JfXy8CAgJEQECA6EMQT9erclmqqJQHnZe2icSXj9oCM4cgXlwQeTHOQbz+zciuIMdFEOoUBFmXiFSnPLt/RlwtEcnqSLHulPWtPA+n96fWiUinALFZVO8qEtXNQojmOlGpqxO2kEuULZGXxUFFqnMQf7VEJHcGpcJl3eXlclKVLkJGJIuyq0II0SZKlqWLo+1CiHaTqN5fbQvEhKjbOM2p7s5tYQ3UkkutwbYQ3dtGVKQKded23One5vo3I4X6+RLRdqO24RTEC2E6USaqL9neGDaIaU5t6UD2BVL/ZqrYZvtc85lKUXnG1nvtZbI6WPsj0hbwd3Guq+c8XPShqUjM6/zy5pzetj9ZqKdvEJ1Tanu1yHyo6wuZM09tLtyUXy/WRalFannXkuZdibYvFXqxTrat5uoiUVRtq5tT+3vRp0RE1C/pC1eIFSuTxbTpyWLbCXsE0z85BvG9vpzGnao1GmgiXb2yUCVfmQAoED1vPrCzAOWtQG2hDqOeiJCv5JKpydWTPa7ToCAEBRph9Ob2bpMRxsBADO1coERo/ByEKgEog6AZfQ1la1OQtjwXZZecPumZ2XR9T7+ZMAfzA8tRclACzCUo849DhB8APxVCpwyF/j0t0lKzsP2UpwtTTDA2AopBDj/IDVJCAVnb3BuG4F5eRjb83mCg0QTTTdqGaqwGQ8/kQ5uahqzteveX39w5B8/NNKL0QC2AGhTXR2D6ndYk5a80CGsvQ/biNKS9W+ayP0JHe76d1ps8nKjugAq10J+RJwCmi0ZAqsIW+yVAq4thmTQHYV5e89jV5l2cy2+C8bwShn1dl2Nl1dyBOVNGQAkTjI2BCHTYljJ0DuaEuroI3ss+JSKim6uxAEndYlHrK2mH6yNS8BNZyFqzEeVF01H11Cxk18rX6J9uWBAfsUoH3SFXLy28C02/h2xBZ97ecpSdjcBsz7HRTWaC+RIwcIB8uRsWC1rkywCgPh+xM/IwOGkjctYuQlxPDyy5oYIxPykU5duLUXuwBkGzbTdcW3RIi0yBPjIDOW9pkRTmL/+gk4F+8iVWXreNGyazEbDlfeO3YYFueSRSPtMg460caJ8Og/taWr9ANu8oRtWxMkixcbDHqYa8WEzbPBjPvpWDnBfi+vQ0ol7n0SEBCELQ3fIEWNtLEYGkNVnI6nxpMeuX8hVdc2xzdwb6WRAU65h/FrISQ23XVbbA4ul6fQc3vk+JiKjXAudjS7dY1PraMk92ROqQYLnicMpLGYqwe42o/G/XwX5/c8OCeOoLa9BZ80oKqid5CHb8AGOT7e65KzWoNshX8IaLYESSOs/WSofKUXb7LESPk63joKXZFrZHTEf0pQLkHXC4mbWmGOVnAeNHJagNjYJmiPUGR9NXXZ/vZsBAoLERjR0AIMF4ovq6/3CR6tHnEF2Ti8QPh3d9KTpRglJFFKJ+pQAg4bLJ5dcPGw3mzFNBd8jh96NjOuhUczy2jWvXINkbuMOI8vJaBD8cjWE3dBt21SjZOxBRkUFQAJDMZtdfsuwmzMH8IQVIWyYhOtp+9tgIXWktwqZooPQDcMXkdIOnZ/bx5V0eLV9e7vy/5UAJSn8ZjSgXT7cZNiEKw84WIPegw1j7sAClbm5udd/m7kRAEw2UbszvumFaMqB4RxUkRGD6TCMKtpTDYk+z1KD4gOMOKNmeK3wz+pSIiG6qmixEjk1CsT346GhEY6MKE8e6P2r0J3633XZbxsKFCzFkyBB5Gt1wtShelY539h3Ekc+BYeHjMWr0YJzJb8ecnDkIqiuGNms7dOfP4MyZBkhDH8D4u38G1bXDyMl4E/l7CrC35l7ETbqEPf95Ch0/G48fHXsN2XurUd/QiKaWAIwZfzeUjRV4M78CDZ+Xo+a2X+JS3gbs+1yPM40DcPek8bj7dsBSXYgPPj4DfUkFjv13IdL/Uo/H392I+fdYoNvwGvI/0qP+wiWcxz34+efZePvveujrGjDg7skYP2I0Jo+7go2Lfo/sv+7Fzm2bsOd/47B0zt2448etqHj1JWTv3Iu9/7iKsAcHYOf7+3Hq8mBETbIGmJ3uGIArO19FRm4hCgv249rsOATs2YcjpkEYOeUWVK7Kwvb/akDjV00YdO9U3HJQi7f/rkfN6QYM+MVEjL/7dsfcrH4YhABzLvTj1uC50bb0oQPR8MFLyNq0F6UHqnHng6Og31wIXT1w69c78b6s/YZP1iCg6CVknerA7cYDyNjcgPkb30TcnQOsT73ZuA/6T8+goUmBEVNGdZ7FdtaA8ncO4vj5v+PgoRqUr38V++/IwOaXJyLgB8DPrncbtcXQvlOM6rrzaDRdRcDo6Rj55ft4KSsXe0v2ozowAqM+/wsKKxuA+6ZjTLcMVAgacBgfKOfj9Sn2yWowlFcrkJGejcLde1F2NQwTB+zEBwdOwfyj+9FR/me8f6geZ+obIP30AVv716J41dsO42sqRgt3eUThJ/+Tgbf/rocYAOwp2IOaj97Bf+S344+FOYgOMHcbe1OjZmHST6vwznItcnfuxc73NuFw0BJoJwfI6oMe2twM3YZXXZR/AIImjUfrTi2WZuVjb/FObCo2I+7lpxGksKZd2ZSC32cXYG/hdmzaY0Hc8jm426JDbtb70NXVwnA+ACEzR2G0pz4lIqL+5+dhGGl6G5tO3IGf/Gs/stO34Kvnt+DN37o6xvQPV65cQV5eHgDgloCAAHHixAmo1Wr5etSPSBYzLFBCpVQAHbbLDDyQLGZIA1RunzVvzIuF5swy1L8RActXEhQBSih6yLObDgmWryzA7bLtSBaYLYBSZX3Uk2SxAEo3j33qkJy370Xd+kS+nVYLJEUPdW61wHy1qx69o0Pa8HUY9dE+zB/i0Hdy17WN7qQrZkgKW390SLBICrdjwB2nsQYJ1u7rXek85iFZYIESygGyPvHEPtaUKrgvipdt7oZkMcPSoYRqSPfPSFds+blI6+YG9ykREd1k9nnbm+PRt+zcuXMYN876Ey8vp/ERCqWqKyDxYoAplO4DeCd+Cmuw4UWe3fgpoFS52I5CCZVDAKNwF8DDxfb7Ug5vyLczyIs6D3KuR1859Z3cDdqGnWKIQ3/49T6AR7fyKnodwKOnPBRKayAu7xNP7GPNy6J4bHM3FEqV2yBdMcR9Wjc3uE+JiOgms8/b3hyP+hEG8d9DksWI+oYWwGiAwWxx/xQT6psOCZazBhjRgnqD0XbNNN1UbHMiIvqe4eU030Pmz8pR3Xnj9TCEzQzufs019V2rAVW6+s4bOpX3ahAxnOdlbyq2ORERfQ84Xk7DIJ6IiIiIyAfwmngiIiIiIh/GIJ6IiIiIyMcwiCciIiIi8jEM4omIiIiIfAyDeCIiIiIiH8MgnoiIiIjIxzCIJyIiIiLyMQziiYiIiIh8DIN4IiIiIiIfwyCeiIiIiMjHMIgnIiIiIvIxDOKJiIiIiHwMg3giIiIiIh/DIJ6IiIiIyMcwiCciIiIi8jEM4omIiIiIfAyDeCIiIiIiH8MgnoiIiIjIxzCIJyIiIiLyMQziiYiIiIh8DIN4IiIiIiIfwyCeiIiIiMjHMIgnIiIiIvIxDOKJiIiIiHwMg3giIiIiIh/DIJ6IiIiIyMcwiCciIiIi8jEM4omIiIiIfAyDeCIiIiIiH8MgnoiIiIjIxzCIJyIiIiLyMQziiYiIiIh8DIN4IiIiIiIfwyCeiIiIiMjHMIjvxySLJF/kVk/rSk1mWDrkS73QaoahyXPe34gOCZZW+UL3PNdXguWsEWb5YnLWX/r+ekgW9LBrEBER+aTrCuJrc2KRcUy+lNyTYDhSjvIDji8dahstkMcZ5t1JCA4NhvaQLMEFj+t+kovYaaEIfjARxY3yRE/MKF0eiwljJyBtn0me+A0zo/i5YISGaKGTJ8k1lSItdgJC3dX3k1zETpuA0BnZ0MvTyKY/9f31qEFWZChC5+bDKE8iIqLvjtZypMwr6MPJOQkWsxlmc/c4zBdcRxBvxNFDQdCMky8n9xQYFjQMpn0rkLJejzvGhWF4gIT/2TwbEx5MQsHZriGkmjQfi57QYlaoUwYueVx37CLs+zAHszAYykHyRE9UmLV2H16fKV/+bVAhat4izPmPWQiTJ8ndOQs5+15HtHy53dhF2Je3CMHy5eSgP/X99QhGXOqzeHaBBsPkSURE9N1RVQajRgOVfLkn9cVImpGGghNVKFkzG6EPaqGzyFfq3/oexJ8vR0lQHDR+8gTyRHFnMDRhgcAAJYaqVAiaEI35fyrHrqdNyIhJQ6l9AN2pwdI1zyJCKcvAFa/WVeGOXo3u/kU1ZSmynouAxyoSOVEg+AkttI8GyROIiOg7RPefBsRN683pGjOKV2uhGzUHi2bOwrNvbYc2sBjrdvvW77Z9DuLNVVUY9psI+WLqo6DEZZiFcmRvqQUgwfxZMbIWaFFqBmp3aqFdZXvtrAVqi23vM1B61nldO8sn+UiZoYFmRgKyD3W/JEI6X46sxHjEz41H0ppymN1eP+5MOl+O7MVJSJgbi9jkfNS4+NbqubwAJCPK16YgaV48Yh9JQX5nJva6ZKOqw4Di5Gho4rNRc8WM2t1ZSHixtOunMrd5dJGM5chaEA1NZDzSdtSg+xpdvGqPDou1HDk6GA9kIWGGBpr4DJQ3Oa5jRlVeGhIeSUB8ohb5Rxw6pdUAXV4atDuMsBzLQnxkNFJkE4a17VKg3WFbbmu7lFdsdZdsbZFTZS2zrX5Zx1zUzqxDrr0fVuVCZzZDt8H2/t0qWABYPimAdmECEh6JRvxqN/W2u8669dh+DnVDfTFSZmgQv7bG+hOnZET5miTEz41HfGKWxzYvsI8FW5kScmrcrutUByIi8kE10BmiMPGX8uWeqDA9fTvKV2s639/xMwCejoH9UUBAgKivrxe9YxJFTyWLkqtCiMOZIvKhSJevzMPyz5EQQlzYHCPUMXnigvNSkRejFurnS0SbvkiseCFGhKhTRVm7EEK0ibIX1CLk5aOda7ftTxWp+9uE6LauEOJEuggPSRZFDW1CiDZxoTBZhKhTRaX9w4Y8ETMxVVQ2W9/WbYwR4RnV9lQnlcvUImazraRXy0TyiBCRfsL69ujLISLE5ec8lNeeZv9cVboICUkX1UIIYaoUG5Y8LsLVMSJxWabYtitTJC8rEmU7VojkuBChXlLmnL+rPIQQQlSKVPV94vHso8LUJoT4qkykhqvFvEKTNbkhT8T0oT1Mug1ixe8ihTo8UeSdsK7cvD9VhISvEJVXhRCiWZQ8rxYxG+usH2ivE3lx93VuV1+4QiT+Vi1CnkoU6dlFYtuyZJFZZdtoJ2vdOttcCNG2P1mo46zjxaTbIFIfDxfq+6aJ5I2Vos5kEvqNMULtVH8H+nUiUv242Hapc4FY98w6oe9MmyeKTEIIYRLb5ji0kbzvb0Ddemq/zrrFJIrU17aJoteSRWphnW1b4SK1wpafYYOICU8X1e3CNhfdJ+Ztt5X71DoROWKeKLpkEpXrV4h5UWoxzV7mHupAREQ+6ES6iHlTL4S4ILY90z0WjXwoUkQ+s00Wc8m0HxXpIeEi0+WBtH+pr68XAQEBIiAgQPQtiL9aIpKfKhI89PWNxyDevlweaFali5ARyaLsqhBCtImSZeniqD1od1q3TZQ8rxaRb+rtn+yWXvaCY2AjhKjOFJFugkCnQK7dJKr3VwuTbbt1G6cJ9bLOEjrzUF7TiTJRbQ8qDRvENMd6ikqRqlaL5P1tnUuEvc0cttVzHjEir6FzgTAVzusMhK+nPURFqqzv9GLdQ2qRXNpmDSDVti+3Nm2lyUL9kC1ottcjquu9K87Bsy0Px3aWl0E+VpxYg/PIbNsWT60TqfaAt7lOVOrqhD3ULlvivF2nctygunUru2P72dM7x41V2/5koZ6+QXT2UHu1yHzI9mXy1DpZXzWL6l1FotpWqd7WgYiIfIv+zZjOk4t9Vbc5RoSvrBTOkUf/5BjE9+lyGulgGSyxUdYbCI5kQROpcfnKOiL/JLknQWoHMDrI9U14E+ZgfmA5Sg5KgLkEZf5xiHB5P4IJpkYgdLS7WzdNMDYA0rEtXZe87LYgIj4MQ+WryvmpEDplKPTvaZGWmoXtpzzcy+2hvKqxGgw9kw9tahqytutd3BEejLBRCvlCJz3n4UylUgGf6VEvT7ie9gAADEdQMGBsMgEmI4xQON1ArBikABqNcLqgKSysVzfWmpqu5xo9FeYsiIbxb2WoBVCzx4CIababI5RB0Iy+hrK1KUhbnouyS/LPOrhJdXNqP7t7wxDssB3TRSMgVWGLvX9WF8MyaQ7CVLZyBQY69JUSofFzEOrq5glv60BERD6iFmWHHkDcWAAwoiCxeyyqidRAk1jg9illloNpWHTmBXz4Jw08Rx79T5+C+KpDRmgibIHAJC10h3QuX9pJ8k+SW01VqDwLRD/o7j6DYMxPCkX59mLUHqxB0GxXj6Kx8QMMje6GqzVdMSEJWWuyul6rZrn+8uDIokNaZAr0kRnIeUuLpDB/+RoO3JXXAt3ySKR8pkHGWznQPh0GT7m41oc8OgD8KgiB8uW4jvYArF+aLlnzwICB8kQrPzfLvyGK6PmYbylA8bEqlF2LQ5z9Buf6fMTOyMPgpI3IWbsIcZ4qfNPq5tB+7vgBUEQgybF/1mgxy379o8WCFtlHXLppdSAiom/F+aOovFcDa4QxDPPf6x6L6g7poHtvvstjunQ2F2kfTceuN6Kh9HQc6qd6H8R36FBiiEN0r24gII8kA3Kfz0Djo1vw+kzH74HOf+BI9ehziK7JReKHwzG72+lO+7rDMDFyGGr3lsJgv0FDknCtcz1rumFrbtejlDosKN/mcNOoOydKUKqIQtSvFAAkXDZ5Dp1cl7caJXsHIioyCAoAktnsXQAGAFftz3H1Jo8WmL+y/9+C0r2lGDYtCt2fU9KH9miXINnbtrEcZZ8FI27KMGDSHMxX6aBz+NsJVYd0UM2OhruvZi4pgEaj7SH3khFVp9yWxDt+EZjzu8EoSE2D9JvozjMNxo9KUBsaBc0Qa51Nne3lwo2qGzy0nxvDJkRh2NkC5B7sunnX8mEBSpsARExH9KUC5B1wSKspRvnZzrdoabaNjhtZByIi+tYZPyxB0Az7zam9VJ+PpBwlli0Og/SVGWYffF6832233ZaxcOFCDBkyRJ7m2vEPkOs3Hc/bz8RTL5ih2/ASXt16BE1XvsIl42eo2PY2crYfw88WbsfmRWNwO2xPFcl6H7q6WhjOByBk5ijrpUs/DEKAORf6cWvw3OjbbVl2Xzd4/CTcXroUf9hUBUPNfuQbruKOkzU4YbqKgNHjMU4zCT/75B38YWUuCnfvRP6WwwhaosXkAHlZX0P+R3rUX7iE87gHUzXD0PDBS8jatBelB6px54OjoN9cCF09MHL6mO7PZ3VVXgRgoPF9vJSVi70l+1EdGIFRn/8FhZUNwH2/wJm33sa+z2twpqEJihFTMUoFmA/l4tVtOtTrDTD8OAQP//peL/IQUPy/PXh/Tw10uf+B/P/3RxT+ORoBp4uhfacY1XXn0dir9rD5ohzvVBxHfflBHP60HDl/2o87Vm/GK5MCgB/8DJqoABSszkJtx+1o2JeBTRfnY/MbcbhjgEM9ag1oaLsDD4y/29rfMj8bcAUFWRnI3VmIDw5cw5xZAdhTegRNipEY82UxXsrdjzPnjbjU/nOMv6cBH2S9D13dGRi+UOLX021jRUZ1jx8Ob/0J5mdqMMz21X3wj1tR8epLyN65F3v/cRVhDw7Azvf349TlW/DDT7djq2Pfjx59Q+rmsf1qi6HduA/6T8+goUmBEVNsdVFFYNJPq/DOci1yd+7Fzvc24XDQEmgnBwA/DMLkcVewcdHvkf3Xvdi5bRP2/G8cls65G/U7tXj773ro6xow4O7JGH/PcI91ICIiX2JGaXY1xqQ8jKAfytN6YkT+gmdReEyHwvfykZ9vf11C2JLpuFu+ej9y5coV5OXlAQBuCQgIECdOnIBarZav51LNK7GofGwflt4vT6H+RrKYYYESKiVgsQBKpexqr1YLzFcBpUrp/XVgHRIsX0lQBCih8LPmISls/+8F6YoZkkJlvT65Q4JFcr5W2Rue8pCsFYai1QKzpIBqiBc19KY9DqZh+FujoNs3H4PNFkCpgrxZYSubxU8JlatEbziWu6OHy02uh2SBtRrWOne2m3w9B9dVNy/bz6UOCZav3HzGnna7bTz04LrqQERE3z5zMRJWD8SWd2d5PGZ915w7dw7jxln/0movL6epReUnDyCKAbxPUChVtiBF0T2AB4BBSqg8Bayu+CmsAZ89qBzU+wAeABRDHIItv94H8OghD4U9EB2k9C6AR2/bQwGlykUwaaMYYm/7PnIsdx/a12sK5zp3tpsH1103oMf2c8nPw2fsaV6OoxtTByIi+rZIx3RAZESPx6zvst4F8R3D8ewOre0GAqLvmVYLDOeNgKUe9Y2Wruu6yTtsPyIiulEiX8eW2a4uIP3+6F0Q7+fmjC7R94B0SY/6O5/Dxhc1kE7pYfSlu1/6AbYfERHdKApl364E+C7p9TXxRERERET0zbuOa+KJiIiIiOjbxiCeiIiIiMjHMIgnIiIiIvIxDOKJiIiIiHwMg3giIiIiIh/DIJ6IiIiIyMcwiCciIiIi8jEM4omIiIiIfAyDeCIiIiIiH8MgnoiIiIjIxzCIJyIiIiLyMQziiYiIiIh8DIN4IiIiIiIfwyCeiIiIiMjHMIgnIiIiIvIxDOKJiIiIiHwMg3giIiIiIh/DIJ6IiIiIyMcwiCciIiIi8jEM4omIiIiIfAyDeCIiIiIiH8MgnoiIiIjIxzCIJyIiIiLyMQziiYiIiIh8DIN4IiIiIiIfwyCeiIiIiMjHMIgnIiIiIvIxDOKJiIiIiHwMg3giIiIiIh/DIJ6IiIiIyMcwiCciIiIi8jEM4omIiIiIfAyDeCIiIiIiH8Mg/jtGajLA3Oq4wAKL5PDe17WaYb7S9VayWOBt9bxe11ObNemQ/V6Nd/l8F8na33sSLGeNMMsXfwu8Hgfwor6tZhiavM7te6r/9P31kNxOCkRE347rCuJrc2KRccz2prUcKfMKfH6ivrkkGI6Uo/yA46sKhis34ODQVIq02AkIfTANJZ2dUIOsyFCEzs2H0XltH1SD3EeiERoyAYm7bbWpyUJkaCji3/Oidl6v66nNjMh/PgWVHf5QyJO+81y0v7c+yUXstAkInZENvTztm+b1ODCjdHksJox1V9+u9LR9Jnki2fWnvr8O5t1JCA4NhvaQPIWI+gVZDOoUn/aRdKUXJ3y+JdcRxBtx9FAQNONsb6vKYNRooJKtRY4UGBY0DKZ9K5CyXo87xoVheIAZpcsiMWFhMQwd8vV74c5ZyNn3OqKdFgYjLvVZPLtAg2FOy31RKBb9rRw5s4DB/gOti+6Nw9LEZ/FcpBe183pd921m3pmNqidKse+5IFnKN6i2GLmHvo2vyi7a31tjF2Ff3iIEy5d/G7weByrMWrsPr8+UL7frKZ2Aftb310E1aT4WPaHFrFB5ChH1C04xqCw+7Y0OC2ryUhA7V4uCU83y1H6n70H8+XKUBMVB42d9q/tPA+Km9XRgJMWdwdCEBQIDlBiqUiFowiwszXsFEQe1yNXJ175eCgQ/oYX20W8x6LwJVCrbV8VBwZizSotZw+VruOD1uu7bTPXo69jyRPfl3yTjsQKUnW2TL/5Gdba/L/J6HBA5uFODpWueRYRSnkBE/YFTDCqLT73WYUD+49OwYdBS7C7KwrORw/r9r+59DuLNVVUY9psI27sa6AxRmPhL2UrUK1Jr1w83lk8KkLYgFgmPJCBtRw0snSsZUb42BUnz4hH7SAryazpTums1QJeXhoScGgCA+WA2tKu0zq+dtdZ1vcnXrEPuKi3SFmSjyroAug1aaFNTkGvdROc2tTuM1jrEa6CZkYLieod8vNmW3ZUa5CdHQxMZjYQcHUztXUlSvQ75yxOQXQOYD+V21WmDDmZbWbWrtMg9YnFa1/ZpGA9kIOGRBGsb51VZf4aTtRkAoMOMqrw0JMxNQnyiFvlHHM6Ee1NfGel8ObIS4xE/Nx5Ja8phtv0CYy2jFgXnLajZkYb4SA2ik+2/0FjbOmNnLRr3Z0G7Sotie9e5yc+pbMeyEB8ZjZTdRuuZhh1aJM1LQOyMeGR86OHMvof2B2x9uSYJ8XPjEZ+YhfImWbo7XoyBnvrUUz0627LRgqo18dY+Oe88ZgDbWRc3eXRqb0T5mgRER2oQv7wALoraxcv2sNQWI2tBNnTny5G1IBqayO7btpwttvbrvASkrCmGwb5dyYza3VlIyKkC6ouRMkOD+LWy+zRqi6FdpUXKiwW2y8JqUbxKC21yBkptm/E83pzV7pTNGbb8tasyUHrWOgazFychYW4sYpPzPbcRAPORfOv8NjcJ2ryqrjHrTd16bD8J5s+s6VUdBhQnR0MTn40a271CbudWebk60+z5aTvbrtu6jnUgom+YcwzqHJ96S4JudQLyR72OjfOC+n3w3ikgIEDU19eL3jGJoqeSRclV29sT6SLmTb0Q4oLY9kykiHzIxeuZbeKCLJfvqwubY4Q6Js/aHu3NovrNGHFfXJ6oa7emN1ekivDO982ibEm4mFdoEkK0ibIX1CIko9q6YlW6CAlJF7Z3QohKkaqOEXkNQghhEpXrV4h5UWoxbWOdNXVZiEg/YVvVkCdi7osReQbhRb4OzmwQ09SpotL+vr1ObJiuFit01rf6whUi8bdqoX7gcZG+Sy8umC6IsmXhQv1UkTAJ0btttVeL9PAQkVx4QbQJIdoaikRyiFqkVgghTJViw8p5IlI9TWwwWFfXZ0cK9Zxttu0IIfTrRGK23uW6ojpThD9TJJqtb0R6SKqodNFmQjSLkufVIsb+vr1O5MXdZ+sPb+orY8gTMRNTRaV1w6JuY4wIz6gWQuhF0cpEMW2EWoQ8ni6KTl0QJmOZSA1Xd25LCCEql6lFzGaHPcltfl1lC3kqUaRnF4lty5JFZlWztZ3s5bu0TTyunieKXBXWU/sLe1uEi9QK28YNG0RMeLqoto1jJw15IqZz3Hg/Btz2qT3NZT3sbRki5j2XLtbt2iZSn88UR+u7jwP3eVhVLlOL++asE0dNbUK0N3frW6f+8LY9OsdjuEjcXC2a24UQX5WJ1JBwsULXZl3n1DoRGZIqymxZNVekinBbXibdBpH6eLhQxySK1Ne2iaLXkkVqoX28dmnbn9w1zwghRFuZSFbHiDyj8Hq8dbH12ctHu5bsTxWp+9uEuFomkkd0zS1HXw7p6lsh73shmkuThTpmQ+d8V7c5Rtxna1Ov6tZT+5kqxYYlj4twdYxIXJYptu3KFMnLikRdu6e5VQhT4Txx3++2CVO7EELoxbqHbG2hLxIrXogRIepUUWafoz3UgYi+YZ0xqHCOTw9ndo9Fba/Mw7I8TEVinjpGbDihF0XZK8SK7CKh/0q2Tj9RX18vAgICREBAgOhbEH+1RCQ7TFj6N2O6gkPq0YXNMUIdEiOSV6aKeVH3ifCVldYDkRDWg0eUWqSWd63fvCuxM3AwnSgT1ZdsCQZZQO0UxNuWOAQZplNlQm/qCkRjNncdHD3n60B2QLYe7Jy3eWFzjFAvc/h0RapTMOHtttpKk4X6oXXCvmsKcUHkxTgEkfL6XtomHldHinW2D+jfTBXb7NuRr1ueKtQhyaLIYA2a2r5qFrbwyTkwO7VORKodvrC6KFdP9e1iDYS6viBYv0xEdgaw8vp1D9qd3/eUn61sUY5tKETzmUpRecYWHbaXdRszdvJ6ysvXtj9ZqKdvEJ1bb68WmQ85fFF0JBs33o4BT33quR7WskbaAv4uzuPAcx7y9u6a6K2BsHN6r9pDPh6FEPo3I4X6+RLRJtpEyfNqEdl5UBKdQWVyqW2UVqQK9YhkUeYwLruRj8OrJSLZqZ17Hm9OqtJFSOc220TJsnRxtF0I0W4S1furbcGvEHUbpznvD059L6uHsJcrUqw7ZXvvTd08tp89XS2S9ztsx+PcqhfrZH3VXF0kiqptY6O3dSCib4xTDCqLT71WkSrUIyJF8sYSUamrFNtWThPq8BWi0uM89O1wDOL7dDmNdLAMltgo2w0EtSg79ADixgKAEQWJGmgiXbwS7T/rEgAgMA7aNTnY/tEhLDIkIWWX/XdaE4znlTDs6/r5OqvmDsyZMgJKAKqxGgw9kw9tahqytuu7/czsier+aASrgJrXEpD1s9exw+EGzb7na4KxUb7MM2+3ZWoyAqGjvL8p7s45eG6mEaUHagHUoLg+AtPvlK9kM2UlcqbUImNaMIJ/k4KCerj++cxkhBEKKAd1LVIMUgCNRvT+mSQmGBsA6diWrksTdlsQER+GofJVveJlfmFhTm2o/JUGYe1lyF6chrR3y9zulz21v+miEZCqsMW+7dXFsEyagzAvLpn3dgx46lNv6hE62l3prbzJw4nqDqhQC/0ZecL1tQcADL83GGg0wQQTTI2A/2B/h1R/KJWAsclh1N0bhmCHcdkjs6nn+nkyYQ7mB5aj5KAEmEtQ5h+HCD8AfiqEThkK/XtapKVmYfspt73ZOV8oBjnsbYOUUMAIo+MO1du6ObWfXTDCRjnu1Z7mVhOMjYEIdOgrZegczAl1dRG8l3Ugom+AYwwqi0+PZHWPRW2vrCOybADg3gRok2dBE6nB/DU5WKQoRon12uF+q09BfNUhIzQRttnu/FFU3quB9ab9YZj/ng66Qy5e783v9rQPAgAVNFODUbWjpPMAO9DPgqDYLGStcXglhkIBC3TLI5HymQYZb+VA+3QYHA/z3rAcTEPyf0ZgyxuzoIT92cfXn6/3erEtPwANxl4EHgpEz5uP5h3FqDpWBik2zv3TkvxUmLVWh9rPyrExVkL+3FnItl1j7mSAmyex+LlZ3hM/QDEhyblvV83q+77Rh/wMebGYtnkwnn0rBzkvxLlft6f29wOgiECS47bXaDGrx3tjejEGPPSp1/XwoNd5dEgAghB0tzzhetrDymQ2WvOALS9X3C3/RgRjflIoyrcXo/ZgDYJm2x7VYtEhLTIF+sgM5LylRVKY+94EgIFu6jBwgHxJ7zi1nxvu51YAaIGlh2v57W5WHYiol5xiUFl8OknbPRa1vbSTHDOxHestFrR0LrCeOHG8V7E/6n0Q36FDiSEO0bYDk/HDEgTN0MjXol4YFvoAlLU6VJkBIAKaaKB0Y37XDWaSAcU7qiChGiV7ByIq0nrThWQ2Oww491qabWtZdEhfVYWINa9AowTQWoq0eQUw9iZfPwAwwmi7Yc/ySTUMbg5ornm/rWETojDssxKU2m8S7ZAgyW+slB94J8zB/CEFSFsmITpafm69a13jjiRkHAIwKAiatAw8G2yE2eGmtc42mzQH81U66ByeN1t1SAfV7Gj09rYZYBgmRg6DYWsudPYyd1hQvq20j39foS/5GaErrUXYFA2UfgCumJxu7HPUU/sPmxCFYWcLkHuwKwfLhwUodXMzZxfvxwDgrk+9r0d39nHgXR4tX17u/L/lQAlKfxmNKBdPt+l9e1yDZD8+dBhRXl6L4IejMQzDEPdEBGordF392KRD2ZlgxE3p8WtGlwEDgcZGNHYAgATjiWoP48I7qkefQ3RNLhI/HI7Z9h85TpSgVBGFqF8pAEi4bPLUmxrMmaeC7pDD6a1jOuhUcxDd68fBuWs/dzzNrRGYPtOIgi3lsNjTLDUoPmBw+LwESytucB2I6Ho4xaCy+LRXJs3CfEspyuwn81prUX0mFBHj5HFE/+J32223ZSxcuBBDhgyRp7l2/APk+k3H8xEq6x88ya7GmJSHEfRD+YrUnRm6DS/h1a1H0NTYhIYmBUZMGQXVTwejaWc2dlU34WpAGJ6cp0HrTi2WZuVjb/FObCo2I+7lpxGkCMBA4/t4KSsXe0v2ozowAqM+/wsKKxuAOwfiyF/ycfDzenxhPo8Bd0/FLQe1ePvveujrGjDg7nBc2fAosr8cgzEdp3Dwo4M4uL8Muv83Hs88PhkB7vK9bzrGOJ7OVqrQcTQHGW/mY+9f9+L4iDhM/tce7K/twM/HjUfrPi2ydujQcNGMJsVITP1BJbQb90H/6Rk03DIME8eHeb8tVQQm+e/B0sUbUVV3Evu3nsXVgFOo+bQJVwNuQ0PeZuz7XI8zjQNw96TxuPt2AFAhaMBhfKCcj9c7A55aFK9622ndn18qx5v5R9D+w1ZUb38HJT9YBG3KKDQVO7bZZIy/Zzg0UQEoWJ2F2o7b0bAvA5suzsfmN+JwxwDrUzs81/du3O5YpfGT8LNP3sEfVuaicPdO5G85jKAlWkwOqEXxqixs/68GNH7VhEH3dvVfzekGDPjFRIy/+3b4NVbgzfwKNHxejprbpuOx2Ro3+Vmf7vLqNh3qaw1oaLsDD4y/G7djMJRXK5CRno3C3XtRdjUMEwfsxAcHTsH8oyhMHuEwYXls/zEYP24qJv20Cu8s1yJ3517sfG8TDgctgXZygEONbU9KeacY1XXn0Wi6ioDR0zHySy/HAOCmTz3V4350lP8Z7x+qx5n6Bkg/fQDj777dxTiYitHCXR5R+Mn/ZODtv+shBgB7Cvag5qN38B/57fhjYQ6iA8zQbXgN+R/pUX/hEs7jHkyNmuVdewAAGlD+zkEcP/93HDxUg/L1r2L/HRnY/PJEBPwAuP3XUzH+7KtYvqcVP/q/1di0Zg9GZO7AkjEKa3vax5h9DpFnDwB3DMCVna8iI7cQhQX7cW12HAL27MMR0yCMnHILKr0Yb938MAgB5lzox63Bc6Nt6UMHouGDl5C1aS9KD1TjzgdHQb+5ELp6YOQvziDbqe/HIyJag4Cil5B1qgO3Gw8gY3MD5m98E3F3DvC+bh7bz97PNTjT0ATFiKkYpQKAAQiaNN7N3GpNu7IpBb/PLsDewu3YtMeCuOVzcLdFh9ys96Grq4XhfABCZo7C6Mke6kBE3xBZDOoUn/bSD4YhLOQS1r34AZp+ZEH56r+gfcV7+OMDLubBb9mVK1eQl5cHALglICBAnDhxAmq1Wr6eSzWvxKLysX1Yej8AczESVg/Elndnub6emLzXIcHylQSFStnZlpLFDEuHEqohzq0rXTFDUqis12l3SLBIztds95X3+UqwmC2AUgWlAkBH73/m935bACQLrJtTAhYLoOxqo+vSIcHylQW43VaOHkhXzLD4KaFS3oCtt1pgvmqtU29zkyxmSANkZe5lfpLFDAvsdZFszermkz21v70d7ePBS70aA270qh5ueMxDssACJZQDbPtngBKKnsa6V+2hQ9rwdRj10T7MH+K4fRl723uzXVfs84r9833YV70i306rBZKihzL3csw687L93HA3t8K+n8N1WjfXVQciui6yGNQpPu0rr+bvb9e5c+cwbpz1Z79eXk5Ti8pPHkCUrYGkYzogMoKT143gp+h2IFAoVS4PJIohDgGcX+8DH3e8z1cBpcphgHs6ULvh/bYAKJRQ2dpGIQ8gr4efrR6etu1AMUTVq0DBo0FddeothdJFmXuZn0LpWBeF58C3p/a3t2O3BM96NQbc6FU93PCYh0JprZd9//RmrPeyPZy3L2Nve2+264q83H3Npyfy7Qzyosy9HLPueGw/N9zNrbDv527SurlBdSCi3nOOQZ3j0z7r5fz9betdEN8xHM/u0HbeQIDI17Fldh9+tiAi+r7qkGA5a4ARLag3GG3XWZPX2H5EBFkMKo9Pvyd6fTkNERFdh1YDqnT1nTfRKu/VIGK4j5z26Q/YfkT0PeZ4OQ2DeCIiIiIiH3Ad18QTEREREdG3jUE8EREREZGPYRBPRERERORjGMQTEREREfkYBvFERERERD6GQTwRERERkY9hEE9ERERE5GMYxBMRERER+RgG8UREREREPoZBPBERERGRj2EQT0RERETkYxjEExERERH5GAbxREREREQ+hkE8EREREZGPYRBPRERERORjGMQTEREREfkYBvFERERERD6GQTwRERERkY9hEE9ERERE5GMYxBMRERER+RgG8UREREREPoZBPBERERGRj2EQT0RERETkYxjEExERERH5GAbxREREREQ+hkE8EREREZGPYRBPRERERORjGMQTEREREfkYBvFERERERD6GQTwRERERkY9hEE9ERERE5GMYxBMRERER+RgG8UREREREPoZBPBERERGRj2EQ73MkWM4aYZYv7iOpyQBzq3zpdZIsMJy/USX8BrWaYb4iX+iNG9gnsjJIFgskx3QPvF5XssDibsUmHbLfq/EuHy9JTWZYOuRLXbsp47HVDEPTjazRDdZfytchweJ120uwNJphkS/udAP3iRvM6/3km9RfxsAN77eexsmNcVPmjb7wNLfKSRYYzR5axoeOo/1yn/qe6FsQf6UGxRuykL2jpvvO2dqLQfx91mFB7aECZK/SQrsmH6XHDJB6CnQ+yUXstAkInZENvTytt5pKkRY7AaEPpqHkBs4TNe/GInpCKKLXX3cJv0E1yH0kGqEhE5C42yhP9OyG9YmLMtRkITI0FPHveVEmr9etQVZkKELn5qP7mkbkP5+Cyg5/KORJffFJLmKnhSL4wUQUN8oTZW7KeDSjdHksJoydgLR9JnliP9CfymdG8XPBCA3RQidPkrOP+chMVMvTcCP3iZvA6/3km9KPxsAN7jfzvjTEPhjqfpzcCDdl3ugrT3OrM/txUvOG65bxqePot75PSTAeyEXW67kob5KnAZYr3aLU75Q+BPFmFDy/AfidFvOxDmm7HfccCbqcbFQxiPesvhhJD07DuuphmJW6FEsXaoCdzyL4xR4On2MXYV/eIgTLl/fFnbOQs+91RMuXX6fQ5H3IT7khJfRCLYo36G7AWaNQLPpbOXJmAYP9B8oTPbthfeKiDPfGYWnis3gucph85e68XjcYcanP4tkFGsjXNO/MRtUTpdj3XJAspY/GLsK+D3MwC4OhHCRPlLkp41GFWWv34fWZ8uX9RX8qnwpR8xZhzn/MQpg8Sa6nMd9T+rfJ6/3km9KPxoDLfjNDt6EYtU7LvKOKzcG+vy5FsHIwBssTb5SbMm/0lfu5Va6n42RP6f3Kt71PHctCyqmJ0P5HGKp+l4Uax7Tz+cja3fcvx8a8WAwfPtzhFYv88/K1vl29D+IbS1BsCUOYElDdqYLuWNc3RcvBbFRNWIpopdMnyJFFh7R5WkiLd2FLmgZBKhVUqiDMig2Vr0k9aTyKgnID2uTLr4NKpZIv+sZ1lmFQMOas0mLWcPkaLni9rgLBT2ihfbR7oK569HVseaL78uunwh3ffrNSD1RTliLruQh8p6dvr/cTstKj/J0q9D0MAhAYiKHyZd9J7ufW77RveZ/S7StAUFgo4BeIQMVR/I89yO4wIH8LkJR4Pf0RhEVFx3DsmP21A/MD5et8u3ofxHcAGKDo+rn9ksl6JtSiQ+6xCCya8p0+BFy32i0ZKJXmY9ETsm+tmtdRszrC+n/JiPK1KUiaF4/YR1KQX+P55yDL2WJkJcYjfl4CUtaUw9wBoLYY2lVapLxYYPtprxbFq7TQJmeg1N2p6w4LanZokTQvAbEz4pHxobsV7eumIeGRBMQuSENBD2W0kmD+rBhZC7JR1WFAcXI0NPHZqLFdy2j5pABpC2KR8EgC0hwv1bpSg/zF8YifF4/4xCyU1kswH8qFdvUu1DaWIGuVFtqdtnNFHWZU5VnLFZ+oRf4RD3W4UoP85GhoIqORkKODqV2WLhlRviYJ8XOt23X1U51Lvek/D2WQ6nXIX56A7BpY67tKa31t0MFs1iHX9j73iMVpXdunYTyQgYRHEqztmVdl3U9bDdDlpSEhx+F8hb3N5iZ1bzPb+todRmv/xGugmZGC4vquVeQsn+QjZYYGmhkJyD7U/fAvnS+3jte58Uiyj1dPHOqqXZULndkM3Qbb+3erYLGNHe3CBCQ8Eo341T3k6WmMONb3WBbiI6OR4uoSK3djQzKjdncWEnKqrPVcEA1NZDyyjnkYAzLe1KV2p709bGPftr9rV2Wg9Ky1jbMXJyFhbixik/PROQQdyof6YqTM0CB+bQ0k+/IXS7t+2fJiHJtq7GMiAVme5gtP+7fdlSrkr7bXKwul9YBhX5b1/epSGOTreyqfizkDsn0KcJjz5iYgfm4SsnaUo2BNAlJ2GL0b+57KIOduzHjkYc70MAdbPslHytx4JMyNR9KaUhha+3BMqC2GNnUDKjtqkG+fd2z7r8uxBXTOO/GRGmji01Csl/0s72nfk/G8HQ+8OY5dz5zibo5wMbe6zaOTCTU70hAfqUH0gh7GhIf+diSd1yF/uRYFNTUoWB4PTWQ0UvIc9jd35e9hbnYZZ7jap7qtWwyD66LeGBIAP/ubRjTautuwdTuw4FkEdab1Xv0ZCUHBKqhU9pcSiuvI76YICAgQ9fX1wmvtlSI1PF1UCyFERaoIyagWQjSLsoxMUdlsEmUb14l1G8uEqV0IIS6Ibc9EisiHXLye2SYuyPP+zrsg8uLUQv18iWiTJ3VqE2UvqG3tKoSoShchIbb2FkKIhjwRo04Vlfb3J9JFeFS6ONps/WzJ82oRbvts2/5koY7J62rntjKRrI4ReUb7gkqRqo4ReQ3Wd/rsSKF+qkiYhBDi0jbxuHqeKDLZ13XULCqXhYuYzXW2t2UiNXyeKLpkfXthc4xQL+ssYRdTpdiw5HERro4RicsyxbZdmSJ5WZGoaxeiuSJVhMflibp2YR1PS8LFvEKTEMIkip6JFJm2BjAVzhMxm201qkh1rp9oFiXPq0XMRlu52utEXtx9tnxk2qtFeniISC68INqEEG0NRSI5RC1SK+zpdSIvLlykVjRb3xs2iJjwdFHd7piJjVOf9NB/jjyVwVQpNqycJyLV08QGg3V1fXakUM/ZZu0fIYTQrxOJ2XqX64rqTBH+TJGwlr5apIekikphEpXrV4h5UWoxzd5GPbSZvnCFSPytWqgfeFyk79KLC6YLomxZeNc4kTuRLsJDkkVRQ5sQok1cKEwWIY7j1ZAnYiamikpbs9ZtjOkcr/Lx6ES/TkSqHxfbbGNMCL1Y98w6oe9Ms49Vk9g2R+3U55XL1F1jxsv6hjyVKNKzi8S2Zckis8pWWDsPY8Ok2yBSHw8X6vumieSNlaLOZBL6jTFC7W4MyMvXQ1262MbZy0e7luxPFan724S4WiaSR4SI9BPW5UdfDukcj53li0kUqa9tE0WvJYvUwjqhL1whkuNChHpJmXP+7sZxQ56IUYeL1NI60dYuRNuZDSJmRHjnNuXzlPv9W+bSNvG4OlKs09sXtImyJami7Krzap7L52bOcLGfmLY/LkKWlFn3k/ajIj0kXKTrTKL5qjdj31MZZDyMGSEfA47czpke5mBTkUiMyrTlbRJFT3XtUz0eE+THF/l7D2NL2NpaHZMpqr8SQrQ3i+qsGIfted73nPSwHWd9PI71cU5xPUfUd59bPeQh7MfJiamixGCdK+s2xgi1w5hwPo566G8nelG0MlnEhKjFtJVl4kKbEKKtTmyIUYuYLdZecF3+Zs9zs7s4w8U+JU6tE5EhqaLMlk9zRaoId3fsvAEubI6xtesFkRdja29Dnlix5YJori4SG97cIIqqbYU5nNk9FrW9Mg/LcxaiclmkmLdyhVixcoXI3Fxpbc9+oL6+XgQEBIiAgADR+yBeCFG3OVEkFx4VRUsSxbYGIZpLV4jME22iOmOaSK+yTmbT3O5w32cXRF6M2nWA68B0okxU23dOwwYxze2kat2ZnCbBS2ViW7ntvTzIvVoikh3zkk1+zWcqReUZ22BvL+shoEoVZZ07ZbMoeqarHG6DeCFs21SL5P2Oe4NerItSi9TyriXNuxJtE3Gd2DBdLWKyjgpTmxCirVk02w/o8vqdWici1cmixOGA31aaLNQP2SZmB92XW/vGHsS37U8W6ukbhD3UFe3VIvOhroOKE9mBzmP/OeipDPL+kQc4+jdTHQ5AsnXLU4U6JFkUGazt3PZVc+cXR6eAwYs269af8nbvZB2PkW86tLaLLzhdXyCsXzYiOwMfD0G87SAYmW3L+9Q6kbrdNs6b60Slrs72hUWIsiXOAVGf6hvVfczY9Tg25O0jD4RknMrXQ12cVKWLkBHJtgC3TZQsSxdH24UQ7SZRvb/adiJFiLqN07r3X+fnusj72eM4dlGn6owQoV5pW+KU7mn/lrOOkc4xdLVMpC4pc3nSw335PMwZsjHmHDzL97/ubSLvW/dlcNbTmHEbxAvhes70NAcbNohp6hiRWWWynhxobhZt9vXkY1N+TJD3q/y9x7GlF+seUovkUodyOm7Pi32vk8ftyPXxOHYdc4q7OaI3+3K3sSWqRXqIWqzQuUj31N/ddB/H8nbuXn5Pc3MPcYZT+7s4BrgaFzdSc6VIfSZTVOrWicSXK0Vbu16sW1kkTJeKxLyntgmTMIltT7n6wtOz5oY6ccFkEibjUZH3TLjTl6xvk2MQ3/vLaQAEPbcFOTODMP2NLZivKEaWYT60Y2tR8rfhCBttvQbu1o8qUQsjChI10ES6eCXaf9L7PrkDdwQ6XILkhmqsBkPP5EObmoas7XoPj24ywdQou477zmjMn+bmAmSzyWObK3+lQVh7GbIXpyHt3TL3614ywqg0oMThp++an82BJsjbS6mCETbK8fknJhjPK2HY13WJQFbNHZgzZQSUCML8zEUYXJSACfeHInZNFZrd/ZxlMsIIhdNNlIpBCqDR2O2aTlOTEQgd5fbmO9NFIyBVYYv9J9fVxbBMmoMwN03ryNv+66kM3dw5B8/NNKL0QC2AGhTXR2D6nfKVbKasRM6UWmRMC0bwb1JQUA/XT5zpRZv1zDoeQ0e7q5EJxgZAOral61KQ3RZExId5cc2sCnMWRMP4tzLUAqjZY0CEfZwrg6AZfQ1la1OQtjwXZZfkn3XgbX3Dwtz2y/WMjR71pi4T5mB+YDlKDkqAuQRl/nGI8APgp0LolKHQv6dFWmoWtp9yMQLvDUNwDzcbezuO7Yb+PBA4ZXAxb3jav+UUiH5kFow7ilEDQDpYhsFPRLscu+7L5/2cMWpsBMz6WuulBpZa6BtDETZKvpZ77svg7PrHjGzO9DQHD5+P118YjOLfTUBwaCyyjjQ7XG4g08MxoRuPY8sEY2MQRgW76q1e7HvoaTueeX0cu945xcMcAXiZh5OhCAwEPj/rosSe+tsLiruDMEzezk7l9zQ39ybOsK7rP9jfYZk/lErA2NStl28MpQY5eUsRNnoRtvxJg9rXCxD04hxAV4rG0AegggrD7q6C7oQEHMnqHovaXllH5BkDyl8GYZhKBVVgBJ7Nex2zvipAsYv1vk19CuIBQKFUQakwIn+9BUl/CAbQjGaLbQf92TAEXTLDhGGY/54OukMuXu/N7/EO7u8eBSKmaIATOlTLn2nbakDVEQMkWKBbHomUzzTIeCsH2qfD4Lg7uCK1ej/BeWLIi8W0zYPx7Fs5yHkhzn3/DBgIWIIQ96csZK3pej071s3k7YWBfhYExTrnl5UYCgUAZehSbK+pxbH/o8Wvj6VAs7zc9cFygJsny/i5WO4HoMHofoL3A6CIQJJjedZoMeuX8hXletF/PZWhGwWi581H845iVB0rgxQbB1fTKGA9CM5aq0PtZ+XYGCshf+4sZLt6xERv2swbfoCh0UON/ADFhCTnfl41y/1Yc6CIno/5lgIUH6tC2bU4xNkrX5+P2Bl5GJy0ETlrFyHOU2Y3or59Hhte6E1dEIz5SaEo316M2oM1CJptuzneokNaZAr0kRnIeUuLpDC3I9CDXoxjG6n9GjB8mMu+9LR/d6OZg/koQckxM0oODEbcBPkK6LF83s4Zqiey8GxHHlbMS0DCizqEvfce5rv7YtyN5zI4udFjxuMcrERo2nbUfHYM+1b9GlWpGqQdcFX7PuhhbA30M6DR3eNke7Pv9bAdT7w+jt2oOcWdXuchQWoHgn7pYkWP/e2Fr8wwumpnRz3MzV7HGe6+MLpbfiP4KaAcooB0KAsl47SYpQTaWpo7v0wEBgbBaDYBk7TdY1HbSztJlqdkgdnxeel+gQgaDrTJ7537lvU5iAcAw3tbgET7jQPDMSrYAEMjgEYjDONC0YsTGt8bqke10AaXI321zvnGrtrtSFmrgwnVKNk7EFGRQVAAkMxmtDiu52QYJv5mGMo358NgH2sdZpTurrIesAYMBBob0dgB6w1HJ6o9/AJghK60FmFTNFD6Abhi6n7jmd04DaL9SrHhva5bzaSzxSg45uVO3k0ENNFA6cZ8GOw30kgGFO+ogoQqZC0ogBEKqO6fg6wXZwFGF2duAGDSHMxX6aA71rWo6pAOqtnRsN0y3GnYhCgM+6wEpfab1DqsE6hT+tkC5B50uFnswwKUerrxCAB60X89lcGqBRbHjpgwB/OHFCBtmYToaPkE3rWucUcSMg4BGBQETVoGng02wuzQ+S3NtlL1os16NgwTI4ehdm+pQz9KuCZLN2zNhc5epw4Lyrc53EzpiV8E5vxuMApS0yD9puvsrPGjEtSGRkEzxJqf6SvZ5xzdgPr2fWz0rFd1AaB69DlE1+Qi8cPhmG0/rXaiBKWKKET9SgFAwmWTuxHowlX7H23xZhxbYOrsx1qU7jIgeppGtg562L9dsPfz+jRU/WoOXD+3y1P5epozuvYT8+4MlIzOwcYd27H93SzMD/XuzKaVpzI4u+FjxtMcfCQLCduMgEKF4PgsaGc5nAXt1THBBY9jy9rPZXvLO48dkuTQw73Z9zxux5NeHMdwg+YUGfvc6lUeXzmU77NS7KqPxnR5MIke+tuNrraXoPuwDMpZLtq5k6e5uYc4A3DYp4Yh7okI1FY4PPq5SYeyM8GIm+Liy8mNZNEh+0gElk6z7sPD1EGob7AeXBvrTXhgdO+2Lx1cgQmRWaiyz1lNVaisj0BEPwts/W677baMhQsXYsiQIfI0z+rz8c75WVg6JcC2YDCCfnoC+WUDMfj0flybtQwP3z1A9iHCDwIQ9uhjGHbsJSRlHYD+8lWYj32AN/+igyLmBTw/7l4MNL6Pl7JysbdkP6oDIzDq87+gsLIBUFiws6AY1XXn0Wi6ioDR4zFOMwk/O5SBp1flYm/xTmzaUoV7U5ZgfACAOwbgys5XkZFbiMKC/bg2Ow4Be/bhiGkQRo42ozgzHwc/r8cX5vMYcPdjiBhUgYz0bBTu3ouyq2GYOGAnPjhwCuYfRWHyCIeA8YdBmDyuFTu1S5H1/l7s2rEJu67E4eUFQajfqUX23mrUNzSiqSUAY8bfjds7P1iL4lVvY9/nNTjT0ATFiKkYpQKAAQiaNB6tO7VYmpVvrUexGXEvP40gxWWcWJ+N7V8Bt587iKz3qzF1xWo8HKgA/BpRkZOPino9yj8diOkPRWBqVAAKVmehtuN2NOzLwKaL87H5jTjcIR+KqghM8t+DpYs3oqruJPZvPYurAadQ82kTrgaMwfhxUzHpp1V4Z7kWuTv3Yud7m3A4aAm0k+3j3aa2GNp3HPtkOkZ+6ab/7puOMY6nzj2W4TY05G3Gvs/1ONM4AHdPGo+7bwcAFYIGHMYHyvl4vXNStLdr17o/v1SON/OPoP2Hraje/g5KfrAI2pRRaCrW4u2/66Gva8CAuydj/D3DofHQZrU7tcjaoUPDRTOaFCMx9QeV0G7cB/2nZ9BwyzBMdOpfQDV+Em4vXYo/bKqCoWY/8g1XccfJGpxwHK+fvIM/rMxF4e6dyN9yGEFLtJjcoUOu03i0jw1nqnv8cHjrTzA/U4NhtlMQg3/ciopXX0L2zr3Y+4+rCHtwAHa+vx+nLt+CH366HVs/0qP+wiWcxz2YOnq0x/qaD+Xi1W061Nca0NB2Bx6Q1c9aiAi3Y8N8KBcv5e7HmfNGXGr/Ocbf04APst6Hru4MDF8o8evpoxx+PTFDt+E15DuU77FJt7upy2BETbIGi05+GIQAcy7049bgudG2kg4diIYPXkLWpr0oPVCNOx8cBf3mQujqgZG/OINse/81KTBiirU8nfXWG2D4cQge/rWHeejOgTiy+X3o/j0AAwx/xa4Pq7BrTRYOT96Mrc8HQdFtn4jA1Gnu9m95haxU9/jh8J+qMfH1JQj7sTwVAALcl+++ByDtdDVn1HfbT+5oLEX26izk79mFnR98gA8++AB//+JniHooCOeLexr7YQhwWwYX+7rLMdPRbQxM/bXjB93MmR7mYMWXJ/DO29vx1S23w3AwC/k1U7Fy1cMYpujhmPAzPbKd+m087v6xBZ/tfhO7jjahqvIS7k0YD4u7sTU9DBGTxuD8n/+Al/bpcf7Q+yi+EoABn1RBbxyAe6ZOxWwP+54TT2N4+piufcgsnzd6cRyz6d2cMhj3d5Tjzy7miNqdznPr1DHoMQ/zDwbgTPEuVPz3LmS8cRiTc7fi9/cqUCs/jj44FdPd9be8QrCguvADHD+rx56KY6gqTMdfzj2OjRvm426F+zlONd7N3BxgS3MZZ3Q/9owKn4rxZ1/F8j2t+NH/rcamNXswInMHlozpXtIbxwLd2j0Ytng+7rVv5pdBUPw1H4afXkXFsfFY9Psxvfp7BQPU9+J23Z+x68IdGKD/AK+uqcSYd97D8yNvZj28c+XKFeTl5QEAbgkICBAnTpyAWq2Wr+eZxQKLUtn9msZWCyxQ9vzHXcj6Z86/skCCAsoA50cXSVfMkBQqazt2SLBIztcSykkWs3UdldJ5p+6QYPlKgsKef4fnn7UkixkWKKFSWs+AWCyAUulu0EqwmC3A7bZy3gCSxQxLhxKqIc7bdFs/yQJzq6L7+lfMsPjZ6+GBZIHZAihVStgq66L9LIBShZ6yctSr/uupDH1lL7uX/eN1m3mhaxzZqyTLs9UC81Vrna9/a85tqID1z4D31I7XXd8+jo0e9aEu3cj3+1YLJEXvH4/maRxLFgkKpUI2Z3jmbv/urhbZqf+D+W/Nd3/JWI/lczNnODB/mIHcrxKwaIrt8H6lEulztRj8Vj2yIuVru+apDN3c8DHjbg62LpcULvpFPjZ6OCZ0rm9vR/nnXYytzjZRuG4Pr/Y9L7bjTu+OY27ciP3QUx6dY8XWh16NCXf97ciI/FgN9Kn1yImwwCx1Pz565GFu9maf6mSvuyy2uVksFslFH0uwmB3Gbh/0qs7fkHPnzmHcuHHAdQXxREREN8OxbGRcXYSMKTfzsKmD9lfrMPwf+/Bs57XpEkqTJ6A6qQYZY53XJvINDkH8FHkafRc4BvHXdU08ERHRDWEuRtKvhiN4bgqS9gVh6U0N4AEgDNGzzMh/JRulh6pQdagcBavnYVvgRixlAE8+SYKlsR71FsB43uB8YyZ9J/FMPBER9QMSjMd0qJWGIWJSsPXGxG+AdMWA6qp6WAKGI2J0kIfLFIj6OzNqD1R3PfFsWBii7/d0QRr5Il5OQ0RERETkY3g5DRERERGRD2MQT0RERETkYxjEExERERH5GAbxREREREQ+hkE8EREREZGPYRBPRERERORjGMQTEREREfkYBvFERERERD6GQTwRERERkY9hEE9ERERE5GMYxBMRERER+RgG8UREREREPoZBPBERERGRj2EQT0RERETkYxjEExERERH5GAbxREREREQ+5paAgABx4sQJ+XIiIiIiIupnxo0bB9iDeHkiERERERH1X7ychoiIiIjIx/z/WC/XdqOGVZkAAAAASUVORK5CYII=)"
      ],
      "metadata": {
        "id": "njAGjlYt1rjk"
      }
    },
    {
      "cell_type": "markdown",
      "source": [
        "tabla de operador"
      ],
      "metadata": {
        "id": "852wRUdA1x-e"
      }
    },
    {
      "cell_type": "markdown",
      "source": [
        "## `FOR`"
      ],
      "metadata": {
        "id": "WgAIaENMMfCP"
      }
    },
    {
      "cell_type": "markdown",
      "source": [
        "El lazo `for` es un tipo de estructura de control de flujo en Python que permite iterar sobre un conjunto de elementos. Su estructura es:\n",
        "\n",
        "\n",
        "\n",
        "```\n",
        "for elemento in conjunto:\n",
        "    # codigo a ser ejecutado para cada elemento\n",
        "```\n",
        "\n",
        "El lazo `for` itera sobre cada elemento del conjunto especificado y ejecuta el bloque de código dentro del lazo para cada elemento. Cuando el lazo llega al final del conjunto, este se interrumpe y el programa continúa la ejecución después del lazo.\n",
        "\n"
      ],
      "metadata": {
        "id": "HxrSZoRAMh-x"
      }
    },
    {
      "cell_type": "markdown",
      "source": [
        "El conjunto lo podemos generar con la función incorporada [`range()`](https://docs.python.org/3/library/functions.html#func-range). Se trata de una función capaz de generar una secuencia de números enteros. La estructura de esta función es:\n",
        "\n",
        "```\n",
        "range(inicio, fin, paso)\n",
        "```\n",
        "\n",
        "Según la documentación, `range()` genera una secuencia de números enteros a partir del valor del parámetro `inicio` hasta el valor del parámetro `fin`, de acuerdo con el valor del parámetro `paso`. Si `inicio` no es especificado, el valor por defecto es `0`. Si `paso` no es especificado, el valor por defecto es `1`.\n",
        "\n",
        "\n"
      ],
      "metadata": {
        "id": "6VgjyoQtPHBM"
      }
    },
    {
      "cell_type": "code",
      "source": [
        "for n in range(1, 11):\n",
        "  print(n)"
      ],
      "metadata": {
        "id": "uXIZnLSr9jOu",
        "colab": {
          "base_uri": "https://localhost:8080/"
        },
        "outputId": "a5d0ac9e-35c0-497e-c65d-2be902aba37d"
      },
      "execution_count": 37,
      "outputs": [
        {
          "output_type": "stream",
          "name": "stdout",
          "text": [
            "1\n",
            "2\n",
            "3\n",
            "4\n",
            "5\n",
            "6\n",
            "7\n",
            "8\n",
            "9\n",
            "10\n"
          ]
        }
      ]
    },
    {
      "cell_type": "markdown",
      "source": [
        "Vamos a recrear el mismo contador `while` con el lazo `for`."
      ],
      "metadata": {
        "id": "ryn0hfdlUwC8"
      }
    },
    {
      "cell_type": "code",
      "source": [
        "for n in range(1, 4):\n",
        "    print(f\"Estudiante {n}:\")\n",
        "    nota_1 = float(input(\"Ingrese la primera nota: \"))\n",
        "    nota_2 = float(input(\"Ingrese la segunda nota: \"))\n",
        "    promedio = (nota_1 + nota_2) / 2\n",
        "    print(f\"El promedio del estudiante {n} es: {promedio}\")"
      ],
      "metadata": {
        "id": "KkL1wUIj9jL4",
        "colab": {
          "base_uri": "https://localhost:8080/"
        },
        "outputId": "c30f8a10-d004-4dc7-ea60-916197e29d34"
      },
      "execution_count": 38,
      "outputs": [
        {
          "output_type": "stream",
          "name": "stdout",
          "text": [
            "Estudiante 1:\n",
            "Ingrese la primera nota: 1\n",
            "Ingrese la segunda nota: 5\n",
            "El promedio del estudiante 1 es: 3.0\n",
            "Estudiante 2:\n",
            "Ingrese la primera nota: 6\n",
            "Ingrese la segunda nota: 6\n",
            "El promedio del estudiante 2 es: 6.0\n",
            "Estudiante 3:\n",
            "Ingrese la primera nota: 1\n",
            "Ingrese la segunda nota: 1\n",
            "El promedio del estudiante 3 es: 1.0\n"
          ]
        }
      ]
    },
    {
      "cell_type": "markdown",
      "source": [
        "## Para saber más: comandos de control\n",
        "\n",
        "Cuando trabajamos con bucles, podemos controlar el flujo de ejecución dentro del bloque de código, lo que nos permite manipular la ejecución de los bucles. continue y break son los comandos de control que podemos usar con los bucles for y while.\n",
        "\n",
        "continue interrumpe la iteración actual del bucle y salta a la siguiente, es decir, regresa al inicio del código. Como ejemplo, aquí hay un código que cuenta del 1 al 5 con un bucle for:\n",
        "\n",
        "```\n",
        "for i in range(1, 6):\n",
        "    if i == 4:\n",
        "        continue\n",
        "    print(i)\n",
        "```\n",
        "\n",
        "Este código imprime todos los números del 1 al 5, excepto el 4. Cuando el valor de i es 4, continue salta a la siguiente iteración, omitiendo la instrucción print después de la condición en la iteración actual.\n",
        "\n",
        "Por otro lado, break detiene por completo la ejecución del bucle, saliendo del bloque de código. Utilicemos el mismo ejemplo de conteo, pero esta vez con break:\n",
        "\n",
        "```\n",
        "for i in range(1, 6):\n",
        "    if i == 4:\n",
        "        break\n",
        "    print(i)\n",
        "```\n",
        "\n",
        "En este caso, el código imprime todos los números del 1 al 3. Cuando el valor de i es 4, break interrumpe por completo la ejecución del bucle y sale de él, ignorando cualquier otra iteración que esté dentro de la estructura."
      ],
      "metadata": {
        "id": "QSMHvkeZ5QF0"
      }
    },
    {
      "cell_type": "markdown",
      "source": [
        "# Desafío: ¡es hora de practicar!\n",
        "\n",
        "Vamos practicar el uso de estructuras de repetición como el \"while\" y el \"for\" a partir de algunas actividades. Ahora que estamos avanzando en el contenido, podemos hacer los desafíos más interesantes. ¡Para ello, trabajaremos en proyectos de código!\n",
        "\n",
        "Comencemos resolviendo algunos problemas para calentar y prepararnos para los proyectos.\n"
      ],
      "metadata": {
        "id": "RVVoBJ4S6-h5"
      }
    },
    {
      "cell_type": "markdown",
      "source": [
        "Entrenando la programación\n",
        "\n",
        "1 - Escribe un programa que solicite dos números enteros e imprima todos los números enteros entre ellos."
      ],
      "metadata": {
        "id": "IPqC5j7h7Hjk"
      }
    },
    {
      "cell_type": "code",
      "source": [
        "# Recolectamos los valores de inicio y fin\n",
        "inicio = int(input('Ingresa el primer número entero: '))\n",
        "fin = int(input('Ingresa el segundo número entero: '))\n",
        "\n",
        "# Verificamos si el valor de inicio es menor que el fin\n",
        "if inicio < fin:\n",
        "  # Podemos imprimir los enteros entre el valor menor y el valor mayor\n",
        "  for i in range(inicio + 1, fin):\n",
        "    print(i)\n",
        "elif inicio > fin:\n",
        "  for i in range(fin + 1, inicio):\n",
        "    print(i)\n",
        "else: # En caso de que los números sean iguales, no podemos imprimir ninguna secuencia.\n",
        "  print('Los números son iguales.')"
      ],
      "metadata": {
        "id": "BqnjoHvF7e_P"
      },
      "execution_count": null,
      "outputs": []
    },
    {
      "cell_type": "markdown",
      "source": [
        "2 - Escribe un programa para calcular cuántos días tomará que la colonia de una bacteria A supere o iguale a la colonia de una bacteria B, basado en tasas de crecimiento del 3% y 1.5%, respectivamente. Supón que la colonia A comienza con 4 elementos y B con 10."
      ],
      "metadata": {
        "id": "AxG_EE6W7JUE"
      }
    },
    {
      "cell_type": "code",
      "source": [
        "# Número inicial de bacterias\n",
        "colonia_a = 4\n",
        "colonia_b = 10\n",
        "\n",
        "# Tasas de crecimiento de las colonias\n",
        "tasa_a = 0.03\n",
        "tasa_b = 0.015\n",
        "\n",
        "# Contador de días\n",
        "días = 0\n",
        "\n",
        "# La condición que termina el bucle es cuando\n",
        "# la colonia A supera a la colonia B\n",
        "while colonia_a <= colonia_b:\n",
        "  # Usamos un operador de asignación con multiplicación\n",
        "  colonia_a *= 1 + tasa_a\n",
        "  colonia_b *= 1 + tasa_b\n",
        "  # Contamos los días en cada iteración\n",
        "  días += 1\n",
        "\n",
        "# Resultado final\n",
        "print(f'Necesitará {días} días para que la colonia A supere a la colonia B.')"
      ],
      "metadata": {
        "id": "AJ5k7Fve7f0p"
      },
      "execution_count": null,
      "outputs": []
    },
    {
      "cell_type": "markdown",
      "source": [
        "3 - Para procesar una cantidad de 15 datos de evaluaciones de usuarios de un servicio de la empresa, necesitamos verificar si las calificaciones son válidas. Por lo tanto, escribe un programa que recibirá calificaciones del 0 al 5 y verificará si son valores válidos. Si se ingresa una calificación superior a 5 o inferior a 0, se repetirá hasta que el usuario ingrese un valor válido."
      ],
      "metadata": {
        "id": "vpcyvY8V7Kr2"
      }
    },
    {
      "cell_type": "code",
      "source": [
        "# Bucle para recopilar las 15 notas\n",
        "for i in range(15):\n",
        "  nota = float(input(f'Ingresa la nota del usuario {i}: ')\n",
        "\n",
        "  # Verifica si la nota está entre 0 y 5\n",
        "  # Si no lo está, el bucle se repetirá hasta que se obtenga un valor válido\n",
        "  while (nota < 0) or (nota > 5):\n",
        "    nota = float(input(f'Nota no válida, ingresa nuevamente la nota del usuario {i}: '))\n",
        "\n",
        "print('Verificación completa. Todas las notas son válidas.')"
      ],
      "metadata": {
        "id": "DoC7iZy57iV2"
      },
      "execution_count": null,
      "outputs": []
    },
    {
      "cell_type": "markdown",
      "source": [
        "4 - Desarrolla un programa que lea un conjunto indefinido de temperaturas en grados Celsius y calcule su promedio. La lectura debe detenerse al ingresar el valor -273°C."
      ],
      "metadata": {
        "id": "MwunYu2A7Mpo"
      }
    },
    {
      "cell_type": "code",
      "source": [
        "# Recopilamos la temperatura\n",
        "temperatura = float(input('Ingresa la temperatura en grados Celsius: '))\n",
        "\n",
        "# Inicializamos un contador y una suma para calcular el promedio\n",
        "contador = 0\n",
        "suma = 0\n",
        "\n",
        "# Nuestro código se ejecuta hasta que el valor de temperatura sea igual a -273\n",
        "while temperatura != -273:\n",
        "    # La suma se actualiza sumando la temperatura a la variable suma\n",
        "    suma += temperatura\n",
        "    # Contamos la cantidad de valores recopilados con el contador\n",
        "    contador += 1\n",
        "    # Recopilamos nuevamente la temperatura\n",
        "    temperatura = float(input('Ingresa la temperatura en grados Celsius: '))\n",
        "\n",
        "promedio = suma / contador\n",
        "\n",
        "print(f'El promedio de las temperaturas es: {promedio}')"
      ],
      "metadata": {
        "id": "NyBzQaBk7j3_"
      },
      "execution_count": null,
      "outputs": []
    },
    {
      "cell_type": "markdown",
      "source": [
        "5 - Escribe un programa que calcule el factorial de un número entero proporcionado por el usuario. Recuerda que el factorial de un número entero es el producto de ese número por todos sus antecesores hasta llegar al número 1. Por ejemplo, el factorial de 5 es 5 x 4 x 3 x 2 x 1 = 120."
      ],
      "metadata": {
        "id": "8ZM2Y9_x7OPK"
      }
    },
    {
      "cell_type": "code",
      "source": [
        "# Solicita el número\n",
        "num = int(input('Ingresa un número entero: ')\n",
        "\n",
        "# Inicializa el cálculo\n",
        "factorial = 1\n",
        "\n",
        "# Nuestro contador comienza con el número máximo\n",
        "# y se realizará un conteo decreciente con el operador -=\n",
        "i = num\n",
        "while i > 0:\n",
        "    # Queremos multiplicar el valor factorial por el número\n",
        "    # y todos los números por debajo de él hasta 1\n",
        "    factorial *= i\n",
        "    i -= 1\n",
        "\n",
        "# Imprime el cálculo del factorial\n",
        "print(f'El factorial de {num} es {factorial}')\n",
        "\n",
        "Momento de los proyectos"
      ],
      "metadata": {
        "id": "TAPVGJOX7l43"
      },
      "execution_count": null,
      "outputs": []
    },
    {
      "cell_type": "markdown",
      "source": [
        "Momento de los proyectos\n",
        "\n",
        "6 - Escribe un programa que genere la tabla de multiplicar de un número entero del 1 al 10, según la elección del usuario. Como ejemplo, para el número 2, la tabla de multiplicar debe mostrarse en el siguiente formato:\n",
        "\n",
        "```\n",
        "Tabla de multiplicar del 2:\n",
        "2 x 1 = 2\n",
        "2 x 2 = 4\n",
        "[...]\n",
        "2 x 10 = 20\n",
        "```\n",
        "\n"
      ],
      "metadata": {
        "id": "milDIIZc7P3J"
      }
    },
    {
      "cell_type": "code",
      "source": [
        "# Solicita el número\n",
        "num = int(input('Ingresa un número entero del 1 al 10: ')\n",
        "\n",
        "# Generamos la tabla de multiplicar\n",
        "print(f'Tabla de multiplicar del {num}:')\n",
        "for i in range(1, 11):\n",
        "    resultado = num * i\n",
        "    print(f'{num} x {i} = {resultado}')"
      ],
      "metadata": {
        "id": "SHxTCnuB7n98"
      },
      "execution_count": null,
      "outputs": []
    },
    {
      "cell_type": "markdown",
      "source": [
        "7 - Los números primos tienen diversas aplicaciones en Ciencia de Datos, como en criptografía y seguridad. Un número primo es aquel que es divisible solo por sí mismo y por 1. Por lo tanto, crea un programa que solicite un número entero y determine si es un número primo o no."
      ],
      "metadata": {
        "id": "SO87MQpw7V23"
      }
    },
    {
      "cell_type": "code",
      "source": [
        "# Recopilamos el número\n",
        "num = int(input('Ingresa un número entero: ')\n",
        "\n",
        "# Los números enteros iguales o menores que 1 no se consideran primos\n",
        "if num > 1:\n",
        "    for i in range(2, num):\n",
        "        # Verificamos todos los residuos de la división entre todos los números menores que num\n",
        "        # Si algún residuo es 0, significa que es divisible por otro número además de sí mismo y 1\n",
        "        if (num % i) == 0:\n",
        "            print(f'{num} no es un número primo')\n",
        "            break\n",
        "    else:\n",
        "        print(f'{num} es un número primo')\n",
        "else:\n",
        "    print(f'{num} no es un número primo')"
      ],
      "metadata": {
        "id": "fUWhX6tz7pen"
      },
      "execution_count": null,
      "outputs": []
    },
    {
      "cell_type": "markdown",
      "source": [
        "8 - Vamos a comprender la distribución de edades de los pensionistas de una empresa de seguros. Escribe un programa que lea las edades de una cantidad no informada de clientes y muestre la distribución en los intervalos [0-25], [26-50], [51-75] y [76-100]. La entrada de datos se detendrá al ingresar un número negativo."
      ],
      "metadata": {
        "id": "e-6I4Ui-7X5U"
      }
    },
    {
      "cell_type": "code",
      "source": [
        "# Recopilamos las edades de los clientes\n",
        "edad = int(input('Ingresa la edad (o un número negativo para finalizar): ')\n",
        "\n",
        "# Inicializamos las variables de conteo\n",
        "contador_0_25 = 0 # contador de edades entre 0 y 25\n",
        "contador_26_50 = 0 # contador de edades entre 26 y 50\n",
        "contador_51_75 = 0 # contador de edades entre 51 y 75\n",
        "contador_76_100 = 0 # contador de edades entre 76 y 100\n",
        "\n",
        "# Nuestro código se ejecuta hasta que el valor de edad sea negativo\n",
        "while edad >= 0:\n",
        "    # Contamos cada caso\n",
        "    if edad >= 0 and edad <= 25:\n",
        "        contador_0_25 += 1\n",
        "    elif edad >= 26 and edad <= 50:\n",
        "        contador_26_50 += 1\n",
        "    elif edad >= 51 and edad <= 75:\n",
        "        contador_51_75 += 1\n",
        "    elif edad >= 76 and edad <= 100:\n",
        "        contador_76_100 += 1\n",
        "\n",
        "    # Repetimos el proceso de entrada de datos hasta que se ingrese un número negativo\n",
        "    edad = int(input('Ingresa la edad (o un número negativo para finalizar): ')\n",
        "\n",
        "# Mostramos los resultados\n",
        "print('Distribución de edades:')\n",
        "print('[0-25]:', contador_0_25)\n",
        "print('[26-50]:', contador_26_50)\n",
        "print('[51-75]:', contador_51_75)\n",
        "print('[76-100]:', contador_76_100)"
      ],
      "metadata": {
        "id": "TtjBlvwK7rMr"
      },
      "execution_count": null,
      "outputs": []
    },
    {
      "cell_type": "markdown",
      "source": [
        "9 - En una elección para la gerencia de una empresa con 20 empleados, hay cuatro candidatos. Escribe un programa que calcule al ganador de la elección. La votación se realizó de la siguiente manera:\n",
        "\n",
        "Cada empleado votó por uno de los cuatro candidatos (representados por los números 1, 2, 3 y 4).\n",
        "\n",
        "También se contaron los votos nulos (representados por el número 5) y los votos en blanco (representados por el número 6).\n",
        "\n",
        "Al final de la votación, el programa debe mostrar el número total de votos para cada candidato, los votos nulos y los votos en blanco. Además, debe calcular y mostrar el porcentaje de votos nulos con respecto al total de votos y el porcentaje de votos en blanco con respecto al total de votos."
      ],
      "metadata": {
        "id": "4BPXDNQ67ZeN"
      }
    },
    {
      "cell_type": "code",
      "source": [
        "# Inicializamos las variables contadoras\n",
        "votos_candidato1 = 0\n",
        "votos_candidato2 = 0\n",
        "votos_candidato3 = 0\n",
        "votos_candidato4 = 0\n",
        "votos_nulos = 0\n",
        "votos_blanco = 0\n",
        "\n",
        "# Inicio del bucle para leer los votos\n",
        "for i in range(0, 20):\n",
        "    voto = int(input('Ingresa tu voto: ')\n",
        "    if voto == 1:\n",
        "        votos_candidato1 += 1\n",
        "    elif voto == 2:\n",
        "        votos_candidato2 += 1\n",
        "    elif voto == 3:\n",
        "        votos_candidato3 += 1\n",
        "    elif voto == 4:\n",
        "        votos_candidato4 += 1\n",
        "    elif voto == 5:\n",
        "        votos_nulos += 1\n",
        "    elif voto == 6:\n",
        "        votos_blanco += 1\n",
        "    else:\n",
        "        print(\"Voto inválido.\")\n",
        "\n",
        "print(f'Votos candidato 1: {votos_candidato1}')\n",
        "print(f'Votos candidato 2: {votos_candidato2}')\n",
        "print(f'Votos candidato 3: {votos_candidato3}')\n",
        "print(f'Votos candidato 4: {votos_candidato4}')\n",
        "print(f'Votos nulos: {votos_nulos}')\n",
        "print(f'Votos en blanco: {votos_blanco}')\n",
        "print(f'Porcentaje de votos nulos: {(votos_nulos / 20 * 100)}')\n",
        "print(f'Porcentaje de votos en blanco: {(votos_blanco / 20 * 100)}')"
      ],
      "metadata": {
        "id": "ryWDyRRd7tbu"
      },
      "execution_count": null,
      "outputs": []
    },
    {
      "cell_type": "markdown",
      "source": [
        "# Estructuras de datos"
      ],
      "metadata": {
        "id": "8noP8OJ0Vhux"
      }
    },
    {
      "cell_type": "markdown",
      "source": [
        "Un conjunto de elementos es una colección de items, que son almacenados juntos de manera organizada. Algunos ejemplos de conjuntos de elementos en Python son las listas, los strings y los diccionarios."
      ],
      "metadata": {
        "id": "xpEUkefTu8fY"
      }
    },
    {
      "cell_type": "markdown",
      "source": [
        "## Listas"
      ],
      "metadata": {
        "id": "THSg4KYLwxIb"
      }
    },
    {
      "cell_type": "markdown",
      "source": [
        "Las listas pueden almacenar una colección de items en orden. Ellas son delimitadas por corchetes `[]` y sus elementos son separados por comas.\n",
        "\n",
        "Estas pueden almacenar cualquier tipo de items, incluyendo números, strings, objetos, otras listas, entre otros. También nos permiten almacenar items de tipos de datos diferentes juntos en una única lista."
      ],
      "metadata": {
        "id": "dzpsiqrOyJcK"
      }
    },
    {
      "cell_type": "code",
      "source": [
        "lista = ['Penélope Camacho',9.5,9.0,9.7,True]\n",
        "lista"
      ],
      "metadata": {
        "id": "DO3TBj7nAYeG",
        "colab": {
          "base_uri": "https://localhost:8080/"
        },
        "outputId": "dd16577c-d1c2-4840-b696-3d74a93fcefc"
      },
      "execution_count": 40,
      "outputs": [
        {
          "output_type": "execute_result",
          "data": {
            "text/plain": [
              "['Penélope Camacho', 9.5, 9.0, 9.7, True]"
            ]
          },
          "metadata": {},
          "execution_count": 40
        }
      ]
    },
    {
      "cell_type": "code",
      "source": [
        "type(lista)"
      ],
      "metadata": {
        "id": "DO2ubP9N9D_2",
        "colab": {
          "base_uri": "https://localhost:8080/"
        },
        "outputId": "64c56e19-6e91-40b2-e36c-bfbb61db007b"
      },
      "execution_count": 41,
      "outputs": [
        {
          "output_type": "execute_result",
          "data": {
            "text/plain": [
              "list"
            ]
          },
          "metadata": {},
          "execution_count": 41
        }
      ]
    },
    {
      "cell_type": "markdown",
      "source": [
        "Las listas son organizadas en Python porque **cada elemento de la lista tiene un índice que indica su posición al interior de la lista**. Los índices comienzan en 0 van hasta el tamaño de la lista menos 1."
      ],
      "metadata": {
        "id": "qUz3sJNl6LgK"
      }
    },
    {
      "cell_type": "markdown",
      "source": [
        "Tenemos entonces 5 elementos con índices que varían de 0 a 4, ordenadamente:\n",
        "\n",
        "```\n",
        "#             [0]           [1]   [2]   [3]    [4]\n",
        "lista = ['Penélope Camacho', 9.5 , 9.0 , 9.7 , True]\n",
        "```\n",
        "\n",
        "En Python tenemos también los índices **negativos** que se inician en el último elemento con el valor de `-1` y avanzan en el universo de los negativos hasta llegar al 1° elemento:\n",
        "\n",
        "```\n",
        "#             [-5]         [-4]  [-3]  [-2]   [-1]\n",
        "lista = ['Penélope Camacho', 9.5 , 9.0 , 9.7 , True]\n",
        "```\n",
        "\n",
        "Logramos seleccionar separadamente cada elemento a través de sus respectivos índices. Colocando el nombre de la lista y en seguida el índice que será seleccionado."
      ],
      "metadata": {
        "id": "rLf-Qg526hFD"
      }
    },
    {
      "cell_type": "code",
      "source": [
        "type(lista[-1])"
      ],
      "metadata": {
        "id": "4hco1Zqy88Kw",
        "colab": {
          "base_uri": "https://localhost:8080/"
        },
        "outputId": "347aa824-d43c-4e2a-9d05-2c790b25abc2"
      },
      "execution_count": 45,
      "outputs": [
        {
          "output_type": "execute_result",
          "data": {
            "text/plain": [
              "bool"
            ]
          },
          "metadata": {},
          "execution_count": 45
        }
      ]
    },
    {
      "cell_type": "markdown",
      "source": [
        "Una forma más dinámica de trabajar item a item en una lista es utilizando un lazo `for` para leer un elemento a la vez."
      ],
      "metadata": {
        "id": "6TaE1ijmBTCd"
      }
    },
    {
      "cell_type": "code",
      "source": [
        "for elemento in lista:\n",
        "  print(elemento)"
      ],
      "metadata": {
        "id": "rBx4Yu1786Sy",
        "colab": {
          "base_uri": "https://localhost:8080/"
        },
        "outputId": "aa087f6f-8165-44e6-e646-1dfa25384c56"
      },
      "execution_count": 46,
      "outputs": [
        {
          "output_type": "stream",
          "name": "stdout",
          "text": [
            "Penélope Camacho\n",
            "9.5\n",
            "9.0\n",
            "9.7\n",
            "True\n"
          ]
        }
      ]
    },
    {
      "cell_type": "markdown",
      "source": [
        "**Situación**: La nota `9.0` de Penélope necesita ser ajustada pues ganó 1 punto en su última nota por participación en clase. Entonces es necesario realizar un cambio en el índice `2` de `9.0` a `10.0`."
      ],
      "metadata": {
        "id": "Dh1_HnIVvucY"
      }
    },
    {
      "cell_type": "code",
      "source": [
        "lista[2] = 10.0"
      ],
      "metadata": {
        "id": "bVPoZg668z3T"
      },
      "execution_count": 47,
      "outputs": []
    },
    {
      "cell_type": "code",
      "source": [
        "print(lista)"
      ],
      "metadata": {
        "id": "Jo_PBQ0g8z7D",
        "colab": {
          "base_uri": "https://localhost:8080/"
        },
        "outputId": "1e8c84d3-2d60-4474-bc50-56a0a063b2fb"
      },
      "execution_count": 48,
      "outputs": [
        {
          "output_type": "stream",
          "name": "stdout",
          "text": [
            "['Penélope Camacho', 9.5, 10.0, 9.7, True]\n"
          ]
        }
      ]
    },
    {
      "cell_type": "markdown",
      "source": [
        "También podemos calcular el promedio del estudiante a partir de los datos que tenemos."
      ],
      "metadata": {
        "id": "53XduzXkycAf"
      }
    },
    {
      "cell_type": "code",
      "source": [
        "promedio = (lista[1]+lista[2]+lista[3])/3\n",
        "print(promedio)"
      ],
      "metadata": {
        "id": "SIH61Rrb8yv4",
        "colab": {
          "base_uri": "https://localhost:8080/"
        },
        "outputId": "f27777e4-d2b5-4d5a-9d4a-e9458f0699da"
      },
      "execution_count": 50,
      "outputs": [
        {
          "output_type": "stream",
          "name": "stdout",
          "text": [
            "9.733333333333333\n"
          ]
        }
      ]
    },
    {
      "cell_type": "markdown",
      "source": [
        "## Para saber más: String - Una secuencia de caracteres\n",
        "\n",
        "Como se ha visto en clases anteriores, una cadena es un tipo de dato que corresponde a datos de texto. Cuando creamos una cadena, estamos agrupando varios caracteres (números, letras e incluso símbolos), y cada uno de ellos tiene sus índices. Como ejemplo, creemos una cadena con el nombre \"Python\":"
      ],
      "metadata": {
        "id": "WhI4EfHo98lk"
      }
    },
    {
      "cell_type": "code",
      "source": [
        "lenguaje = 'Python'"
      ],
      "metadata": {
        "id": "xkBYHus4-BC6"
      },
      "execution_count": 51,
      "outputs": []
    },
    {
      "cell_type": "markdown",
      "source": [
        "Cada carácter de la cadena \"lenguaje\" se puede acceder mediante su índice, que comienza en 0 y va hasta la cantidad de caracteres de la cadena menos 1, incluyendo índices negativos. Podemos acceder a ellos de la misma manera que lo hacemos con las listas:"
      ],
      "metadata": {
        "id": "JdzddMCu-C35"
      }
    },
    {
      "cell_type": "code",
      "source": [
        "print(lenguaje[0], lenguaje[1], lenguaje[2], lenguaje[-3], lenguaje[-2], lenguaje[-1])"
      ],
      "metadata": {
        "id": "8RVjrLg2-Efi",
        "outputId": "ab078ccd-cae8-43c9-8bef-9ffdd1717520",
        "colab": {
          "base_uri": "https://localhost:8080/"
        }
      },
      "execution_count": 52,
      "outputs": [
        {
          "output_type": "stream",
          "name": "stdout",
          "text": [
            "P y t h o n\n"
          ]
        }
      ]
    },
    {
      "cell_type": "markdown",
      "source": [
        "Salida: P y t h o n\n",
        "\n",
        "Sin embargo, los índices solo se utilizan para acceder a los datos y no se puede cambiar el carácter presente en un índice específico mediante una simple asignación, como se hace con las listas. Por ejemplo, el código lenguaje[0] = 'p' generará un error en la compilación.\n",
        "\n",
        "Con esto en mente, podríamos pensar que una cadena es una estructura de datos similar a una lista, ¿verdad? En realidad, no lo es. Una cadena es una secuencia de caracteres (letras, números, símbolos, etc.) representada por una sola variable. Por otro lado, una estructura de datos almacena una colección de elementos (que pueden ser de diferentes tipos) en una sola variable.\n",
        "\n",
        "Sin embargo, es posible convertir una cadena en una lista mediante el método split(). Este método divide la cadena en una lista de cadenas, utilizando un delimitador especificado entre paréntesis. Este delimitador debe ser una cadena. Como ejemplo, convirtamos la cadena en una lista dividiéndola cada vez que aparezca el signo de interrogación \"?\":"
      ],
      "metadata": {
        "id": "eQOX0D0f-Hxd"
      }
    },
    {
      "cell_type": "code",
      "source": [
        "pregunta = '¿Quién vino primero? ¿El huevo? ¿O fue la serpiente?'\n",
        "lista_palabras = pregunta.split('?')\n",
        "print(lista_palabras)"
      ],
      "metadata": {
        "id": "Q58z4gL9-KC_",
        "outputId": "5819cc00-f3c8-48e4-f9e9-2e226d07e39d",
        "colab": {
          "base_uri": "https://localhost:8080/"
        }
      },
      "execution_count": 53,
      "outputs": [
        {
          "output_type": "stream",
          "name": "stdout",
          "text": [
            "['¿Quién vino primero', ' ¿El huevo', ' ¿O fue la serpiente', '']\n"
          ]
        }
      ]
    },
    {
      "cell_type": "markdown",
      "source": [
        "Salida: ['¿Quién vino primero', ' ¿El huevo', ' ¿O fue la serpiente', '']\n",
        "\n",
        "El delimitador no aparece en la separación. Si no se define un delimitador, la cadena se separará por todos los espacios en blanco en el texto."
      ],
      "metadata": {
        "id": "XirD2860-TNL"
      }
    },
    {
      "cell_type": "code",
      "source": [
        "pregunta = '¿Quién vino primero? ¿El huevo? ¿O fue la serpiente?'\n",
        "lista_palabras = pregunta.split()\n",
        "print(lista_palabras)"
      ],
      "metadata": {
        "id": "PhVxvGd3-Ujo",
        "outputId": "724119f7-8c22-4279-a915-3342204de10e",
        "colab": {
          "base_uri": "https://localhost:8080/"
        }
      },
      "execution_count": 54,
      "outputs": [
        {
          "output_type": "stream",
          "name": "stdout",
          "text": [
            "['¿Quién', 'vino', 'primero?', '¿El', 'huevo?', '¿O', 'fue', 'la', 'serpiente?']\n"
          ]
        }
      ]
    },
    {
      "cell_type": "markdown",
      "source": [
        "Salida: ['¿Quién', 'vino', 'primero?', '¿El', 'huevo?', '¿O', 'fue', 'la', 'serpiente?']\n",
        "\n",
        "Lo contrario también es posible, ya que podemos convertir una lista en una cadena mediante el método join(). Para usar esta función, debemos definir el carácter que se utilizará para unir los elementos de la lista y formar la cadena. Luego, usamos el método { join() pasando la lista como argumento. Veamos un ejemplo con una lista que contiene el resultado de algunas mezclas de colores primarios en pintura:"
      ],
      "metadata": {
        "id": "K9lXkJ_l-bJM"
      }
    },
    {
      "cell_type": "code",
      "source": [
        "mezclas = ['Pinturas: rojo, azul y amarillo',\n",
        "            'Verde: mezcla de azul y amarillo',\n",
        "            'Naranja: mezcla de rojo y amarillo',\n",
        "            'Morado: mezcla de rojo y azul']\n",
        "unificador = '. '\n",
        "cadena_mezclas = unificador.join(mezclas)\n",
        "print(cadena_mezclas)"
      ],
      "metadata": {
        "id": "tLd5MWh4-b90",
        "outputId": "7c1c3192-f163-4f04-e171-dd7bc4149bce",
        "colab": {
          "base_uri": "https://localhost:8080/"
        }
      },
      "execution_count": 55,
      "outputs": [
        {
          "output_type": "stream",
          "name": "stdout",
          "text": [
            "Pinturas: rojo, azul y amarillo. Verde: mezcla de azul y amarillo. Naranja: mezcla de rojo y amarillo. Morado: mezcla de rojo y azul\n"
          ]
        }
      ]
    },
    {
      "cell_type": "markdown",
      "source": [
        "## Manipulación de listas\n",
        "\n",
        "Las listas son muy útiles en Python porque nos permiten almacenar y acceder a una colección de items de manera organizada y rápida. Estas también ofrecen muchos métodos útiles para manipular los itens almacenados, como adicionar, remover, clasificar y buscar elementos."
      ],
      "metadata": {
        "id": "d-iYr10-y4qw"
      }
    },
    {
      "cell_type": "markdown",
      "source": [
        "#### Cantidad de elementos\n",
        "\n",
        "Usamos la función [`len()`](https://docs.python.org/3/library/functions.html#len) para descubrir la cantidad de elementos de un conjunto."
      ],
      "metadata": {
        "id": "ZLqx9A97XVB_"
      }
    },
    {
      "cell_type": "code",
      "source": [
        "len(lista)"
      ],
      "metadata": {
        "id": "6q1Tmm7P8wQf",
        "colab": {
          "base_uri": "https://localhost:8080/"
        },
        "outputId": "23231e9d-e1ab-49c7-8545-dea680419223"
      },
      "execution_count": 56,
      "outputs": [
        {
          "output_type": "execute_result",
          "data": {
            "text/plain": [
              "5"
            ]
          },
          "metadata": {},
          "execution_count": 56
        }
      ]
    },
    {
      "cell_type": "markdown",
      "source": [
        "#### Partición\n",
        "\n",
        "La partición de listas por indexación en Python es una técnica muy útil para seleccionar un subconjunto de elementos de una lista. Esta se realiza usando la sintaxis `lista[inicio:fin]`, donde `inicio` es el índice del primer elemento que será incluído en la partición `fin` es el índice del primer elemento que será excluído de la partición."
      ],
      "metadata": {
        "id": "Z5tpstlHJss3"
      }
    },
    {
      "cell_type": "code",
      "source": [
        "lista[0:2]"
      ],
      "metadata": {
        "id": "NctvJTTU8uV9",
        "colab": {
          "base_uri": "https://localhost:8080/"
        },
        "outputId": "df1033f9-feae-46b0-d814-da714d0a1502"
      },
      "execution_count": 57,
      "outputs": [
        {
          "output_type": "execute_result",
          "data": {
            "text/plain": [
              "['Penélope Camacho', 9.5]"
            ]
          },
          "metadata": {},
          "execution_count": 57
        }
      ]
    },
    {
      "cell_type": "code",
      "source": [
        "lista[:3]"
      ],
      "metadata": {
        "id": "bQZUwldj8uY2",
        "colab": {
          "base_uri": "https://localhost:8080/"
        },
        "outputId": "acffc674-0bca-4ce7-eab3-41de4ba1df47"
      },
      "execution_count": 58,
      "outputs": [
        {
          "output_type": "execute_result",
          "data": {
            "text/plain": [
              "['Penélope Camacho', 9.5, 10.0]"
            ]
          },
          "metadata": {},
          "execution_count": 58
        }
      ]
    },
    {
      "cell_type": "code",
      "source": [
        "lista[3:]"
      ],
      "metadata": {
        "id": "G_CIQdb4_Spm",
        "outputId": "a228400d-db90-4d43-a17a-db57736399c4",
        "colab": {
          "base_uri": "https://localhost:8080/"
        }
      },
      "execution_count": 59,
      "outputs": [
        {
          "output_type": "execute_result",
          "data": {
            "text/plain": [
              "[9.7, True]"
            ]
          },
          "metadata": {},
          "execution_count": 59
        }
      ]
    },
    {
      "cell_type": "code",
      "source": [
        "lista[:]"
      ],
      "metadata": {
        "id": "QZMkme70_YOV",
        "outputId": "a38d8ceb-e5d4-4669-be90-9a49998d3b18",
        "colab": {
          "base_uri": "https://localhost:8080/"
        }
      },
      "execution_count": 60,
      "outputs": [
        {
          "output_type": "execute_result",
          "data": {
            "text/plain": [
              "['Penélope Camacho', 9.5, 10.0, 9.7, True]"
            ]
          },
          "metadata": {},
          "execution_count": 60
        }
      ]
    },
    {
      "cell_type": "markdown",
      "source": [
        "#### [`append()`](https://docs.python.org/3/tutorial/datastructures.html#:~:text=of%20list%20objects%3A-,list.append(x),-Add%20an%20item)\n",
        "\n",
        "Añade un elemento al final de la lista."
      ],
      "metadata": {
        "id": "O0RRyabkRzZC"
      }
    },
    {
      "cell_type": "code",
      "source": [
        "lista.append(promedio)"
      ],
      "metadata": {
        "id": "_Q0oODwa8spC"
      },
      "execution_count": 61,
      "outputs": []
    },
    {
      "cell_type": "code",
      "source": [
        "lista"
      ],
      "metadata": {
        "id": "RM894r2M8sse",
        "colab": {
          "base_uri": "https://localhost:8080/"
        },
        "outputId": "2bfc278b-a635-4d18-c59a-d1bd3f672c1c"
      },
      "execution_count": 66,
      "outputs": [
        {
          "output_type": "execute_result",
          "data": {
            "text/plain": [
              "['Penélope Camacho',\n",
              " 9.5,\n",
              " 10.0,\n",
              " 9.7,\n",
              " True,\n",
              " 9.733333333333333,\n",
              " 10.0,\n",
              " 8.0,\n",
              " 9.0,\n",
              " [10.0, 8.0, 9.0]]"
            ]
          },
          "metadata": {},
          "execution_count": 66
        }
      ]
    },
    {
      "cell_type": "markdown",
      "source": [
        "#### [`extend()`](https://docs.python.org/3/tutorial/datastructures.html#:~:text=list.extend(iterable))\n",
        "\n",
        "Añade varios elementos al final de la lista.\n",
        "\n",
        "Añadiremos las notas `[10.0,8.0,9.0]` En la lista de Penélope Camacho."
      ],
      "metadata": {
        "id": "uQV91XMsUOJD"
      }
    },
    {
      "cell_type": "code",
      "source": [
        "lista.extend([10.0,8.0,9.0])"
      ],
      "metadata": {
        "id": "6Zk2MpMw8rQc"
      },
      "execution_count": 63,
      "outputs": []
    },
    {
      "cell_type": "markdown",
      "source": [
        "*A continuación te mostraremos lo que no puede realizarse con* `append`."
      ],
      "metadata": {
        "id": "IVJvkTwNUk6M"
      }
    },
    {
      "cell_type": "code",
      "source": [
        "lista.append([10.0,8.0,9.0])"
      ],
      "metadata": {
        "id": "u3Eub2ZL8pp3"
      },
      "execution_count": 65,
      "outputs": []
    },
    {
      "cell_type": "markdown",
      "source": [
        "#### [`remove()`](https://docs.python.org/3/tutorial/datastructures.html#:~:text=append(x).-,list.remove(x),-Remove%20the%20first)\n",
        "\n",
        "Remueve un elemento específico de la lista."
      ],
      "metadata": {
        "id": "dPGM5gpyUX1z"
      }
    },
    {
      "cell_type": "code",
      "source": [
        "lista.remove([10.0,8.0,9.0])"
      ],
      "metadata": {
        "id": "mmboODPc8nd5"
      },
      "execution_count": 67,
      "outputs": []
    },
    {
      "cell_type": "code",
      "source": [
        "lista"
      ],
      "metadata": {
        "id": "T_w6vVgV8nh_",
        "colab": {
          "base_uri": "https://localhost:8080/"
        },
        "outputId": "524ea3a8-690e-468e-9478-2d72839ef9a5"
      },
      "execution_count": 68,
      "outputs": [
        {
          "output_type": "execute_result",
          "data": {
            "text/plain": [
              "['Penélope Camacho', 9.5, 10.0, 9.7, True, 9.733333333333333, 10.0, 8.0, 9.0]"
            ]
          },
          "metadata": {},
          "execution_count": 68
        }
      ]
    },
    {
      "cell_type": "markdown",
      "source": [
        "## Para saber más: otras manipulaciones para las listas\n",
        "\n",
        "Hemos estudiado algunos métodos en clase, y además de esos, podemos utilizar otros para manipular listas en Python. Vamos a conocerlos y ver ejemplos de cómo se utilizan. En todos los casos, utilizaremos la siguiente lista llamada \"razas_de_perros\":"
      ],
      "metadata": {
        "id": "zVn2-EHXAZTF"
      }
    },
    {
      "cell_type": "code",
      "source": [
        "razas_de_perros = ['Labrador Retriever',\n",
        "                   'Bulldog Francés',\n",
        "                   'Pastor Alemán',\n",
        "                   'Poodle']"
      ],
      "metadata": {
        "id": "rEuLQ-GlAdG0"
      },
      "execution_count": 69,
      "outputs": []
    },
    {
      "cell_type": "markdown",
      "source": [
        "El primer método es insert(), que permite insertar un elemento en una posición específica de la lista. La sintaxis es lista.insert(indice, elemento), donde \"lista\" es la lista que recibirá el nuevo elemento, \"indice\" es la posición donde se insertará el nuevo elemento y \"elemento\" es el nuevo elemento que se insertará."
      ],
      "metadata": {
        "id": "CeRzeK76AfYa"
      }
    },
    {
      "cell_type": "code",
      "source": [
        "razas_de_perros.insert(1, 'Golden Retriever')\n",
        "razas_de_perros"
      ],
      "metadata": {
        "id": "hddXqsQ-Ah3A",
        "outputId": "9ce10899-bd57-4ced-8a72-4ff71ca3d38e",
        "colab": {
          "base_uri": "https://localhost:8080/"
        }
      },
      "execution_count": 70,
      "outputs": [
        {
          "output_type": "execute_result",
          "data": {
            "text/plain": [
              "['Labrador Retriever',\n",
              " 'Golden Retriever',\n",
              " 'Bulldog Francés',\n",
              " 'Pastor Alemán',\n",
              " 'Poodle']"
            ]
          },
          "metadata": {},
          "execution_count": 70
        }
      ]
    },
    {
      "cell_type": "markdown",
      "source": [
        "Salida: ['Labrador Retriever', 'Golden Retriever', 'Bulldog Francés', 'Pastor Alemán', 'Poodle']\n",
        "\n",
        "Siguiendo este enfoque, la estructura lista.insert(len(lista), elemento) es equivalente al uso del método append(), como vimos en el video anterior titulado \"Manipulación de listas\".\n",
        "\n",
        "El método pop() elimina el elemento en una posición específica de la lista y lo devuelve como salida al ejecutar el método. Solo necesitamos especificar, entre paréntesis, el índice del elemento que deseamos eliminar, y se eliminará de la lista. Por lo tanto, eliminemos la raza \"Golden Retriever\" que agregamos en el método anterior."
      ],
      "metadata": {
        "id": "6AQP2CtVAnPA"
      }
    },
    {
      "cell_type": "code",
      "source": [
        "razas_de_perros.pop(1)"
      ],
      "metadata": {
        "id": "T2cRDvNpApz0",
        "outputId": "afce8bef-c46e-4353-c1b5-27f62d5df09a",
        "colab": {
          "base_uri": "https://localhost:8080/",
          "height": 36
        }
      },
      "execution_count": 71,
      "outputs": [
        {
          "output_type": "execute_result",
          "data": {
            "text/plain": [
              "'Golden Retriever'"
            ],
            "application/vnd.google.colaboratory.intrinsic+json": {
              "type": "string"
            }
          },
          "metadata": {},
          "execution_count": 71
        }
      ]
    },
    {
      "cell_type": "markdown",
      "source": [
        "El método index() devuelve el índice de un elemento específico en la lista. Para hacerlo, especificamos el elemento entre paréntesis. Para encontrar el índice de la raza \"Pastor Alemán\" en la lista, hacemos lo siguiente:"
      ],
      "metadata": {
        "id": "qCGUjkOgAspX"
      }
    },
    {
      "cell_type": "code",
      "source": [
        "razas_de_perros.index('Pastor Alemán')"
      ],
      "metadata": {
        "id": "gt5Q8G8nAuuL",
        "outputId": "bd998c48-2522-4d38-c4c9-10c87e05a7d6",
        "colab": {
          "base_uri": "https://localhost:8080/"
        }
      },
      "execution_count": 72,
      "outputs": [
        {
          "output_type": "execute_result",
          "data": {
            "text/plain": [
              "2"
            ]
          },
          "metadata": {},
          "execution_count": 72
        }
      ]
    },
    {
      "cell_type": "markdown",
      "source": [
        "Salida: 2\n",
        "\n",
        "El método sort() ordena los elementos de la lista en orden ascendente o descendente. Si son palabras, el orden se basa en el orden alfabético o en el orden inverso. Para ordenar los valores, simplemente llamamos al método sort(), y la lista se organizará en orden. Para ordenar alfabéticamente la lista de razas de perros, podemos usar el siguiente código:"
      ],
      "metadata": {
        "id": "yKxYb4xeAwro"
      }
    },
    {
      "cell_type": "code",
      "source": [
        "razas_de_perros.sort()\n",
        "razas_de_perros"
      ],
      "metadata": {
        "id": "ZghbVyq4AzBo",
        "outputId": "cea57761-d04c-41e6-ecf1-cf048f642f2b",
        "colab": {
          "base_uri": "https://localhost:8080/"
        }
      },
      "execution_count": 73,
      "outputs": [
        {
          "output_type": "execute_result",
          "data": {
            "text/plain": [
              "['Bulldog Francés', 'Labrador Retriever', 'Pastor Alemán', 'Poodle']"
            ]
          },
          "metadata": {},
          "execution_count": 73
        }
      ]
    },
    {
      "cell_type": "markdown",
      "source": [
        "## Diccionario"
      ],
      "metadata": {
        "id": "Rc22Vc08YDZ2"
      }
    },
    {
      "cell_type": "markdown",
      "source": [
        "Los diccionarios son un tipo de estructura de datos que almacenan pares de *llave-valor*. Estos son delimitados por llaves `{}` y los pares *llave-valor* son separados por comas.\n",
        "\n",
        "```\n",
        "diccionario = {llave: valor}\n",
        "```\n",
        "\n",
        "La **llave** es un elemento único que identifica a un valor en el diccionario, mientras que el **valor** es el item que será almacenado para la llave. Las llaves y sus respectivos valores se pueden emplear para **cualquier tipo de dato**.\n",
        "\n",
        "Los diccionarios son útiles para almacenar y acceder a los datos de manera organizada y rápida. Se trata de un tipo de conjunto de elementos en Python, pues almacenan una colección de items."
      ],
      "metadata": {
        "id": "PJ-cCKPjeWxL"
      }
    },
    {
      "cell_type": "code",
      "source": [
        "diccionario = {\n",
        "    'llave1':1,\n",
        "    'llave2':2\n",
        "}\n",
        "\n",
        "diccionario"
      ],
      "metadata": {
        "id": "NDHhzooE8ld5",
        "colab": {
          "base_uri": "https://localhost:8080/"
        },
        "outputId": "2cf3135e-0155-48a6-a42b-af5fc8e3471f"
      },
      "execution_count": 74,
      "outputs": [
        {
          "output_type": "execute_result",
          "data": {
            "text/plain": [
              "{'llave1': 1, 'llave2': 2}"
            ]
          },
          "metadata": {},
          "execution_count": 74
        }
      ]
    },
    {
      "cell_type": "markdown",
      "source": [
        "---\n",
        "**Situación:**\n",
        "\n",
        "Vamos a crear un conjunto de datos con las informaciones de matrícula de un estudiante. Los datos son los siguientes:\n",
        "\n",
        "- matrícula: 2000168933\n",
        "- día de registro: 25\n",
        "- mes de registro: 10\n",
        "- grupo: 2E"
      ],
      "metadata": {
        "id": "_JbQ3KMKfkXU"
      }
    },
    {
      "cell_type": "code",
      "source": [
        "estudiante = {\n",
        "    \"matrícula\": 2000168933,\n",
        "    \"día de registro\": 25,\n",
        "    \"mes de registro\": 10,\n",
        "    \"grupo\": \"2E\"\n",
        "}\n",
        "\n",
        "estudiante"
      ],
      "metadata": {
        "id": "0lfOu_c38jED",
        "colab": {
          "base_uri": "https://localhost:8080/"
        },
        "outputId": "1944599d-49a6-491e-8b81-ddca9605299c"
      },
      "execution_count": 76,
      "outputs": [
        {
          "output_type": "execute_result",
          "data": {
            "text/plain": [
              "{'matrícula': 2000168933,\n",
              " 'día de registro': 25,\n",
              " 'mes de registro': 10,\n",
              " 'grupo': '2E'}"
            ]
          },
          "metadata": {},
          "execution_count": 76
        }
      ]
    },
    {
      "cell_type": "markdown",
      "source": [
        "Es posible sustituir los valores dentro de una llave. Por ejemplo, recibimos la información de que el grupo del estudiante que registramos cambio a `'2G'` y ahora necesitamos cambiar el valor de la llave `'grupo'`."
      ],
      "metadata": {
        "id": "8ex5pt2ykDd2"
      }
    },
    {
      "cell_type": "code",
      "source": [
        "estudiante[\"matrícula\"]"
      ],
      "metadata": {
        "id": "kQGlp36b8fyP",
        "colab": {
          "base_uri": "https://localhost:8080/"
        },
        "outputId": "8566fe85-cbfc-4902-c6d2-3e51523f220e"
      },
      "execution_count": 80,
      "outputs": [
        {
          "output_type": "execute_result",
          "data": {
            "text/plain": [
              "2000168933"
            ]
          },
          "metadata": {},
          "execution_count": 80
        }
      ]
    },
    {
      "cell_type": "code",
      "source": [
        "estudiante[\"grupo\"] = \"2G\""
      ],
      "metadata": {
        "id": "DnfH_qHi8f17"
      },
      "execution_count": 81,
      "outputs": []
    },
    {
      "cell_type": "code",
      "source": [
        "estudiante"
      ],
      "metadata": {
        "id": "2yRizrpkCHw1",
        "outputId": "10d9944b-f461-4882-f0c2-03f52a028dec",
        "colab": {
          "base_uri": "https://localhost:8080/"
        }
      },
      "execution_count": 82,
      "outputs": [
        {
          "output_type": "execute_result",
          "data": {
            "text/plain": [
              "{'matrícula': 2000168933,\n",
              " 'día de registro': 25,\n",
              " 'mes de registro': 10,\n",
              " 'grupo': '2G'}"
            ]
          },
          "metadata": {},
          "execution_count": 82
        }
      ]
    },
    {
      "cell_type": "markdown",
      "source": [
        "También podemos añadir otros datos al diccionario. Vamos a añadir la información sobre la modalidad de estudio, nuestro estudiante estudiará inicialemente en la modalidad EAD.\n",
        "\n",
        "Definiremos una llave llamada `'modalidad'` con el valor `'EAD'`."
      ],
      "metadata": {
        "id": "wB0qRb56mQvv"
      }
    },
    {
      "cell_type": "code",
      "source": [
        "estudiante ['modalidad'] = 'EAD'"
      ],
      "metadata": {
        "id": "EeLYdlIm8d8a"
      },
      "execution_count": 83,
      "outputs": []
    },
    {
      "cell_type": "code",
      "source": [
        "estudiante"
      ],
      "metadata": {
        "id": "olDIavsm8d_o",
        "colab": {
          "base_uri": "https://localhost:8080/"
        },
        "outputId": "62078bbf-4e32-489e-f3eb-9d8587c65217"
      },
      "execution_count": 84,
      "outputs": [
        {
          "output_type": "execute_result",
          "data": {
            "text/plain": [
              "{'matrícula': 2000168933,\n",
              " 'día de registro': 25,\n",
              " 'mes de registro': 10,\n",
              " 'grupo': '2G',\n",
              " 'modalidad': 'EAD'}"
            ]
          },
          "metadata": {},
          "execution_count": 84
        }
      ]
    },
    {
      "cell_type": "markdown",
      "source": [
        "## Profundizando en diccionarios"
      ],
      "metadata": {
        "id": "LJ3o_inroxg_"
      }
    },
    {
      "cell_type": "markdown",
      "source": [
        "#### [`pop()`](https://python-reference.readthedocs.io/en/latest/docs/dict/pop.html)\n",
        "Remueve un item de un diccionario y lo representa en la salida."
      ],
      "metadata": {
        "id": "2N3GLlkSpBiu"
      }
    },
    {
      "cell_type": "code",
      "source": [
        "estudiante.pop('grupo')"
      ],
      "metadata": {
        "id": "ZsSCZx6G8b-T",
        "colab": {
          "base_uri": "https://localhost:8080/",
          "height": 36
        },
        "outputId": "12e65010-354a-484c-a2df-7fb815b53fdb"
      },
      "execution_count": 85,
      "outputs": [
        {
          "output_type": "execute_result",
          "data": {
            "text/plain": [
              "'2G'"
            ],
            "application/vnd.google.colaboratory.intrinsic+json": {
              "type": "string"
            }
          },
          "metadata": {},
          "execution_count": 85
        }
      ]
    },
    {
      "cell_type": "code",
      "source": [
        "estudiante"
      ],
      "metadata": {
        "id": "7lQ8_jpi8cBR",
        "colab": {
          "base_uri": "https://localhost:8080/"
        },
        "outputId": "5a497625-873a-46c9-82b7-2b5b0d77053f"
      },
      "execution_count": 86,
      "outputs": [
        {
          "output_type": "execute_result",
          "data": {
            "text/plain": [
              "{'matrícula': 2000168933,\n",
              " 'día de registro': 25,\n",
              " 'mes de registro': 10,\n",
              " 'modalidad': 'EAD'}"
            ]
          },
          "metadata": {},
          "execution_count": 86
        }
      ]
    },
    {
      "cell_type": "markdown",
      "source": [
        "#### [`items()`](https://python-reference.readthedocs.io/en/latest/docs/dict/items.html)\n",
        "Retorna una lista de pares `llave-valor` del diccionario."
      ],
      "metadata": {
        "id": "sYZGvJJYrW_y"
      }
    },
    {
      "cell_type": "code",
      "source": [
        "estudiante.items()"
      ],
      "metadata": {
        "id": "ncdycLV08an7",
        "colab": {
          "base_uri": "https://localhost:8080/"
        },
        "outputId": "1efe0429-7c5e-4e7e-85ef-c7e1d626c563"
      },
      "execution_count": 87,
      "outputs": [
        {
          "output_type": "execute_result",
          "data": {
            "text/plain": [
              "dict_items([('matrícula', 2000168933), ('día de registro', 25), ('mes de registro', 10), ('modalidad', 'EAD')])"
            ]
          },
          "metadata": {},
          "execution_count": 87
        }
      ]
    },
    {
      "cell_type": "markdown",
      "source": [
        "#### [`keys()`](https://python-reference.readthedocs.io/en/latest/docs/dict/keys.html)\n",
        "Retorna una lista de las llaves del diccionario."
      ],
      "metadata": {
        "id": "Lb0utNFGrZBY"
      }
    },
    {
      "cell_type": "code",
      "source": [
        "estudiante.keys()"
      ],
      "metadata": {
        "id": "eZo0biaM8ZVs",
        "colab": {
          "base_uri": "https://localhost:8080/"
        },
        "outputId": "57304d29-a42d-4045-f156-b06c31791243"
      },
      "execution_count": 88,
      "outputs": [
        {
          "output_type": "execute_result",
          "data": {
            "text/plain": [
              "dict_keys(['matrícula', 'día de registro', 'mes de registro', 'modalidad'])"
            ]
          },
          "metadata": {},
          "execution_count": 88
        }
      ]
    },
    {
      "cell_type": "markdown",
      "source": [
        "#### [`values()`](https://python-reference.readthedocs.io/en/latest/docs/dict/values.html)\n",
        "Retorna una lista de los valores del diccionario."
      ],
      "metadata": {
        "id": "qKyu3bf9rbtX"
      }
    },
    {
      "cell_type": "code",
      "source": [
        "estudiante.values()"
      ],
      "metadata": {
        "id": "-NxRT9C18Yvo",
        "colab": {
          "base_uri": "https://localhost:8080/"
        },
        "outputId": "7ce73d3a-d981-45d1-edfb-14527b8bea44"
      },
      "execution_count": 89,
      "outputs": [
        {
          "output_type": "execute_result",
          "data": {
            "text/plain": [
              "dict_values([2000168933, 25, 10, 'EAD'])"
            ]
          },
          "metadata": {},
          "execution_count": 89
        }
      ]
    },
    {
      "cell_type": "markdown",
      "source": [
        "### Lectura de valores con el lazo `for`"
      ],
      "metadata": {
        "id": "e3XVjR8Frp75"
      }
    },
    {
      "cell_type": "code",
      "source": [
        "for llave in estudiante.keys():\n",
        "  print(llave)"
      ],
      "metadata": {
        "id": "NYcjU-Ip8Xan",
        "colab": {
          "base_uri": "https://localhost:8080/"
        },
        "outputId": "44fd933b-b0ac-457e-f13b-ae546df87a14"
      },
      "execution_count": 90,
      "outputs": [
        {
          "output_type": "stream",
          "name": "stdout",
          "text": [
            "matrícula\n",
            "día de registro\n",
            "mes de registro\n",
            "modalidad\n"
          ]
        }
      ]
    },
    {
      "cell_type": "code",
      "source": [
        "for llave,valor in estudiante.items():\n",
        "  print(llave, '-->',valor)\n"
      ],
      "metadata": {
        "id": "aAnpP1Wv8XfJ",
        "colab": {
          "base_uri": "https://localhost:8080/"
        },
        "outputId": "3b8ae134-d688-488a-f83d-f28f5706c9bd"
      },
      "execution_count": 91,
      "outputs": [
        {
          "output_type": "stream",
          "name": "stdout",
          "text": [
            "matrícula --> 2000168933\n",
            "día de registro --> 25\n",
            "mes de registro --> 10\n",
            "modalidad --> EAD\n"
          ]
        }
      ]
    }
  ]
}